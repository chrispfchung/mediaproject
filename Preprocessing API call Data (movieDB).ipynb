{
 "cells": [
  {
   "cell_type": "markdown",
   "metadata": {},
   "source": [
    "## Cleaning Data (API Called) 6950 data points"
   ]
  },
  {
   "cell_type": "code",
   "execution_count": null,
   "metadata": {},
   "outputs": [],
   "source": [
    "#import libraries\n",
    "import numpy as np\n",
    "import matplotlib.pyplot as plt\n",
    "%matplotlib inline\n",
    "import seaborn as sns\n",
    "\n",
    "#read in CSV\n",
    "df = pd.read_csv('movieDB_API_movies.csv') \n",
    "\n",
    "# drop useless column index-like column\n",
    "df = df.drop(columns='Unnamed: 0') \n",
    "\n",
    "## Create Metric Columns\n",
    "# Create Total Profit Column WITH values containing budget/revenue\n",
    "df['gross_profit'] = round(df[(df['revenue'] != 0) & (df['budget'] != 0)]['revenue'] -df[(df['revenue'] != 0) & (df['budget'] != 0)]['budget'],2)\n",
    "# Create ROI column\n",
    "df['ROI (%)'] = round((df['gross_profit'] / df['budget']) * 100,2)\n",
    "\n",
    "# there are 2677 with null gross_profit, we want to\n",
    "df_profits = df[df['gross_profit'].notna()]\n",
    "\n",
    "# pd.DataFrame(df_profits).to_csv('movieDB_API_movies_w_gross_profits_&_ROI.csv') #Turn into csv file for easy access"
   ]
  },
  {
   "cell_type": "code",
   "execution_count": null,
   "metadata": {},
   "outputs": [],
   "source": [
    "df_profits.head() # this is what our data looks like"
   ]
  },
  {
   "cell_type": "code",
   "execution_count": null,
   "metadata": {},
   "outputs": [],
   "source": [
    "df_profits.info() # 6950 no missing data apparently, 4273/6950 have gross_profit (61% of data can use profit metric)"
   ]
  },
  {
   "cell_type": "markdown",
   "metadata": {},
   "source": [
    "## What are the genres?"
   ]
  },
  {
   "cell_type": "code",
   "execution_count": null,
   "metadata": {},
   "outputs": [],
   "source": [
    "#showing first ten genres\n",
    "df_profits['genres'].value_counts()[0:10] #we should keep the combinations... They're important\n",
    "\n",
    "### MY ANALYSIS\n",
    "# What genres do we have?\n",
    "## 1625 unique combinations of genres\n",
    "\n",
    "# Top 3 Genres?\n",
    "## Comedy 552/1625 or 34%\n",
    "## Drama 419/1625 or 26%\n",
    "## (Drama + Romance) 195/1625 or 12%"
   ]
  },
  {
   "cell_type": "code",
   "execution_count": null,
   "metadata": {},
   "outputs": [],
   "source": [
    "genre_count_list = []\n",
    "pd.DataFrame(df['genres']).iloc[0]\n",
    "# so far each entry is made up of strings\n",
    "\n",
    "df['genres'].value_counts() # maybe we can see for each genres "
   ]
  },
  {
   "cell_type": "code",
   "execution_count": null,
   "metadata": {},
   "outputs": [],
   "source": [
    "# each movie you have has a profit_margin (ROI)\n",
    "# you have 1 movie with a list of genres ['Action, Adventure','Fantasy'a]\n",
    "# 657\n",
    "df_profits.head()"
   ]
  },
  {
   "cell_type": "markdown",
   "metadata": {},
   "source": [
    "## Preprocess Data to Calculate Average Weighted Budget for Each Genre"
   ]
  },
  {
   "cell_type": "code",
   "execution_count": null,
   "metadata": {},
   "outputs": [],
   "source": [
    "import ast #one example\n",
    "from tqdm import tqdm # progress bar\n",
    "\n",
    "#Fix data type of Genre Column\n",
    "df['genres'][0]\n",
    "res = ast.literal_eval(df['genres'][0]) \n",
    "\n",
    "df_profits = df_profits.reset_index(drop=True)\n",
    "\n",
    "res_list = [] #loop through\n",
    "for i in df_profits['genres']:\n",
    "    res = ast.literal_eval(i)\n",
    "    res_list.append(res)\n",
    "\n",
    "df_profits['genres'] = res_list\n",
    "df_profits['genres']"
   ]
  },
  {
   "cell_type": "code",
   "execution_count": null,
   "metadata": {},
   "outputs": [],
   "source": [
    "# count of all genres\n",
    "genre_and_count ={}\n",
    "for genres in df_profits.genres:\n",
    "    for genre in genres:\n",
    "        genre_and_count[genre] = genre_and_count.get(genre, 1) + 1 "
   ]
  },
  {
   "cell_type": "code",
   "execution_count": null,
   "metadata": {},
   "outputs": [],
   "source": [
    "print(sum(genres_count.values()))\n",
    "genres_count"
   ]
  },
  {
   "cell_type": "code",
   "execution_count": null,
   "metadata": {},
   "outputs": [],
   "source": [
    "# graph of the number of genres\n",
    "fig, ax = plt.subplots(figsize=(15,6))\n",
    "plt.xticks(rotation=45)\n",
    "plt.bar(genres_count.keys(), genres_count.values());"
   ]
  },
  {
   "cell_type": "markdown",
   "metadata": {},
   "source": [
    "## Calculate Average Weighted Budget for Each Genre"
   ]
  },
  {
   "cell_type": "code",
   "execution_count": null,
   "metadata": {},
   "outputs": [],
   "source": [
    "# get number of genres per row and divide it by the budget\n",
    "df_profits['qty_of_genres'] = df_profits['genres'].map(lambda x: len(x)) # get len of each genre and create column\n",
    "df_profits['weighted_budget']  = round(df_profits['budget'] / df_profits['qty_of_genres'],2) #divide budget/genre qty for weights"
   ]
  },
  {
   "cell_type": "code",
   "execution_count": null,
   "metadata": {},
   "outputs": [],
   "source": [
    "#sum the weighted budget for each genre to average it by the number of individual genres in next cell\n",
    "genre_wbudget ={} \n",
    "for index in df_profits.index:\n",
    "    for genre in df_profits['genres'][index]:\n",
    "        budget = df_profits['weighted_budget'][index] \n",
    "        genre_wbudget[genre] = genre_wbudget.get(genre,0) + budget\n",
    "genre_wbudget"
   ]
  },
  {
   "cell_type": "code",
   "execution_count": null,
   "metadata": {},
   "outputs": [],
   "source": [
    "# get average of the weighted budget by genre count\n",
    "genre_and_weight_budget = {}\n",
    "for genre, budget in genre_wbudget.items():\n",
    "    genre_and_weight_budget.update({genre:budget / genre_and_count[genre]})\n",
    "genre_and_weight_budget "
   ]
  },
  {
   "cell_type": "code",
   "execution_count": null,
   "metadata": {},
   "outputs": [],
   "source": [
    "plt.figure(figsize=(12,8));\n",
    "plt.bar(genre_and_weight_budget.keys(),genre_and_weight_budget.values());\n",
    "plt.title('Genres and their weighted average budget');\n",
    "plt.xlabel('Genres');\n",
    "plt.ylabel('Average Budget');\n",
    "plt.xticks(rotation=45)\n",
    "plt.show()"
   ]
  },
  {
   "cell_type": "markdown",
   "metadata": {},
   "source": [
    "## Calculate Average Weighted ROI for Each Genre"
   ]
  },
  {
   "cell_type": "code",
   "execution_count": null,
   "metadata": {},
   "outputs": [],
   "source": [
    "def reject_outliers(data, m=2):\n",
    "    return data[abs(data['ROI (%)'] - np.mean(data['ROI (%)'])) < m * np.std(data['ROI (%)'])]\n",
    "\n",
    "df_profits = reject_outliers(df_profits, m=2)\n",
    "df_profits[df_profits['title'] == 'Paranormal Activity']"
   ]
  },
  {
   "cell_type": "code",
   "execution_count": null,
   "metadata": {},
   "outputs": [],
   "source": [
    "df_profits['weighted_ROI']  = round(df_profits['ROI (%)'] / df_profits['qty_of_genres'],2) #divide budget/genre qty for weights\n",
    "# sum the weight\n",
    "# sum the weight / qty"
   ]
  },
  {
   "cell_type": "code",
   "execution_count": null,
   "metadata": {
    "scrolled": true
   },
   "outputs": [],
   "source": [
    "# trying to link genre to the ROI\n",
    "genre_roi_sum = {}\n",
    "for index in df_profits.index:\n",
    "    for genre in df_profits['genres'][index]:\n",
    "        roi = df_profits['weighted_ROI'][index] \n",
    "        genre_roi_sum[genre] = genre_roi_sum.get(genre,0) + roi    \n",
    "genre_roi_sum"
   ]
  },
  {
   "cell_type": "code",
   "execution_count": null,
   "metadata": {},
   "outputs": [],
   "source": [
    "unique_genres = list(genre_roi_sum.keys())\n",
    "unique_genres"
   ]
  },
  {
   "cell_type": "code",
   "execution_count": null,
   "metadata": {},
   "outputs": [],
   "source": [
    "genre_weighted_roi = {}\n",
    "for genre, roi in genre_roi_sum.items():\n",
    "    genre_weighted_roi.update({genre: roi / genre_and_count[genre]})\n",
    "genre_weighted_roi"
   ]
  },
  {
   "cell_type": "code",
   "execution_count": null,
   "metadata": {},
   "outputs": [],
   "source": [
    "plt.figure(figsize=(12,8));\n",
    "plt.bar(genre_weighted_roi.keys(),genre_weighted_roi.values());\n",
    "plt.title('Genres and their weighted average ROI');\n",
    "plt.xlabel('Genres');\n",
    "plt.ylabel('Average ROI');\n",
    "plt.xticks(rotation=45)\n",
    "plt.show()"
   ]
  },
  {
   "cell_type": "code",
   "execution_count": null,
   "metadata": {},
   "outputs": [],
   "source": [
    "plt.figure(figsize=(12,8));\n",
    "plt.bar(genre_weighted_roi.keys(),genre_weighted_roi.values());\n",
    "plt.title('Genres and their weighted average ROI');\n",
    "plt.xlabel('Genres');\n",
    "plt.ylabel('Average ROI');\n",
    "plt.xticks(rotation=45)\n",
    "plt.show()"
   ]
  },
  {
   "cell_type": "code",
   "execution_count": null,
   "metadata": {},
   "outputs": [],
   "source": [
    "#we should turn the years into most recent so that we can give examples of excellent ROI\n",
    "df_profits[df_profits['genres'].map(lambda x: 'Horror' in x)]['release_date']"
   ]
  },
  {
   "cell_type": "code",
   "execution_count": null,
   "metadata": {},
   "outputs": [],
   "source": [
    "df_profits[df_profits['genres'].map(lambda x: 'Thriller' in x)]"
   ]
  },
  {
   "cell_type": "code",
   "execution_count": null,
   "metadata": {},
   "outputs": [],
   "source": [
    "import datetime"
   ]
  },
  {
   "cell_type": "code",
   "execution_count": null,
   "metadata": {},
   "outputs": [],
   "source": [
    "df_profits['release_date'] = pd.to_datetime(df_profits['release_date'])"
   ]
  },
  {
   "cell_type": "code",
   "execution_count": null,
   "metadata": {},
   "outputs": [],
   "source": [
    "df_profits['release_year'] = df_profits['release_date'].map(lambda x: x.year)"
   ]
  },
  {
   "cell_type": "code",
   "execution_count": null,
   "metadata": {},
   "outputs": [],
   "source": [
    "sns.boxplot(df_profits['release_year'])"
   ]
  },
  {
   "cell_type": "code",
   "execution_count": null,
   "metadata": {},
   "outputs": [],
   "source": [
    "df_profits.columns"
   ]
  },
  {
   "cell_type": "code",
   "execution_count": null,
   "metadata": {},
   "outputs": [],
   "source": [
    "horror_df = df_profits[df_profits['genres'].map(lambda x: 'Horror' in x)].groupby('release_year').mean().reset_index()\n",
    "horror_df[(horror_df['release_year'] >= 2010) & (horror_df['release_year'] <= 2020)].reset_index()[['release_year','weighted_budget','weighted_ROI']]"
   ]
  },
  {
   "cell_type": "code",
   "execution_count": null,
   "metadata": {},
   "outputs": [],
   "source": [
    "def genre_year(df, genre):\n",
    "    genre_df = df[df['genres'].map(lambda x: genre in x)].groupby('release_year').mean().reset_index()\n",
    "    a = genre_df[(genre_df['release_year'] >= 2010) & (genre_df['release_year'] <= 2019)].reset_index()[['release_year','weighted_budget','weighted_ROI']]\n",
    "    list_of_genres =[]\n",
    "    for i in range(len(a)):\n",
    "        list_of_genres.append(genre)\n",
    "        \n",
    "    a['genre'] = list_of_genres\n",
    "    return a"
   ]
  },
  {
   "cell_type": "code",
   "execution_count": null,
   "metadata": {},
   "outputs": [],
   "source": [
    "genre_year(df_profits,'Horror')"
   ]
  },
  {
   "cell_type": "code",
   "execution_count": null,
   "metadata": {},
   "outputs": [],
   "source": [
    "profit_genre_by_year =  [genre_year(df_profits, genre) for genre in unique_genres]\n",
    "profit_genres_by_year = pd.concat(profit_genre_by_year)"
   ]
  },
  {
   "cell_type": "code",
   "execution_count": null,
   "metadata": {},
   "outputs": [],
   "source": [
    "a = profit_genres_by_year.reset_index(drop=True)"
   ]
  }
 ],
 "metadata": {
  "kernelspec": {
   "display_name": "Python 3",
   "language": "python",
   "name": "python3"
  },
  "language_info": {
   "codemirror_mode": {
    "name": "ipython",
    "version": 3
   },
   "file_extension": ".py",
   "mimetype": "text/x-python",
   "name": "python",
   "nbconvert_exporter": "python",
   "pygments_lexer": "ipython3",
   "version": "3.6.10"
  }
 },
 "nbformat": 4,
 "nbformat_minor": 2
}
