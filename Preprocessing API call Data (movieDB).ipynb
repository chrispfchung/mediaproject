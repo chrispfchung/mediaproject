{
 "cells": [
  {
   "cell_type": "markdown",
   "metadata": {},
   "source": [
    "## Cleaning Data (API Called) 6950 data points)"
   ]
  },
  {
   "cell_type": "code",
   "execution_count": 25,
   "metadata": {},
   "outputs": [],
   "source": [
    "#import visualization tools for subsequent analysis\n",
    "import matplotlib.pyplot as plt\n",
    "%matplotlib inline\n",
    "import seaborn as sns\n",
    "\n",
    "df = pd.read_csv('movieDB_API_movies.csv') # read in original csv\n",
    "df = df.drop(columns='Unnamed: 0') # drop useless column identical-to-index column\n",
    "\n",
    "# code below create gross_profit column for all non 0 budget and revenue (revenue - budget) & create csv\n",
    "df['gross_profit'] = df[(df['revenue'] != 0) & (df['budget'] != 0)]['revenue'] -df[(df['revenue'] != 0) & (df['budget'] != 0)]['budget']\n",
    "# pd.DataFrame(df).to_csv('movieDB_API_movies_w_gross_profits.csv') #Turn into csv file for easy access"
   ]
  },
  {
   "cell_type": "code",
   "execution_count": 26,
   "metadata": {},
   "outputs": [
    {
     "data": {
      "text/html": [
       "<div>\n",
       "<style scoped>\n",
       "    .dataframe tbody tr th:only-of-type {\n",
       "        vertical-align: middle;\n",
       "    }\n",
       "\n",
       "    .dataframe tbody tr th {\n",
       "        vertical-align: top;\n",
       "    }\n",
       "\n",
       "    .dataframe thead th {\n",
       "        text-align: right;\n",
       "    }\n",
       "</style>\n",
       "<table border=\"1\" class=\"dataframe\">\n",
       "  <thead>\n",
       "    <tr style=\"text-align: right;\">\n",
       "      <th></th>\n",
       "      <th>budget</th>\n",
       "      <th>genres</th>\n",
       "      <th>id</th>\n",
       "      <th>imdb_id</th>\n",
       "      <th>popularity</th>\n",
       "      <th>release_date</th>\n",
       "      <th>revenue</th>\n",
       "      <th>runtime</th>\n",
       "      <th>title</th>\n",
       "      <th>vote_average</th>\n",
       "      <th>vote_count</th>\n",
       "      <th>gross_profit</th>\n",
       "    </tr>\n",
       "  </thead>\n",
       "  <tbody>\n",
       "    <tr>\n",
       "      <th>0</th>\n",
       "      <td>13200000</td>\n",
       "      <td>['Comedy', 'Drama', 'Romance']</td>\n",
       "      <td>19404</td>\n",
       "      <td>tt0112870</td>\n",
       "      <td>17.437</td>\n",
       "      <td>1995-10-20</td>\n",
       "      <td>100000000</td>\n",
       "      <td>190.0</td>\n",
       "      <td>Dilwale Dulhania Le Jayenge</td>\n",
       "      <td>8.8</td>\n",
       "      <td>2214</td>\n",
       "      <td>86800000.0</td>\n",
       "    </tr>\n",
       "    <tr>\n",
       "      <th>1</th>\n",
       "      <td>25000000</td>\n",
       "      <td>['Drama', 'Crime']</td>\n",
       "      <td>278</td>\n",
       "      <td>tt0111161</td>\n",
       "      <td>35.028</td>\n",
       "      <td>1994-09-23</td>\n",
       "      <td>28341469</td>\n",
       "      <td>142.0</td>\n",
       "      <td>The Shawshank Redemption</td>\n",
       "      <td>8.7</td>\n",
       "      <td>15045</td>\n",
       "      <td>3341469.0</td>\n",
       "    </tr>\n",
       "    <tr>\n",
       "      <th>2</th>\n",
       "      <td>6000000</td>\n",
       "      <td>['Drama', 'Crime']</td>\n",
       "      <td>238</td>\n",
       "      <td>tt0068646</td>\n",
       "      <td>29.433</td>\n",
       "      <td>1972-03-14</td>\n",
       "      <td>245066411</td>\n",
       "      <td>175.0</td>\n",
       "      <td>The Godfather</td>\n",
       "      <td>8.7</td>\n",
       "      <td>11486</td>\n",
       "      <td>239066411.0</td>\n",
       "    </tr>\n",
       "    <tr>\n",
       "      <th>3</th>\n",
       "      <td>11363000</td>\n",
       "      <td>['Comedy', 'Thriller', 'Drama']</td>\n",
       "      <td>496243</td>\n",
       "      <td>tt6751668</td>\n",
       "      <td>176.819</td>\n",
       "      <td>2019-05-30</td>\n",
       "      <td>201055038</td>\n",
       "      <td>132.0</td>\n",
       "      <td>Parasite</td>\n",
       "      <td>8.6</td>\n",
       "      <td>4751</td>\n",
       "      <td>189692038.0</td>\n",
       "    </tr>\n",
       "    <tr>\n",
       "      <th>4</th>\n",
       "      <td>22000000</td>\n",
       "      <td>['Drama', 'History', 'War']</td>\n",
       "      <td>424</td>\n",
       "      <td>tt0108052</td>\n",
       "      <td>19.641</td>\n",
       "      <td>1993-11-30</td>\n",
       "      <td>321365567</td>\n",
       "      <td>195.0</td>\n",
       "      <td>Schindler's List</td>\n",
       "      <td>8.6</td>\n",
       "      <td>9163</td>\n",
       "      <td>299365567.0</td>\n",
       "    </tr>\n",
       "  </tbody>\n",
       "</table>\n",
       "</div>"
      ],
      "text/plain": [
       "     budget                           genres      id    imdb_id  popularity  \\\n",
       "0  13200000   ['Comedy', 'Drama', 'Romance']   19404  tt0112870      17.437   \n",
       "1  25000000               ['Drama', 'Crime']     278  tt0111161      35.028   \n",
       "2   6000000               ['Drama', 'Crime']     238  tt0068646      29.433   \n",
       "3  11363000  ['Comedy', 'Thriller', 'Drama']  496243  tt6751668     176.819   \n",
       "4  22000000      ['Drama', 'History', 'War']     424  tt0108052      19.641   \n",
       "\n",
       "  release_date    revenue  runtime                        title  vote_average  \\\n",
       "0   1995-10-20  100000000    190.0  Dilwale Dulhania Le Jayenge           8.8   \n",
       "1   1994-09-23   28341469    142.0     The Shawshank Redemption           8.7   \n",
       "2   1972-03-14  245066411    175.0                The Godfather           8.7   \n",
       "3   2019-05-30  201055038    132.0                     Parasite           8.6   \n",
       "4   1993-11-30  321365567    195.0             Schindler's List           8.6   \n",
       "\n",
       "   vote_count  gross_profit  \n",
       "0        2214    86800000.0  \n",
       "1       15045     3341469.0  \n",
       "2       11486   239066411.0  \n",
       "3        4751   189692038.0  \n",
       "4        9163   299365567.0  "
      ]
     },
     "execution_count": 26,
     "metadata": {},
     "output_type": "execute_result"
    }
   ],
   "source": [
    "df.head() # this is what our data looks like"
   ]
  },
  {
   "cell_type": "code",
   "execution_count": 24,
   "metadata": {},
   "outputs": [
    {
     "name": "stdout",
     "output_type": "stream",
     "text": [
      "<class 'pandas.core.frame.DataFrame'>\n",
      "RangeIndex: 6950 entries, 0 to 6949\n",
      "Data columns (total 12 columns):\n",
      "budget          6950 non-null int64\n",
      "genres          6950 non-null object\n",
      "id              6950 non-null int64\n",
      "imdb_id         6949 non-null object\n",
      "popularity      6950 non-null float64\n",
      "release_date    6950 non-null object\n",
      "revenue         6950 non-null int64\n",
      "runtime         6937 non-null float64\n",
      "title           6950 non-null object\n",
      "vote_average    6950 non-null float64\n",
      "vote_count      6950 non-null int64\n",
      "gross_profit    4273 non-null float64\n",
      "dtypes: float64(4), int64(4), object(4)\n",
      "memory usage: 651.6+ KB\n"
     ]
    }
   ],
   "source": [
    "df.info() # 6950 no missing data apparently, 4273/6950 have gross_profit (61% of data can use profit metric)"
   ]
  },
  {
   "cell_type": "markdown",
   "metadata": {},
   "source": [
    "## What do we do with rows with missing gross profits?"
   ]
  },
  {
   "cell_type": "markdown",
   "metadata": {},
   "source": [
    "#### Create subset of data points with gross profit. We have 4273/6950 data points that have a calculated gross profit. We will analyze our data to learn more about and see if there's other data we need. We won't remove the 0 values but we won't use them now."
   ]
  },
  {
   "cell_type": "code",
   "execution_count": 43,
   "metadata": {},
   "outputs": [],
   "source": [
    "df = df[df['gross_profit'].notna()]"
   ]
  },
  {
   "cell_type": "markdown",
   "metadata": {},
   "source": [
    "## What are the genres?"
   ]
  },
  {
   "cell_type": "code",
   "execution_count": 45,
   "metadata": {},
   "outputs": [
    {
     "data": {
      "text/plain": [
       "['Comedy']                        237\n",
       "['Drama']                         234\n",
       "['Drama', 'Romance']              114\n",
       "['Comedy', 'Romance']             106\n",
       "['Horror', 'Thriller']             91\n",
       "['Comedy', 'Drama']                85\n",
       "['Comedy', 'Drama', 'Romance']     79\n",
       "['Horror']                         69\n",
       "['Drama', 'Thriller']              52\n",
       "['Action', 'Thriller']             45\n",
       "Name: genres, dtype: int64"
      ]
     },
     "execution_count": 45,
     "metadata": {},
     "output_type": "execute_result"
    }
   ],
   "source": [
    "# What genres do we have?\n",
    "## 1625 unique combinations of genres\n",
    "\n",
    "# Top 3 Genres?\n",
    "## Comedy 552/1625 or 34%\n",
    "## Drama 419/1625 or 26%\n",
    "## (Drama + Romance) 195/1625 or 12%\n",
    "1\n",
    "#showing first ten genres\n",
    "df['genres'].value_counts()[0:10] #we should keep the combinations... They're important"
   ]
  },
  {
   "cell_type": "markdown",
   "metadata": {},
   "source": [
    "## What's the distribution of movie popularity?"
   ]
  },
  {
   "cell_type": "code",
   "execution_count": 46,
   "metadata": {},
   "outputs": [
    {
     "data": {
      "text/html": [
       "<div>\n",
       "<style scoped>\n",
       "    .dataframe tbody tr th:only-of-type {\n",
       "        vertical-align: middle;\n",
       "    }\n",
       "\n",
       "    .dataframe tbody tr th {\n",
       "        vertical-align: top;\n",
       "    }\n",
       "\n",
       "    .dataframe thead th {\n",
       "        text-align: right;\n",
       "    }\n",
       "</style>\n",
       "<table border=\"1\" class=\"dataframe\">\n",
       "  <thead>\n",
       "    <tr style=\"text-align: right;\">\n",
       "      <th></th>\n",
       "      <th>budget</th>\n",
       "      <th>genres</th>\n",
       "      <th>id</th>\n",
       "      <th>imdb_id</th>\n",
       "      <th>popularity</th>\n",
       "      <th>release_date</th>\n",
       "      <th>revenue</th>\n",
       "      <th>runtime</th>\n",
       "      <th>title</th>\n",
       "      <th>vote_average</th>\n",
       "      <th>vote_count</th>\n",
       "      <th>gross_profit</th>\n",
       "    </tr>\n",
       "  </thead>\n",
       "  <tbody>\n",
       "    <tr>\n",
       "      <th>0</th>\n",
       "      <td>13200000</td>\n",
       "      <td>['Comedy', 'Drama', 'Romance']</td>\n",
       "      <td>19404</td>\n",
       "      <td>tt0112870</td>\n",
       "      <td>17.437</td>\n",
       "      <td>1995-10-20</td>\n",
       "      <td>100000000</td>\n",
       "      <td>190.0</td>\n",
       "      <td>Dilwale Dulhania Le Jayenge</td>\n",
       "      <td>8.8</td>\n",
       "      <td>2214</td>\n",
       "      <td>86800000.0</td>\n",
       "    </tr>\n",
       "    <tr>\n",
       "      <th>1</th>\n",
       "      <td>25000000</td>\n",
       "      <td>['Drama', 'Crime']</td>\n",
       "      <td>278</td>\n",
       "      <td>tt0111161</td>\n",
       "      <td>35.028</td>\n",
       "      <td>1994-09-23</td>\n",
       "      <td>28341469</td>\n",
       "      <td>142.0</td>\n",
       "      <td>The Shawshank Redemption</td>\n",
       "      <td>8.7</td>\n",
       "      <td>15045</td>\n",
       "      <td>3341469.0</td>\n",
       "    </tr>\n",
       "    <tr>\n",
       "      <th>2</th>\n",
       "      <td>6000000</td>\n",
       "      <td>['Drama', 'Crime']</td>\n",
       "      <td>238</td>\n",
       "      <td>tt0068646</td>\n",
       "      <td>29.433</td>\n",
       "      <td>1972-03-14</td>\n",
       "      <td>245066411</td>\n",
       "      <td>175.0</td>\n",
       "      <td>The Godfather</td>\n",
       "      <td>8.7</td>\n",
       "      <td>11486</td>\n",
       "      <td>239066411.0</td>\n",
       "    </tr>\n",
       "    <tr>\n",
       "      <th>3</th>\n",
       "      <td>11363000</td>\n",
       "      <td>['Comedy', 'Thriller', 'Drama']</td>\n",
       "      <td>496243</td>\n",
       "      <td>tt6751668</td>\n",
       "      <td>176.819</td>\n",
       "      <td>2019-05-30</td>\n",
       "      <td>201055038</td>\n",
       "      <td>132.0</td>\n",
       "      <td>Parasite</td>\n",
       "      <td>8.6</td>\n",
       "      <td>4751</td>\n",
       "      <td>189692038.0</td>\n",
       "    </tr>\n",
       "    <tr>\n",
       "      <th>4</th>\n",
       "      <td>22000000</td>\n",
       "      <td>['Drama', 'History', 'War']</td>\n",
       "      <td>424</td>\n",
       "      <td>tt0108052</td>\n",
       "      <td>19.641</td>\n",
       "      <td>1993-11-30</td>\n",
       "      <td>321365567</td>\n",
       "      <td>195.0</td>\n",
       "      <td>Schindler's List</td>\n",
       "      <td>8.6</td>\n",
       "      <td>9163</td>\n",
       "      <td>299365567.0</td>\n",
       "    </tr>\n",
       "  </tbody>\n",
       "</table>\n",
       "</div>"
      ],
      "text/plain": [
       "     budget                           genres      id    imdb_id  popularity  \\\n",
       "0  13200000   ['Comedy', 'Drama', 'Romance']   19404  tt0112870      17.437   \n",
       "1  25000000               ['Drama', 'Crime']     278  tt0111161      35.028   \n",
       "2   6000000               ['Drama', 'Crime']     238  tt0068646      29.433   \n",
       "3  11363000  ['Comedy', 'Thriller', 'Drama']  496243  tt6751668     176.819   \n",
       "4  22000000      ['Drama', 'History', 'War']     424  tt0108052      19.641   \n",
       "\n",
       "  release_date    revenue  runtime                        title  vote_average  \\\n",
       "0   1995-10-20  100000000    190.0  Dilwale Dulhania Le Jayenge           8.8   \n",
       "1   1994-09-23   28341469    142.0     The Shawshank Redemption           8.7   \n",
       "2   1972-03-14  245066411    175.0                The Godfather           8.7   \n",
       "3   2019-05-30  201055038    132.0                     Parasite           8.6   \n",
       "4   1993-11-30  321365567    195.0             Schindler's List           8.6   \n",
       "\n",
       "   vote_count  gross_profit  \n",
       "0        2214    86800000.0  \n",
       "1       15045     3341469.0  \n",
       "2       11486   239066411.0  \n",
       "3        4751   189692038.0  \n",
       "4        9163   299365567.0  "
      ]
     },
     "execution_count": 46,
     "metadata": {},
     "output_type": "execute_result"
    }
   ],
   "source": [
    "df.head()"
   ]
  },
  {
   "cell_type": "code",
   "execution_count": 47,
   "metadata": {},
   "outputs": [
    {
     "data": {
      "image/png": "[encoded data removed]",
      "text/plain": [
       "<Figure size 432x288 with 1 Axes>"
      ]
     },
     "metadata": {
      "needs_background": "light"
     },
     "output_type": "display_data"
    }
   ],
   "source": [
    "plt.hist(df[df['popularity'] > 0]['popularity'], bins=60);\n",
    "plt.show()"
   ]
  },
  {
   "cell_type": "markdown",
   "metadata": {},
   "source": [
    "## What's the range of average vote ratings?"
   ]
  },
  {
   "cell_type": "code",
   "execution_count": 48,
   "metadata": {},
   "outputs": [
    {
     "name": "stderr",
     "output_type": "stream",
     "text": [
      "/Users/chrischung/anaconda3/lib/python3.6/site-packages/scipy/stats/stats.py:1713: FutureWarning: Using a non-tuple sequence for multidimensional indexing is deprecated; use `arr[tuple(seq)]` instead of `arr[seq]`. In the future this will be interpreted as an array index, `arr[np.array(seq)]`, which will result either in an error or a different result.\n",
      "  return np.add.reduce(sorted[indexer] * weights, axis=axis) / sumval\n"
     ]
    },
    {
     "data": {
      "text/plain": [
       "count    4273.000000\n",
       "mean        6.540417\n",
       "std         0.832336\n",
       "min         2.600000\n",
       "25%         6.000000\n",
       "50%         6.500000\n",
       "75%         7.100000\n",
       "max         8.800000\n",
       "Name: vote_average, dtype: float64"
      ]
     },
     "execution_count": 48,
     "metadata": {},
     "output_type": "execute_result"
    },
    {
     "data": {
      "image/png": "[encoded data removed]",
      "text/plain": [
       "<Figure size 720x360 with 1 Axes>"
      ]
     },
     "metadata": {
      "needs_background": "light"
     },
     "output_type": "display_data"
    }
   ],
   "source": [
    "y = range(0, df['title'].count()) # plotting movie vote_average\n",
    "x = df['vote_average']\n",
    "fig, ax = plt.subplots(figsize=(10,5))\n",
    "sns.lineplot(x,y);\n",
    "\n",
    "x.describe() "
   ]
  },
  {
   "cell_type": "markdown",
   "metadata": {},
   "source": [
    "It looks like most of our data is under 7"
   ]
  },
  {
   "cell_type": "code",
   "execution_count": 49,
   "metadata": {},
   "outputs": [
    {
     "data": {
      "text/html": [
       "<div>\n",
       "<style scoped>\n",
       "    .dataframe tbody tr th:only-of-type {\n",
       "        vertical-align: middle;\n",
       "    }\n",
       "\n",
       "    .dataframe tbody tr th {\n",
       "        vertical-align: top;\n",
       "    }\n",
       "\n",
       "    .dataframe thead th {\n",
       "        text-align: right;\n",
       "    }\n",
       "</style>\n",
       "<table border=\"1\" class=\"dataframe\">\n",
       "  <thead>\n",
       "    <tr style=\"text-align: right;\">\n",
       "      <th></th>\n",
       "      <th>budget</th>\n",
       "      <th>genres</th>\n",
       "      <th>id</th>\n",
       "      <th>imdb_id</th>\n",
       "      <th>popularity</th>\n",
       "      <th>release_date</th>\n",
       "      <th>revenue</th>\n",
       "      <th>runtime</th>\n",
       "      <th>title</th>\n",
       "      <th>vote_average</th>\n",
       "      <th>vote_count</th>\n",
       "      <th>gross_profit</th>\n",
       "    </tr>\n",
       "  </thead>\n",
       "  <tbody>\n",
       "    <tr>\n",
       "      <th>0</th>\n",
       "      <td>13200000</td>\n",
       "      <td>['Comedy', 'Drama', 'Romance']</td>\n",
       "      <td>19404</td>\n",
       "      <td>tt0112870</td>\n",
       "      <td>17.437</td>\n",
       "      <td>1995-10-20</td>\n",
       "      <td>100000000</td>\n",
       "      <td>190.0</td>\n",
       "      <td>Dilwale Dulhania Le Jayenge</td>\n",
       "      <td>8.8</td>\n",
       "      <td>2214</td>\n",
       "      <td>86800000.0</td>\n",
       "    </tr>\n",
       "    <tr>\n",
       "      <th>1</th>\n",
       "      <td>25000000</td>\n",
       "      <td>['Drama', 'Crime']</td>\n",
       "      <td>278</td>\n",
       "      <td>tt0111161</td>\n",
       "      <td>35.028</td>\n",
       "      <td>1994-09-23</td>\n",
       "      <td>28341469</td>\n",
       "      <td>142.0</td>\n",
       "      <td>The Shawshank Redemption</td>\n",
       "      <td>8.7</td>\n",
       "      <td>15045</td>\n",
       "      <td>3341469.0</td>\n",
       "    </tr>\n",
       "    <tr>\n",
       "      <th>2</th>\n",
       "      <td>6000000</td>\n",
       "      <td>['Drama', 'Crime']</td>\n",
       "      <td>238</td>\n",
       "      <td>tt0068646</td>\n",
       "      <td>29.433</td>\n",
       "      <td>1972-03-14</td>\n",
       "      <td>245066411</td>\n",
       "      <td>175.0</td>\n",
       "      <td>The Godfather</td>\n",
       "      <td>8.7</td>\n",
       "      <td>11486</td>\n",
       "      <td>239066411.0</td>\n",
       "    </tr>\n",
       "    <tr>\n",
       "      <th>3</th>\n",
       "      <td>11363000</td>\n",
       "      <td>['Comedy', 'Thriller', 'Drama']</td>\n",
       "      <td>496243</td>\n",
       "      <td>tt6751668</td>\n",
       "      <td>176.819</td>\n",
       "      <td>2019-05-30</td>\n",
       "      <td>201055038</td>\n",
       "      <td>132.0</td>\n",
       "      <td>Parasite</td>\n",
       "      <td>8.6</td>\n",
       "      <td>4751</td>\n",
       "      <td>189692038.0</td>\n",
       "    </tr>\n",
       "    <tr>\n",
       "      <th>4</th>\n",
       "      <td>22000000</td>\n",
       "      <td>['Drama', 'History', 'War']</td>\n",
       "      <td>424</td>\n",
       "      <td>tt0108052</td>\n",
       "      <td>19.641</td>\n",
       "      <td>1993-11-30</td>\n",
       "      <td>321365567</td>\n",
       "      <td>195.0</td>\n",
       "      <td>Schindler's List</td>\n",
       "      <td>8.6</td>\n",
       "      <td>9163</td>\n",
       "      <td>299365567.0</td>\n",
       "    </tr>\n",
       "  </tbody>\n",
       "</table>\n",
       "</div>"
      ],
      "text/plain": [
       "     budget                           genres      id    imdb_id  popularity  \\\n",
       "0  13200000   ['Comedy', 'Drama', 'Romance']   19404  tt0112870      17.437   \n",
       "1  25000000               ['Drama', 'Crime']     278  tt0111161      35.028   \n",
       "2   6000000               ['Drama', 'Crime']     238  tt0068646      29.433   \n",
       "3  11363000  ['Comedy', 'Thriller', 'Drama']  496243  tt6751668     176.819   \n",
       "4  22000000      ['Drama', 'History', 'War']     424  tt0108052      19.641   \n",
       "\n",
       "  release_date    revenue  runtime                        title  vote_average  \\\n",
       "0   1995-10-20  100000000    190.0  Dilwale Dulhania Le Jayenge           8.8   \n",
       "1   1994-09-23   28341469    142.0     The Shawshank Redemption           8.7   \n",
       "2   1972-03-14  245066411    175.0                The Godfather           8.7   \n",
       "3   2019-05-30  201055038    132.0                     Parasite           8.6   \n",
       "4   1993-11-30  321365567    195.0             Schindler's List           8.6   \n",
       "\n",
       "   vote_count  gross_profit  \n",
       "0        2214    86800000.0  \n",
       "1       15045     3341469.0  \n",
       "2       11486   239066411.0  \n",
       "3        4751   189692038.0  \n",
       "4        9163   299365567.0  "
      ]
     },
     "execution_count": 49,
     "metadata": {},
     "output_type": "execute_result"
    }
   ],
   "source": [
    "df.head()"
   ]
  },
  {
   "cell_type": "code",
   "execution_count": 54,
   "metadata": {},
   "outputs": [
    {
     "data": {
      "text/plain": [
       "<matplotlib.axes._subplots.AxesSubplot at 0x1a25f10588>"
      ]
     },
     "execution_count": 54,
     "metadata": {},
     "output_type": "execute_result"
    },
    {
     "data": {
      "image/png": "[encoded data removed]",
      "text/plain": [
       "<Figure size 432x288 with 1 Axes>"
      ]
     },
     "metadata": {
      "needs_background": "light"
     },
     "output_type": "display_data"
    }
   ],
   "source": [
    "sns.scatterplot(df['gross_profit'], df['vote_average'])"
   ]
  },
  {
   "cell_type": "markdown",
   "metadata": {},
   "source": [
    "## What release months or day of the week makes the best? The worst?"
   ]
  },
  {
   "cell_type": "code",
   "execution_count": null,
   "metadata": {},
   "outputs": [],
   "source": []
  }
 ],
 "metadata": {
  "kernelspec": {
   "display_name": "Python 3",
   "language": "python",
   "name": "python3"
  },
  "language_info": {
   "codemirror_mode": {
    "name": "ipython",
    "version": 3
   },
   "file_extension": ".py",
   "mimetype": "text/x-python",
   "name": "python",
   "nbconvert_exporter": "python",
   "pygments_lexer": "ipython3",
   "version": "3.6.7"
  }
 },
 "nbformat": 4,
 "nbformat_minor": 2
}
