{
 "cells": [
  {
   "cell_type": "markdown",
   "metadata": {},
   "source": [
    "## Cleaning Data (API Called) 6950 data points"
   ]
  },
  {
   "cell_type": "code",
   "execution_count": 125,
   "metadata": {},
   "outputs": [],
   "source": [
    "#import visualization tools for subsequent analysis\n",
    "import matplotlib.pyplot as plt\n",
    "%matplotlib inline\n",
    "import seaborn as sns\n",
    "import numpy as np\n",
    "\n",
    "df = pd.read_csv('movieDB_API_movies.csv') # read in original csv\n",
    "df = df.drop(columns='Unnamed: 0') # drop useless column index-like column\n",
    "\n",
    "## Create Metric Columns\n",
    "# We have many rows with no budget or revenue. We want to filter them out and create a new 'Profit' column\n",
    "df['gross_profit'] = df[(df['revenue'] != 0) & (df['budget'] != 0)]['revenue'] -df[(df['revenue'] != 0) & (df['budget'] != 0)]['budget']\n",
    "# Create profit margin column , ROI, with complete dataframe\n",
    "df['ROI (%)'] = round((df['gross_profit'] / df['budget']) * 100,2)\n",
    "\n",
    "## Empty rows\n",
    "# there are 2677 with null gross_profit, we want to\n",
    "df_profits = df[df['gross_profit'].notna()]\n",
    "\n",
    "# pd.DataFrame(df_profits).to_csv('movieDB_API_movies_w_gross_profits_&_ROI.csv') #Turn into csv file for easy access"
   ]
  },
  {
   "cell_type": "code",
   "execution_count": 126,
   "metadata": {},
   "outputs": [
    {
     "data": {
      "text/html": [
       "<div>\n",
       "<style scoped>\n",
       "    .dataframe tbody tr th:only-of-type {\n",
       "        vertical-align: middle;\n",
       "    }\n",
       "\n",
       "    .dataframe tbody tr th {\n",
       "        vertical-align: top;\n",
       "    }\n",
       "\n",
       "    .dataframe thead th {\n",
       "        text-align: right;\n",
       "    }\n",
       "</style>\n",
       "<table border=\"1\" class=\"dataframe\">\n",
       "  <thead>\n",
       "    <tr style=\"text-align: right;\">\n",
       "      <th></th>\n",
       "      <th>budget</th>\n",
       "      <th>genres</th>\n",
       "      <th>id</th>\n",
       "      <th>imdb_id</th>\n",
       "      <th>popularity</th>\n",
       "      <th>release_date</th>\n",
       "      <th>revenue</th>\n",
       "      <th>runtime</th>\n",
       "      <th>title</th>\n",
       "      <th>vote_average</th>\n",
       "      <th>vote_count</th>\n",
       "      <th>gross_profit</th>\n",
       "      <th>ROI (%)</th>\n",
       "    </tr>\n",
       "  </thead>\n",
       "  <tbody>\n",
       "    <tr>\n",
       "      <th>0</th>\n",
       "      <td>13200000</td>\n",
       "      <td>['Comedy', 'Drama', 'Romance']</td>\n",
       "      <td>19404</td>\n",
       "      <td>tt0112870</td>\n",
       "      <td>17.437</td>\n",
       "      <td>1995-10-20</td>\n",
       "      <td>100000000</td>\n",
       "      <td>190.0</td>\n",
       "      <td>Dilwale Dulhania Le Jayenge</td>\n",
       "      <td>8.8</td>\n",
       "      <td>2214</td>\n",
       "      <td>86800000.0</td>\n",
       "      <td>657.58</td>\n",
       "    </tr>\n",
       "    <tr>\n",
       "      <th>1</th>\n",
       "      <td>25000000</td>\n",
       "      <td>['Drama', 'Crime']</td>\n",
       "      <td>278</td>\n",
       "      <td>tt0111161</td>\n",
       "      <td>35.028</td>\n",
       "      <td>1994-09-23</td>\n",
       "      <td>28341469</td>\n",
       "      <td>142.0</td>\n",
       "      <td>The Shawshank Redemption</td>\n",
       "      <td>8.7</td>\n",
       "      <td>15045</td>\n",
       "      <td>3341469.0</td>\n",
       "      <td>13.37</td>\n",
       "    </tr>\n",
       "    <tr>\n",
       "      <th>2</th>\n",
       "      <td>6000000</td>\n",
       "      <td>['Drama', 'Crime']</td>\n",
       "      <td>238</td>\n",
       "      <td>tt0068646</td>\n",
       "      <td>29.433</td>\n",
       "      <td>1972-03-14</td>\n",
       "      <td>245066411</td>\n",
       "      <td>175.0</td>\n",
       "      <td>The Godfather</td>\n",
       "      <td>8.7</td>\n",
       "      <td>11486</td>\n",
       "      <td>239066411.0</td>\n",
       "      <td>3984.44</td>\n",
       "    </tr>\n",
       "    <tr>\n",
       "      <th>3</th>\n",
       "      <td>11363000</td>\n",
       "      <td>['Comedy', 'Thriller', 'Drama']</td>\n",
       "      <td>496243</td>\n",
       "      <td>tt6751668</td>\n",
       "      <td>176.819</td>\n",
       "      <td>2019-05-30</td>\n",
       "      <td>201055038</td>\n",
       "      <td>132.0</td>\n",
       "      <td>Parasite</td>\n",
       "      <td>8.6</td>\n",
       "      <td>4751</td>\n",
       "      <td>189692038.0</td>\n",
       "      <td>1669.38</td>\n",
       "    </tr>\n",
       "    <tr>\n",
       "      <th>4</th>\n",
       "      <td>22000000</td>\n",
       "      <td>['Drama', 'History', 'War']</td>\n",
       "      <td>424</td>\n",
       "      <td>tt0108052</td>\n",
       "      <td>19.641</td>\n",
       "      <td>1993-11-30</td>\n",
       "      <td>321365567</td>\n",
       "      <td>195.0</td>\n",
       "      <td>Schindler's List</td>\n",
       "      <td>8.6</td>\n",
       "      <td>9163</td>\n",
       "      <td>299365567.0</td>\n",
       "      <td>1360.75</td>\n",
       "    </tr>\n",
       "  </tbody>\n",
       "</table>\n",
       "</div>"
      ],
      "text/plain": [
       "     budget                           genres      id    imdb_id  popularity  \\\n",
       "0  13200000   ['Comedy', 'Drama', 'Romance']   19404  tt0112870      17.437   \n",
       "1  25000000               ['Drama', 'Crime']     278  tt0111161      35.028   \n",
       "2   6000000               ['Drama', 'Crime']     238  tt0068646      29.433   \n",
       "3  11363000  ['Comedy', 'Thriller', 'Drama']  496243  tt6751668     176.819   \n",
       "4  22000000      ['Drama', 'History', 'War']     424  tt0108052      19.641   \n",
       "\n",
       "  release_date    revenue  runtime                        title  vote_average  \\\n",
       "0   1995-10-20  100000000    190.0  Dilwale Dulhania Le Jayenge           8.8   \n",
       "1   1994-09-23   28341469    142.0     The Shawshank Redemption           8.7   \n",
       "2   1972-03-14  245066411    175.0                The Godfather           8.7   \n",
       "3   2019-05-30  201055038    132.0                     Parasite           8.6   \n",
       "4   1993-11-30  321365567    195.0             Schindler's List           8.6   \n",
       "\n",
       "   vote_count  gross_profit  ROI (%)  \n",
       "0        2214    86800000.0   657.58  \n",
       "1       15045     3341469.0    13.37  \n",
       "2       11486   239066411.0  3984.44  \n",
       "3        4751   189692038.0  1669.38  \n",
       "4        9163   299365567.0  1360.75  "
      ]
     },
     "execution_count": 126,
     "metadata": {},
     "output_type": "execute_result"
    }
   ],
   "source": [
    "df_profits.head() # this is what our data looks like"
   ]
  },
  {
   "cell_type": "code",
   "execution_count": 127,
   "metadata": {},
   "outputs": [
    {
     "name": "stdout",
     "output_type": "stream",
     "text": [
      "<class 'pandas.core.frame.DataFrame'>\n",
      "Int64Index: 4273 entries, 0 to 6949\n",
      "Data columns (total 13 columns):\n",
      "budget          4273 non-null int64\n",
      "genres          4273 non-null object\n",
      "id              4273 non-null int64\n",
      "imdb_id         4273 non-null object\n",
      "popularity      4273 non-null float64\n",
      "release_date    4273 non-null object\n",
      "revenue         4273 non-null int64\n",
      "runtime         4271 non-null float64\n",
      "title           4273 non-null object\n",
      "vote_average    4273 non-null float64\n",
      "vote_count      4273 non-null int64\n",
      "gross_profit    4273 non-null float64\n",
      "ROI (%)         4273 non-null float64\n",
      "dtypes: float64(5), int64(4), object(4)\n",
      "memory usage: 467.4+ KB\n"
     ]
    }
   ],
   "source": [
    "df_profits.info() # 6950 no missing data apparently, 4273/6950 have gross_profit (61% of data can use profit metric)"
   ]
  },
  {
   "cell_type": "markdown",
   "metadata": {},
   "source": [
    "## What do we do with rows with missing gross profits?"
   ]
  },
  {
   "cell_type": "markdown",
   "metadata": {},
   "source": [
    "#### Create subset of data points with gross profit. We have 4273/6950 data points that have a calculated gross profit. We will analyze our data to learn more about and see if there's other data we need. We won't remove the 0 values but we won't use them now."
   ]
  },
  {
   "cell_type": "code",
   "execution_count": 128,
   "metadata": {},
   "outputs": [
    {
     "name": "stderr",
     "output_type": "stream",
     "text": [
      "/Users/chrischung/anaconda3/lib/python3.6/site-packages/ipykernel_launcher.py:4: SettingWithCopyWarning: \n",
      "A value is trying to be set on a copy of a slice from a DataFrame.\n",
      "Try using .loc[row_indexer,col_indexer] = value instead\n",
      "\n",
      "See the caveats in the documentation: http://pandas.pydata.org/pandas-docs/stable/indexing.html#indexing-view-versus-copy\n",
      "  after removing the cwd from sys.path.\n"
     ]
    },
    {
     "data": {
      "text/html": [
       "<div>\n",
       "<style scoped>\n",
       "    .dataframe tbody tr th:only-of-type {\n",
       "        vertical-align: middle;\n",
       "    }\n",
       "\n",
       "    .dataframe tbody tr th {\n",
       "        vertical-align: top;\n",
       "    }\n",
       "\n",
       "    .dataframe thead th {\n",
       "        text-align: right;\n",
       "    }\n",
       "</style>\n",
       "<table border=\"1\" class=\"dataframe\">\n",
       "  <thead>\n",
       "    <tr style=\"text-align: right;\">\n",
       "      <th></th>\n",
       "      <th>budget</th>\n",
       "      <th>genres</th>\n",
       "      <th>id</th>\n",
       "      <th>imdb_id</th>\n",
       "      <th>popularity</th>\n",
       "      <th>release_date</th>\n",
       "      <th>revenue</th>\n",
       "      <th>runtime</th>\n",
       "      <th>title</th>\n",
       "      <th>vote_average</th>\n",
       "      <th>vote_count</th>\n",
       "      <th>gross_profit</th>\n",
       "      <th>ROI (%)</th>\n",
       "    </tr>\n",
       "  </thead>\n",
       "  <tbody>\n",
       "    <tr>\n",
       "      <th>0</th>\n",
       "      <td>13200000</td>\n",
       "      <td>['Comedy', 'Drama', 'Romance']</td>\n",
       "      <td>19404</td>\n",
       "      <td>tt0112870</td>\n",
       "      <td>17.437</td>\n",
       "      <td>1995-10-20</td>\n",
       "      <td>100000000</td>\n",
       "      <td>190.0</td>\n",
       "      <td>Dilwale Dulhania Le Jayenge</td>\n",
       "      <td>8.8</td>\n",
       "      <td>2214</td>\n",
       "      <td>86800000.0</td>\n",
       "      <td>657.58</td>\n",
       "    </tr>\n",
       "    <tr>\n",
       "      <th>1</th>\n",
       "      <td>25000000</td>\n",
       "      <td>['Drama', 'Crime']</td>\n",
       "      <td>278</td>\n",
       "      <td>tt0111161</td>\n",
       "      <td>35.028</td>\n",
       "      <td>1994-09-23</td>\n",
       "      <td>28341469</td>\n",
       "      <td>142.0</td>\n",
       "      <td>The Shawshank Redemption</td>\n",
       "      <td>8.7</td>\n",
       "      <td>15045</td>\n",
       "      <td>3341469.0</td>\n",
       "      <td>13.37</td>\n",
       "    </tr>\n",
       "    <tr>\n",
       "      <th>2</th>\n",
       "      <td>6000000</td>\n",
       "      <td>['Drama', 'Crime']</td>\n",
       "      <td>238</td>\n",
       "      <td>tt0068646</td>\n",
       "      <td>29.433</td>\n",
       "      <td>1972-03-14</td>\n",
       "      <td>245066411</td>\n",
       "      <td>175.0</td>\n",
       "      <td>The Godfather</td>\n",
       "      <td>8.7</td>\n",
       "      <td>11486</td>\n",
       "      <td>239066411.0</td>\n",
       "      <td>3984.44</td>\n",
       "    </tr>\n",
       "    <tr>\n",
       "      <th>3</th>\n",
       "      <td>11363000</td>\n",
       "      <td>['Comedy', 'Thriller', 'Drama']</td>\n",
       "      <td>496243</td>\n",
       "      <td>tt6751668</td>\n",
       "      <td>176.819</td>\n",
       "      <td>2019-05-30</td>\n",
       "      <td>201055038</td>\n",
       "      <td>132.0</td>\n",
       "      <td>Parasite</td>\n",
       "      <td>8.6</td>\n",
       "      <td>4751</td>\n",
       "      <td>189692038.0</td>\n",
       "      <td>1669.38</td>\n",
       "    </tr>\n",
       "    <tr>\n",
       "      <th>4</th>\n",
       "      <td>22000000</td>\n",
       "      <td>['Drama', 'History', 'War']</td>\n",
       "      <td>424</td>\n",
       "      <td>tt0108052</td>\n",
       "      <td>19.641</td>\n",
       "      <td>1993-11-30</td>\n",
       "      <td>321365567</td>\n",
       "      <td>195.0</td>\n",
       "      <td>Schindler's List</td>\n",
       "      <td>8.6</td>\n",
       "      <td>9163</td>\n",
       "      <td>299365567.0</td>\n",
       "      <td>1360.75</td>\n",
       "    </tr>\n",
       "  </tbody>\n",
       "</table>\n",
       "</div>"
      ],
      "text/plain": [
       "     budget                           genres      id    imdb_id  popularity  \\\n",
       "0  13200000   ['Comedy', 'Drama', 'Romance']   19404  tt0112870      17.437   \n",
       "1  25000000               ['Drama', 'Crime']     278  tt0111161      35.028   \n",
       "2   6000000               ['Drama', 'Crime']     238  tt0068646      29.433   \n",
       "3  11363000  ['Comedy', 'Thriller', 'Drama']  496243  tt6751668     176.819   \n",
       "4  22000000      ['Drama', 'History', 'War']     424  tt0108052      19.641   \n",
       "\n",
       "  release_date    revenue  runtime                        title  vote_average  \\\n",
       "0   1995-10-20  100000000    190.0  Dilwale Dulhania Le Jayenge           8.8   \n",
       "1   1994-09-23   28341469    142.0     The Shawshank Redemption           8.7   \n",
       "2   1972-03-14  245066411    175.0                The Godfather           8.7   \n",
       "3   2019-05-30  201055038    132.0                     Parasite           8.6   \n",
       "4   1993-11-30  321365567    195.0             Schindler's List           8.6   \n",
       "\n",
       "   vote_count  gross_profit  ROI (%)  \n",
       "0        2214    86800000.0   657.58  \n",
       "1       15045     3341469.0    13.37  \n",
       "2       11486   239066411.0  3984.44  \n",
       "3        4751   189692038.0  1669.38  \n",
       "4        9163   299365567.0  1360.75  "
      ]
     },
     "execution_count": 128,
     "metadata": {},
     "output_type": "execute_result"
    }
   ],
   "source": [
    "df_profits = df[df['gross_profit'].notna()]\n",
    "\n",
    "# Create profit margin column , investment, ROI\n",
    "df_profits['ROI (%)'] = (df_profits['gross_profit'] / df_profits['budget']) * 100\n",
    "df.head()"
   ]
  },
  {
   "cell_type": "markdown",
   "metadata": {},
   "source": [
    "## What are the genres?"
   ]
  },
  {
   "cell_type": "code",
   "execution_count": 129,
   "metadata": {},
   "outputs": [
    {
     "data": {
      "text/plain": [
       "['Comedy']                        237\n",
       "['Drama']                         234\n",
       "['Drama', 'Romance']              114\n",
       "['Comedy', 'Romance']             106\n",
       "['Horror', 'Thriller']             91\n",
       "['Comedy', 'Drama']                85\n",
       "['Comedy', 'Drama', 'Romance']     79\n",
       "['Horror']                         69\n",
       "['Drama', 'Thriller']              52\n",
       "['Action', 'Thriller']             45\n",
       "Name: genres, dtype: int64"
      ]
     },
     "execution_count": 129,
     "metadata": {},
     "output_type": "execute_result"
    }
   ],
   "source": [
    "#showing first ten genres\n",
    "df_profits['genres'].value_counts()[0:10] #we should keep the combinations... They're important\n",
    "\n",
    "### MY ANALYSIS\n",
    "# What genres do we have?\n",
    "## 1625 unique combinations of genres\n",
    "\n",
    "# Top 3 Genres?\n",
    "## Comedy 552/1625 or 34%\n",
    "## Drama 419/1625 or 26%\n",
    "## (Drama + Romance) 195/1625 or 12%"
   ]
  },
  {
   "cell_type": "markdown",
   "metadata": {},
   "source": [
    "## What's the distribution of movie popularity?"
   ]
  },
  {
   "cell_type": "code",
   "execution_count": 130,
   "metadata": {
    "scrolled": true
   },
   "outputs": [
    {
     "data": {
      "image/png": "[encoded data removed]",
      "text/plain": [
       "<Figure size 432x288 with 1 Axes>"
      ]
     },
     "metadata": {
      "needs_background": "light"
     },
     "output_type": "display_data"
    }
   ],
   "source": [
    "plt.hist(df_profits[df_profits['popularity'] > 0]['popularity'], bins=60);\n",
    "plt.show()"
   ]
  },
  {
   "cell_type": "markdown",
   "metadata": {},
   "source": [
    "## What's the range of average vote ratings?"
   ]
  },
  {
   "cell_type": "code",
   "execution_count": 131,
   "metadata": {},
   "outputs": [
    {
     "name": "stderr",
     "output_type": "stream",
     "text": [
      "/Users/chrischung/anaconda3/lib/python3.6/site-packages/scipy/stats/stats.py:1713: FutureWarning: Using a non-tuple sequence for multidimensional indexing is deprecated; use `arr[tuple(seq)]` instead of `arr[seq]`. In the future this will be interpreted as an array index, `arr[np.array(seq)]`, which will result either in an error or a different result.\n",
      "  return np.add.reduce(sorted[indexer] * weights, axis=axis) / sumval\n"
     ]
    },
    {
     "data": {
      "text/plain": [
       "count    4273.000000\n",
       "mean        6.540417\n",
       "std         0.832336\n",
       "min         2.600000\n",
       "25%         6.000000\n",
       "50%         6.500000\n",
       "75%         7.100000\n",
       "max         8.800000\n",
       "Name: vote_average, dtype: float64"
      ]
     },
     "execution_count": 131,
     "metadata": {},
     "output_type": "execute_result"
    },
    {
     "data": {
      "image/png": "[encoded data removed]",
      "text/plain": [
       "<Figure size 720x360 with 1 Axes>"
      ]
     },
     "metadata": {
      "needs_background": "light"
     },
     "output_type": "display_data"
    }
   ],
   "source": [
    "y = range(0, df_profits['title'].count()) # plotting movie vote_average\n",
    "x = df_profits['vote_average']\n",
    "fig, ax = plt.subplots(figsize=(10,5))\n",
    "sns.lineplot(x,y);\n",
    "\n",
    "x.describe() "
   ]
  },
  {
   "cell_type": "markdown",
   "metadata": {},
   "source": [
    "It looks like most of our data is under 7"
   ]
  },
  {
   "cell_type": "markdown",
   "metadata": {},
   "source": [
    "## Plotting gross profit vs vote average"
   ]
  },
  {
   "cell_type": "code",
   "execution_count": 132,
   "metadata": {},
   "outputs": [
    {
     "data": {
      "image/png": "[encoded data removed]",
      "text/plain": [
       "<Figure size 720x432 with 1 Axes>"
      ]
     },
     "metadata": {
      "needs_background": "light"
     },
     "output_type": "display_data"
    }
   ],
   "source": [
    "fig, ax = plt.subplots(figsize=(10,6))\n",
    "sns.scatterplot(df_profits['ROI (%)'], df_profits['vote_average']);\n",
    "\n",
    "# the majority of movies making money have an average rating 5.5 - 8.5 (estimated)"
   ]
  },
  {
   "cell_type": "markdown",
   "metadata": {},
   "source": [
    "## Plotting gross profit vs vote count"
   ]
  },
  {
   "cell_type": "code",
   "execution_count": 133,
   "metadata": {},
   "outputs": [
    {
     "data": {
      "text/plain": [
       "<matplotlib.axes._subplots.AxesSubplot at 0x1df7912ba8>"
      ]
     },
     "execution_count": 133,
     "metadata": {},
     "output_type": "execute_result"
    },
    {
     "data": {
      "image/png": "[encoded data removed]",
      "text/plain": [
       "<Figure size 720x432 with 1 Axes>"
      ]
     },
     "metadata": {
      "needs_background": "light"
     },
     "output_type": "display_data"
    }
   ],
   "source": [
    "fig, ax = plt.subplots(figsize=(10,6))\n",
    "sns.scatterplot(df['ROI (%)'], df['vote_count'])\n",
    "\n",
    "# there is positive correlation between gross_profit and vote_count\n",
    "# more vote counts more money"
   ]
  },
  {
   "cell_type": "markdown",
   "metadata": {},
   "source": [
    "## Plotting profit vs popularity"
   ]
  },
  {
   "cell_type": "code",
   "execution_count": 134,
   "metadata": {
    "scrolled": true
   },
   "outputs": [
    {
     "data": {
      "text/plain": [
       "<matplotlib.axes._subplots.AxesSubplot at 0x1a1f2e8ac8>"
      ]
     },
     "execution_count": 134,
     "metadata": {},
     "output_type": "execute_result"
    },
    {
     "data": {
      "image/png": "[encoded data removed]",
      "text/plain": [
       "<Figure size 720x432 with 1 Axes>"
      ]
     },
     "metadata": {
      "needs_background": "light"
     },
     "output_type": "display_data"
    }
   ],
   "source": [
    "fig, ax = plt.subplots(figsize=(10,6))\n",
    "sns.scatterplot(df_profits['ROI (%)'], df_profits['popularity'])\n",
    "\n",
    "#isn't much correlation "
   ]
  },
  {
   "cell_type": "code",
   "execution_count": 135,
   "metadata": {},
   "outputs": [
    {
     "data": {
      "text/plain": [
       "str"
      ]
     },
     "execution_count": 135,
     "metadata": {},
     "output_type": "execute_result"
    }
   ],
   "source": [
    "type(df['genres'][0].strip('[').strip(']'))"
   ]
  },
  {
   "cell_type": "code",
   "execution_count": 136,
   "metadata": {},
   "outputs": [
    {
     "data": {
      "text/plain": [
       "['Comedy']                                                              552\n",
       "['Drama']                                                               419\n",
       "['Drama', 'Romance']                                                    195\n",
       "['Comedy', 'Romance']                                                   176\n",
       "['Comedy', 'Drama']                                                     173\n",
       "['Horror', 'Thriller']                                                  140\n",
       "['Comedy', 'Drama', 'Romance']                                          124\n",
       "['Horror']                                                              121\n",
       "['Drama', 'Thriller']                                                    80\n",
       "['Drama', 'Comedy']                                                      76\n",
       "['Drama', 'History']                                                     70\n",
       "['Action', 'Thriller']                                                   67\n",
       "['Thriller']                                                             61\n",
       "['Crime', 'Drama', 'Thriller']                                           60\n",
       "['Crime', 'Drama']                                                       58\n",
       "['Comedy', 'Crime']                                                      51\n",
       "['Comedy', 'Family']                                                     51\n",
       "['Romance', 'Comedy']                                                    50\n",
       "['Animation', 'Family']                                                  50\n",
       "['Action', 'Crime', 'Thriller']                                          49\n",
       "['Action', 'Comedy']                                                     43\n",
       "['Drama', 'Comedy', 'Romance']                                           41\n",
       "['Horror', 'Mystery', 'Thriller']                                        39\n",
       "['Drama', 'Crime']                                                       39\n",
       "['Comedy', 'Romance', 'Drama']                                           35\n",
       "['Romance', 'Drama']                                                     35\n",
       "['Thriller', 'Horror']                                                   34\n",
       "['Action', 'Thriller', 'Crime']                                          30\n",
       "['Action', 'Crime', 'Drama', 'Thriller']                                 30\n",
       "['Action']                                                               30\n",
       "                                                                       ... \n",
       "['Action', 'Crime', 'Thriller', 'Mystery']                                1\n",
       "['Thriller', 'Adventure', 'Action']                                       1\n",
       "['Fantasy', 'Thriller', 'Mystery']                                        1\n",
       "['Action', 'Adventure', 'Animation', 'Crime', 'Mystery']                  1\n",
       "['Animation', 'Romance', 'Family', 'Fantasy']                             1\n",
       "['Family', 'Adventure', 'Drama']                                          1\n",
       "['Action', 'Science Fiction', 'Comedy', 'Family']                         1\n",
       "['Horror', 'Mystery', 'Thriller', 'Crime']                                1\n",
       "['Adventure', 'Action', 'Thriller', 'Mystery']                            1\n",
       "['Romance', 'Fantasy', 'Horror']                                          1\n",
       "['Adventure', 'Drama', 'Action', 'Fantasy']                               1\n",
       "['Animation', 'Family', 'Fantasy', 'Adventure', 'Comedy', 'Romance']      1\n",
       "['Family', 'Fantasy', 'Science Fiction']                                  1\n",
       "['Action', 'Adventure', 'Drama', 'Mystery']                               1\n",
       "['Comedy', 'Horror', 'Romance']                                           1\n",
       "['Adventure', 'Crime', 'Drama', 'Mystery', 'Western']                     1\n",
       "['Drama', 'Fantasy', 'Horror', 'Mystery', 'Romance', 'Thriller']          1\n",
       "['Science Fiction', 'Fantasy', 'Action', 'Adventure']                     1\n",
       "['Adventure', 'History', 'War', 'Drama']                                  1\n",
       "['Science Fiction', 'Thriller', 'Drama']                                  1\n",
       "['Adventure', 'Action', 'Animation']                                      1\n",
       "['Science Fiction', 'Adventure', 'Action', 'Comedy', 'Family']            1\n",
       "['Adventure', 'Crime', 'Drama', 'Thriller']                               1\n",
       "['History', 'Drama', 'Thriller', 'War']                                   1\n",
       "['Animation', 'Comedy', 'Family', 'Western', 'Adventure']                 1\n",
       "['Adventure', 'Science Fiction', 'Action', 'Mystery']                     1\n",
       "['Action', 'Fantasy', 'Horror', 'Drama']                                  1\n",
       "['Science Fiction', 'Mystery', 'Drama', 'Thriller', 'TV Movie']           1\n",
       "['Thriller', 'Action', 'Adventure', 'Comedy', 'Crime']                    1\n",
       "['Adventure', 'Thriller', 'Drama']                                        1\n",
       "Name: genres, Length: 1625, dtype: int64"
      ]
     },
     "execution_count": 136,
     "metadata": {},
     "output_type": "execute_result"
    }
   ],
   "source": [
    "genre_count_list = []\n",
    "pd.DataFrame(df['genres']).iloc[0]\n",
    "# so far each entry is made up of strings\n",
    "\n",
    "df['genres'].value_counts() # maybe we can see for each genres "
   ]
  },
  {
   "cell_type": "code",
   "execution_count": 137,
   "metadata": {},
   "outputs": [
    {
     "data": {
      "text/plain": [
       "['Action', 'Adventure', 'Science Fiction']                3\n",
       "['Action', 'Adventure', 'Fantasy', 'Science Fiction']     2\n",
       "['Family', 'Animation', 'Adventure', 'Comedy']            1\n",
       "['Fantasy', 'Adventure']                                  1\n",
       "['Fantasy', 'Adventure', 'Science Fiction', 'Action']     1\n",
       "['Animation', 'Adventure', 'Family']                      1\n",
       "['Action', 'Adventure', 'Animation', 'Family']            1\n",
       "['Action', 'Adventure', 'Science Fiction', 'Fantasy']     1\n",
       "['Science Fiction', 'Action', 'Adventure']                1\n",
       "['Crime', 'Thriller', 'Drama']                            1\n",
       "['Animation', 'Family', 'Adventure']                      1\n",
       "['Adventure', 'Action', 'Science Fiction']                1\n",
       "['Action', 'Thriller']                                    1\n",
       "['Action', 'Adventure', 'Science Fiction', 'Thriller']    1\n",
       "['Adventure', 'Fantasy', 'Action']                        1\n",
       "['Drama', 'Romance', 'Thriller']                          1\n",
       "['Adventure', 'Science Fiction', 'Action']                1\n",
       "['Adventure', 'Family']                                   1\n",
       "['Family', 'Fantasy', 'Romance']                          1\n",
       "Name: genres, dtype: int64"
      ]
     },
     "execution_count": 137,
     "metadata": {},
     "output_type": "execute_result"
    }
   ],
   "source": [
    "df[df['gross_profit'] > 1000000000]['genres'].value_counts()"
   ]
  },
  {
   "cell_type": "code",
   "execution_count": 138,
   "metadata": {
    "scrolled": true
   },
   "outputs": [
    {
     "data": {
      "text/plain": [
       "['Horror']                                                    24\n",
       "['Drama']                                                     23\n",
       "['Comedy']                                                    22\n",
       "['Horror', 'Thriller']                                        15\n",
       "['Drama', 'Romance']                                          12\n",
       "['Comedy', 'Drama', 'Romance']                                10\n",
       "['Comedy', 'Drama']                                           10\n",
       "['Adventure', 'Action', 'Thriller']                            8\n",
       "['Comedy', 'Romance']                                          7\n",
       "['Drama', 'Comedy']                                            6\n",
       "['Western']                                                    5\n",
       "['Horror', 'Mystery', 'Thriller']                              4\n",
       "['Thriller', 'Horror']                                         4\n",
       "['Action', 'Crime', 'Thriller']                                3\n",
       "['Horror', 'Drama', 'Thriller']                                3\n",
       "['Comedy', 'Crime']                                            3\n",
       "['Adventure', 'Action', 'Science Fiction']                     3\n",
       "['Drama', 'History', 'War']                                    3\n",
       "['Horror', 'Mystery']                                          3\n",
       "['Comedy', 'Crime', 'Drama']                                   2\n",
       "['Romance', 'Comedy']                                          2\n",
       "['Horror', 'Thriller', 'Mystery']                              2\n",
       "['Action', 'Comedy', 'Crime']                                  2\n",
       "['Animation', 'Family']                                        2\n",
       "['Drama', 'Romance', 'War']                                    2\n",
       "['Drama', 'Crime']                                             2\n",
       "['Adventure', 'Action', 'Thriller', 'Science Fiction']         2\n",
       "['Animation', 'Comedy', 'Family']                              2\n",
       "['Drama', 'History']                                           2\n",
       "['Drama', 'Music', 'Romance']                                  2\n",
       "                                                              ..\n",
       "['Crime', 'Horror', 'Mystery']                                 1\n",
       "['Science Fiction', 'Drama', 'Thriller']                       1\n",
       "['Horror', 'Drama', 'Mystery', 'Thriller']                     1\n",
       "['Drama', 'Mystery', 'Thriller']                               1\n",
       "['Animation', 'Family', 'Adventure', 'Fantasy', 'Romance']     1\n",
       "['Comedy', 'Family', 'Fantasy']                                1\n",
       "['Mystery', 'Drama']                                           1\n",
       "['Romance', 'Comedy', 'Crime', 'Fantasy']                      1\n",
       "['Crime', 'Drama', 'Thriller', 'Horror']                       1\n",
       "['Fantasy', 'Family', 'Animation', 'Adventure']                1\n",
       "['Crime', 'Drama', 'Mystery', 'Thriller']                      1\n",
       "['Adventure', 'Fantasy', 'Drama', 'Romance']                   1\n",
       "['Comedy', 'Horror', 'Science Fiction']                        1\n",
       "['Comedy', 'Music']                                            1\n",
       "['Comedy', 'Horror']                                           1\n",
       "['Drama', 'Thriller', 'Science Fiction']                       1\n",
       "['Mystery', 'Thriller', 'Drama']                               1\n",
       "['Animation', 'Family', 'Fantasy']                             1\n",
       "['Animation', 'Family', 'Fantasy', 'Adventure']                1\n",
       "['Animation', 'Comedy', 'Family', 'Adventure']                 1\n",
       "['Science Fiction', 'Adventure', 'Family', 'Fantasy']          1\n",
       "['Mystery', 'Romance', 'Thriller']                             1\n",
       "['Adventure', 'Science Fiction']                               1\n",
       "['Comedy', 'Science Fiction', 'Fantasy', 'Horror']             1\n",
       "['Drama', 'Comedy', 'Romance', 'Family']                       1\n",
       "['Comedy', 'Thriller', 'Drama']                                1\n",
       "['Drama', 'Romance', 'Music']                                  1\n",
       "['History', 'Romance', 'Comedy']                               1\n",
       "['Crime', 'Drama', 'Mystery', 'Romance']                       1\n",
       "['Mystery', 'Drama', 'Thriller']                               1\n",
       "Name: genres, Length: 172, dtype: int64"
      ]
     },
     "execution_count": 138,
     "metadata": {},
     "output_type": "execute_result"
    }
   ],
   "source": [
    "df[df['ROI (%)'] > 1000]['genres'].value_counts()"
   ]
  },
  {
   "cell_type": "code",
   "execution_count": 139,
   "metadata": {},
   "outputs": [
    {
     "data": {
      "text/html": [
       "<div>\n",
       "<style scoped>\n",
       "    .dataframe tbody tr th:only-of-type {\n",
       "        vertical-align: middle;\n",
       "    }\n",
       "\n",
       "    .dataframe tbody tr th {\n",
       "        vertical-align: top;\n",
       "    }\n",
       "\n",
       "    .dataframe thead th {\n",
       "        text-align: right;\n",
       "    }\n",
       "</style>\n",
       "<table border=\"1\" class=\"dataframe\">\n",
       "  <thead>\n",
       "    <tr style=\"text-align: right;\">\n",
       "      <th></th>\n",
       "      <th>budget</th>\n",
       "      <th>genres</th>\n",
       "      <th>id</th>\n",
       "      <th>imdb_id</th>\n",
       "      <th>popularity</th>\n",
       "      <th>release_date</th>\n",
       "      <th>revenue</th>\n",
       "      <th>runtime</th>\n",
       "      <th>title</th>\n",
       "      <th>vote_average</th>\n",
       "      <th>vote_count</th>\n",
       "      <th>gross_profit</th>\n",
       "      <th>ROI (%)</th>\n",
       "    </tr>\n",
       "  </thead>\n",
       "  <tbody>\n",
       "    <tr>\n",
       "      <th>0</th>\n",
       "      <td>13200000</td>\n",
       "      <td>['Comedy', 'Drama', 'Romance']</td>\n",
       "      <td>19404</td>\n",
       "      <td>tt0112870</td>\n",
       "      <td>17.437</td>\n",
       "      <td>1995-10-20</td>\n",
       "      <td>100000000</td>\n",
       "      <td>190.0</td>\n",
       "      <td>Dilwale Dulhania Le Jayenge</td>\n",
       "      <td>8.8</td>\n",
       "      <td>2214</td>\n",
       "      <td>86800000.0</td>\n",
       "      <td>657.575758</td>\n",
       "    </tr>\n",
       "    <tr>\n",
       "      <th>1</th>\n",
       "      <td>25000000</td>\n",
       "      <td>['Drama', 'Crime']</td>\n",
       "      <td>278</td>\n",
       "      <td>tt0111161</td>\n",
       "      <td>35.028</td>\n",
       "      <td>1994-09-23</td>\n",
       "      <td>28341469</td>\n",
       "      <td>142.0</td>\n",
       "      <td>The Shawshank Redemption</td>\n",
       "      <td>8.7</td>\n",
       "      <td>15045</td>\n",
       "      <td>3341469.0</td>\n",
       "      <td>13.365876</td>\n",
       "    </tr>\n",
       "    <tr>\n",
       "      <th>2</th>\n",
       "      <td>6000000</td>\n",
       "      <td>['Drama', 'Crime']</td>\n",
       "      <td>238</td>\n",
       "      <td>tt0068646</td>\n",
       "      <td>29.433</td>\n",
       "      <td>1972-03-14</td>\n",
       "      <td>245066411</td>\n",
       "      <td>175.0</td>\n",
       "      <td>The Godfather</td>\n",
       "      <td>8.7</td>\n",
       "      <td>11486</td>\n",
       "      <td>239066411.0</td>\n",
       "      <td>3984.440183</td>\n",
       "    </tr>\n",
       "    <tr>\n",
       "      <th>3</th>\n",
       "      <td>11363000</td>\n",
       "      <td>['Comedy', 'Thriller', 'Drama']</td>\n",
       "      <td>496243</td>\n",
       "      <td>tt6751668</td>\n",
       "      <td>176.819</td>\n",
       "      <td>2019-05-30</td>\n",
       "      <td>201055038</td>\n",
       "      <td>132.0</td>\n",
       "      <td>Parasite</td>\n",
       "      <td>8.6</td>\n",
       "      <td>4751</td>\n",
       "      <td>189692038.0</td>\n",
       "      <td>1669.383420</td>\n",
       "    </tr>\n",
       "    <tr>\n",
       "      <th>4</th>\n",
       "      <td>22000000</td>\n",
       "      <td>['Drama', 'History', 'War']</td>\n",
       "      <td>424</td>\n",
       "      <td>tt0108052</td>\n",
       "      <td>19.641</td>\n",
       "      <td>1993-11-30</td>\n",
       "      <td>321365567</td>\n",
       "      <td>195.0</td>\n",
       "      <td>Schindler's List</td>\n",
       "      <td>8.6</td>\n",
       "      <td>9163</td>\n",
       "      <td>299365567.0</td>\n",
       "      <td>1360.752577</td>\n",
       "    </tr>\n",
       "  </tbody>\n",
       "</table>\n",
       "</div>"
      ],
      "text/plain": [
       "     budget                           genres      id    imdb_id  popularity  \\\n",
       "0  13200000   ['Comedy', 'Drama', 'Romance']   19404  tt0112870      17.437   \n",
       "1  25000000               ['Drama', 'Crime']     278  tt0111161      35.028   \n",
       "2   6000000               ['Drama', 'Crime']     238  tt0068646      29.433   \n",
       "3  11363000  ['Comedy', 'Thriller', 'Drama']  496243  tt6751668     176.819   \n",
       "4  22000000      ['Drama', 'History', 'War']     424  tt0108052      19.641   \n",
       "\n",
       "  release_date    revenue  runtime                        title  vote_average  \\\n",
       "0   1995-10-20  100000000    190.0  Dilwale Dulhania Le Jayenge           8.8   \n",
       "1   1994-09-23   28341469    142.0     The Shawshank Redemption           8.7   \n",
       "2   1972-03-14  245066411    175.0                The Godfather           8.7   \n",
       "3   2019-05-30  201055038    132.0                     Parasite           8.6   \n",
       "4   1993-11-30  321365567    195.0             Schindler's List           8.6   \n",
       "\n",
       "   vote_count  gross_profit      ROI (%)  \n",
       "0        2214    86800000.0   657.575758  \n",
       "1       15045     3341469.0    13.365876  \n",
       "2       11486   239066411.0  3984.440183  \n",
       "3        4751   189692038.0  1669.383420  \n",
       "4        9163   299365567.0  1360.752577  "
      ]
     },
     "execution_count": 139,
     "metadata": {},
     "output_type": "execute_result"
    }
   ],
   "source": [
    "# each movie you have has a profit_margin (ROI)\n",
    "# you have 1 movie with a list of genres ['Action, Adventure','Fantasy'a]\n",
    "# 657\n",
    "df_profits.head()"
   ]
  },
  {
   "cell_type": "markdown",
   "metadata": {},
   "source": [
    "## Preprocess Data to Calculate Average Weighted Budget for Each Genre"
   ]
  },
  {
   "cell_type": "code",
   "execution_count": 140,
   "metadata": {},
   "outputs": [],
   "source": [
    "# turn string into a list of strings\n",
    "df['genres'][0]\n",
    "res = ast.literal_eval(df['genres'][0]) "
   ]
  },
  {
   "cell_type": "code",
   "execution_count": 141,
   "metadata": {},
   "outputs": [
    {
     "data": {
      "text/plain": [
       "0                                [Comedy, Drama, Romance]\n",
       "1                                          [Drama, Crime]\n",
       "2                                          [Drama, Crime]\n",
       "3                               [Comedy, Thriller, Drama]\n",
       "4                                   [Drama, History, War]\n",
       "5                                          [Drama, Crime]\n",
       "6                            [Animation, Family, Fantasy]\n",
       "7                                 [Fantasy, Drama, Crime]\n",
       "8                                       [Thriller, Crime]\n",
       "9                                         [Comedy, Drama]\n",
       "10                               [Comedy, Drama, Romance]\n",
       "11                       [Drama, Action, Crime, Thriller]\n",
       "12                           [Adventure, Fantasy, Action]\n",
       "13                                        [Action, Drama]\n",
       "14                                         [Drama, Crime]\n",
       "15                                         [Drama, Crime]\n",
       "16                              [Horror, Drama, Thriller]\n",
       "17                                                [Drama]\n",
       "18                                              [Western]\n",
       "19                                                [Drama]\n",
       "20                                                [Drama]\n",
       "21      [Action, Adventure, Animation, Science Fiction...\n",
       "22                                         [Drama, Crime]\n",
       "23                                         [Drama, Music]\n",
       "24                               [Comedy, Drama, Romance]\n",
       "25                                                [Drama]\n",
       "26                                                [Drama]\n",
       "27                                               [Comedy]\n",
       "28                   [Adventure, Action, Science Fiction]\n",
       "29                        [Fantasy, Animation, Adventure]\n",
       "                              ...                        \n",
       "4243                   [Mystery, Thriller, Horror, Drama]\n",
       "4244                           [Horror, Thriller, Comedy]\n",
       "4245                 [Adventure, Comedy, Family, Fantasy]\n",
       "4246                                             [Comedy]\n",
       "4247                                             [Comedy]\n",
       "4248                                             [Comedy]\n",
       "4249                                   [Horror, Thriller]\n",
       "4250       [Action, Adventure, Science Fiction, Thriller]\n",
       "4251                                     [Drama, Romance]\n",
       "4252                                    [Romance, Comedy]\n",
       "4253        [Action, Adventure, Fantasy, Science Fiction]\n",
       "4254                   [Action, Fantasy, Science Fiction]\n",
       "4255      [Adventure, Animation, Comedy, Family, Fantasy]\n",
       "4256                          [Mystery, Thriller, Horror]\n",
       "4257                  [Thriller, Action, Science Fiction]\n",
       "4258                 [Action, Adventure, Fantasy, Horror]\n",
       "4259                  [Action, Science Fiction, Thriller]\n",
       "4260          [Thriller, Crime, Science Fiction, Mystery]\n",
       "4261                           [Comedy, Horror, Thriller]\n",
       "4262                                [Adventure, Thriller]\n",
       "4263                    [Science Fiction, Comedy, Family]\n",
       "4264                                             [Comedy]\n",
       "4265                                             [Comedy]\n",
       "4266                                      [Drama, Comedy]\n",
       "4267                          [Action, Adventure, Comedy]\n",
       "4268                  [Action, Fantasy, Horror, Thriller]\n",
       "4269                                     [Action, Comedy]\n",
       "4270                       [Action, Science Fiction, War]\n",
       "4271                           [Horror, Action, Thriller]\n",
       "4272    [Action, Adventure, Fantasy, Science Fiction, ...\n",
       "Name: genres, Length: 4273, dtype: object"
      ]
     },
     "execution_count": 141,
     "metadata": {},
     "output_type": "execute_result"
    }
   ],
   "source": [
    "# Turn genre combination in string form to list form to get a count of each one\n",
    "import ast #one example\n",
    "from tqdm import tqdm\n",
    "\n",
    "df_profits = df_profits.reset_index(drop=True)\n",
    "\n",
    "res_list = [] #loop through\n",
    "for i in df_profits['genres']:\n",
    "    res = ast.literal_eval(i)\n",
    "    res_list.append(res)\n",
    "\n",
    "df_profits['genres'] = res_list\n",
    "df_profits['genres']"
   ]
  },
  {
   "cell_type": "code",
   "execution_count": 142,
   "metadata": {},
   "outputs": [],
   "source": [
    "# count of all genres\n",
    "\n",
    "genre_and_count ={}\n",
    "for genres in df_profits.genres:\n",
    "    for genre in genres:\n",
    "        genre_and_count[genre] = genre_and_count.get(genre, 1) + 1 "
   ]
  },
  {
   "cell_type": "code",
   "execution_count": 143,
   "metadata": {},
   "outputs": [
    {
     "name": "stdout",
     "output_type": "stream",
     "text": [
      "11493\n"
     ]
    },
    {
     "data": {
      "text/plain": [
       "{'Comedy': 1480,\n",
       " 'Drama': 1877,\n",
       " 'Romance': 698,\n",
       " 'Crime': 701,\n",
       " 'Thriller': 1282,\n",
       " 'History': 193,\n",
       " 'War': 147,\n",
       " 'Animation': 286,\n",
       " 'Family': 503,\n",
       " 'Fantasy': 517,\n",
       " 'Action': 1196,\n",
       " 'Adventure': 900,\n",
       " 'Horror': 547,\n",
       " 'Western': 63,\n",
       " 'Science Fiction': 595,\n",
       " 'Music': 106,\n",
       " 'Mystery': 400,\n",
       " 'TV Movie': 2}"
      ]
     },
     "execution_count": 143,
     "metadata": {},
     "output_type": "execute_result"
    }
   ],
   "source": [
    "print(sum(genres_count.values()))\n",
    "genres_count"
   ]
  },
  {
   "cell_type": "code",
   "execution_count": 144,
   "metadata": {},
   "outputs": [
    {
     "data": {
      "image/png": "[encoded data removed]",
      "text/plain": [
       "<Figure size 1080x432 with 1 Axes>"
      ]
     },
     "metadata": {
      "needs_background": "light"
     },
     "output_type": "display_data"
    }
   ],
   "source": [
    "# graph of the number of genres\n",
    "fig, ax = plt.subplots(figsize=(15,6))\n",
    "plt.xticks(rotation=45)\n",
    "plt.bar(genres_count.keys(), genres_count.values());"
   ]
  },
  {
   "cell_type": "markdown",
   "metadata": {},
   "source": [
    "## Calculate Average Weighted Budget for Each Genre"
   ]
  },
  {
   "cell_type": "code",
   "execution_count": 145,
   "metadata": {},
   "outputs": [],
   "source": [
    "# get number of genres per row and divide it by the budget\n",
    "df_profits['qty_of_genres'] = df_profits['genres'].map(lambda x: len(x)) # get len of each genre and create column\n",
    "df_profits['weighted_budget']  = round(df_profits['budget'] / df_profits['qty_of_genres'],2) #divide budget/genre qty for weights"
   ]
  },
  {
   "cell_type": "code",
   "execution_count": 159,
   "metadata": {},
   "outputs": [
    {
     "data": {
      "text/plain": [
       "{'Comedy': 22110244977.059982,\n",
       " 'Drama': 21582787850.83,\n",
       " 'Romance': 7335526459.839999,\n",
       " 'Crime': 7571728193.84,\n",
       " 'Thriller': 15334472643.820002,\n",
       " 'History': 2506955968.609999,\n",
       " 'War': 1780655075.23,\n",
       " 'Animation': 5656756198.65,\n",
       " 'Family': 9817419606.749998,\n",
       " 'Fantasy': 10801039632.24,\n",
       " 'Action': 24153247089.410004,\n",
       " 'Adventure': 20642300959.53,\n",
       " 'Horror': 4046237816.4299994,\n",
       " 'Western': 768518730.49,\n",
       " 'Science Fiction': 12089632379.579998,\n",
       " 'Music': 893114061.4799999,\n",
       " 'Mystery': 3848972922.3900003,\n",
       " 'TV Movie': 2333333.33}"
      ]
     },
     "execution_count": 159,
     "metadata": {},
     "output_type": "execute_result"
    }
   ],
   "source": [
    "#sum the weighted budget for each genre to average it by the number of individual genres in next cell\n",
    "genre_wbudget ={} \n",
    "for index in df_profits.index:\n",
    "    for genre in df_profits['genres'][index]:\n",
    "        budget = df_profits['weighted_budget'][index] \n",
    "        genre_wbudget[genre] = genre_wbudget.get(genre,0) + budget\n",
    "genre_wbudget"
   ]
  },
  {
   "cell_type": "code",
   "execution_count": 147,
   "metadata": {},
   "outputs": [
    {
     "data": {
      "text/plain": [
       "{'Comedy': 14939354.714229718,\n",
       " 'Drama': 11498555.061710177,\n",
       " 'Romance': 10509350.228997134,\n",
       " 'Crime': 10801324.099629102,\n",
       " 'Thriller': 11961367.116864275,\n",
       " 'History': 12989409.163782379,\n",
       " 'War': 12113299.831496598,\n",
       " 'Animation': 19778867.827447552,\n",
       " 'Family': 19517732.816600394,\n",
       " 'Fantasy': 20891759.443404254,\n",
       " 'Action': 20195022.650008366,\n",
       " 'Adventure': 22935889.955033332,\n",
       " 'Horror': 7397144.088537476,\n",
       " 'Western': 12198710.007777778,\n",
       " 'Science Fiction': 20318709.881647054,\n",
       " 'Music': 8425604.353584904,\n",
       " 'Mystery': 9622432.305975001,\n",
       " 'TV Movie': 1166666.665}"
      ]
     },
     "execution_count": 147,
     "metadata": {},
     "output_type": "execute_result"
    }
   ],
   "source": [
    "# get average of the weighted budget by genre count\n",
    "genre_and_weight_budget = {}\n",
    "for genre, budget in genre_wbudget.items():\n",
    "    genre_and_weight_budget.update({genre:budget / genre_and_count[genre]})\n",
    "genre_and_weight_budget "
   ]
  },
  {
   "cell_type": "code",
   "execution_count": 148,
   "metadata": {},
   "outputs": [
    {
     "data": {
      "image/png": "[encoded data removed]",
      "text/plain": [
       "<Figure size 864x576 with 1 Axes>"
      ]
     },
     "metadata": {
      "needs_background": "light"
     },
     "output_type": "display_data"
    }
   ],
   "source": [
    "plt.figure(figsize=(12,8));\n",
    "plt.bar(genre_and_weight_budget.keys(),genre_and_weight_budget.values());\n",
    "plt.title('Genres and their weighted average budget');\n",
    "plt.xlabel('Genres');\n",
    "plt.ylabel('Average Budget');\n",
    "plt.xticks(rotation=45)\n",
    "plt.show()"
   ]
  },
  {
   "cell_type": "markdown",
   "metadata": {},
   "source": [
    "## Calculate Average Weighted ROI for Each Genre"
   ]
  },
  {
   "cell_type": "code",
   "execution_count": 174,
   "metadata": {},
   "outputs": [
    {
     "data": {
      "text/html": [
       "<div>\n",
       "<style scoped>\n",
       "    .dataframe tbody tr th:only-of-type {\n",
       "        vertical-align: middle;\n",
       "    }\n",
       "\n",
       "    .dataframe tbody tr th {\n",
       "        vertical-align: top;\n",
       "    }\n",
       "\n",
       "    .dataframe thead th {\n",
       "        text-align: right;\n",
       "    }\n",
       "</style>\n",
       "<table border=\"1\" class=\"dataframe\">\n",
       "  <thead>\n",
       "    <tr style=\"text-align: right;\">\n",
       "      <th></th>\n",
       "      <th>budget</th>\n",
       "      <th>genres</th>\n",
       "      <th>id</th>\n",
       "      <th>imdb_id</th>\n",
       "      <th>popularity</th>\n",
       "      <th>release_date</th>\n",
       "      <th>revenue</th>\n",
       "      <th>runtime</th>\n",
       "      <th>title</th>\n",
       "      <th>vote_average</th>\n",
       "      <th>vote_count</th>\n",
       "      <th>gross_profit</th>\n",
       "      <th>ROI (%)</th>\n",
       "      <th>qty_of_genres</th>\n",
       "      <th>weighted_budget</th>\n",
       "      <th>weighted_ROI</th>\n",
       "    </tr>\n",
       "  </thead>\n",
       "  <tbody>\n",
       "  </tbody>\n",
       "</table>\n",
       "</div>"
      ],
      "text/plain": [
       "Empty DataFrame\n",
       "Columns: [budget, genres, id, imdb_id, popularity, release_date, revenue, runtime, title, vote_average, vote_count, gross_profit, ROI (%), qty_of_genres, weighted_budget, weighted_ROI]\n",
       "Index: []"
      ]
     },
     "execution_count": 174,
     "metadata": {},
     "output_type": "execute_result"
    }
   ],
   "source": [
    "def reject_outliers(data, m=2):\n",
    "    return data[abs(data['ROI (%)'] - np.mean(data['ROI (%)'])) < m * np.std(data['ROI (%)'])]\n",
    "\n",
    "df_profits = reject_outliers(df_profits, m=2)\n",
    "df_profits[df_profits['title'] == 'Paranormal Activity']"
   ]
  },
  {
   "cell_type": "code",
   "execution_count": 175,
   "metadata": {},
   "outputs": [
    {
     "name": "stderr",
     "output_type": "stream",
     "text": [
      "/Users/chrischung/anaconda3/lib/python3.6/site-packages/ipykernel_launcher.py:1: SettingWithCopyWarning: \n",
      "A value is trying to be set on a copy of a slice from a DataFrame.\n",
      "Try using .loc[row_indexer,col_indexer] = value instead\n",
      "\n",
      "See the caveats in the documentation: http://pandas.pydata.org/pandas-docs/stable/indexing.html#indexing-view-versus-copy\n",
      "  \"\"\"Entry point for launching an IPython kernel.\n"
     ]
    }
   ],
   "source": [
    "df_profits['weighted_ROI']  = round(df_profits['ROI (%)'] / df_profits['qty_of_genres'],2) #divide budget/genre qty for weights\n",
    "# sum the weight\n",
    "# sum the weight / qty"
   ]
  },
  {
   "cell_type": "code",
   "execution_count": 176,
   "metadata": {},
   "outputs": [
    {
     "data": {
      "text/plain": [
       "{'Comedy': 291352.79000000027,\n",
       " 'Drama': 338942.81999999937,\n",
       " 'Romance': 109076.79000000004,\n",
       " 'Crime': 71423.21000000004,\n",
       " 'Thriller': 170096.8000000001,\n",
       " 'History': 18970.180000000004,\n",
       " 'War': 18501.019999999982,\n",
       " 'Animation': 56267.34000000007,\n",
       " 'Family': 73310.11000000006,\n",
       " 'Fantasy': 53669.10000000004,\n",
       " 'Action': 118984.86000000016,\n",
       " 'Adventure': 98867.63000000018,\n",
       " 'Horror': 273084.1100000001,\n",
       " 'Western': 21461.24,\n",
       " 'Science Fiction': 65997.30000000003,\n",
       " 'Music': 19758.790000000008,\n",
       " 'Mystery': 44336.77999999999,\n",
       " 'TV Movie': 9.05}"
      ]
     },
     "execution_count": 176,
     "metadata": {},
     "output_type": "execute_result"
    }
   ],
   "source": [
    "# trying to link genre to the ROI\n",
    "genre_roi_sum = {}\n",
    "for index in df_profits.index:\n",
    "    for genre in df_profits['genres'][index]:\n",
    "        roi = df_profits['weighted_ROI'][index] \n",
    "        genre_roi_sum[genre] = genre_roi_sum.get(genre,0) + roi    \n",
    "genre_roi_sum"
   ]
  },
  {
   "cell_type": "code",
   "execution_count": 177,
   "metadata": {},
   "outputs": [
    {
     "data": {
      "text/plain": [
       "{'Comedy': 196.85999324324342,\n",
       " 'Drama': 180.5768886521041,\n",
       " 'Romance': 156.27047277936967,\n",
       " 'Crime': 101.8876034236805,\n",
       " 'Thriller': 132.68081123244937,\n",
       " 'History': 98.29108808290158,\n",
       " 'War': 125.8572789115645,\n",
       " 'Animation': 196.7389510489513,\n",
       " 'Family': 145.74574552683907,\n",
       " 'Fantasy': 103.80870406189564,\n",
       " 'Action': 99.4856688963212,\n",
       " 'Adventure': 109.85292222222242,\n",
       " 'Horror': 499.23968921389417,\n",
       " 'Western': 340.6546031746032,\n",
       " 'Science Fiction': 110.91983193277316,\n",
       " 'Music': 186.4036792452831,\n",
       " 'Mystery': 110.84194999999998,\n",
       " 'TV Movie': 4.525}"
      ]
     },
     "execution_count": 177,
     "metadata": {},
     "output_type": "execute_result"
    }
   ],
   "source": [
    "genre_weighted_roi = {}\n",
    "for genre, roi in genre_roi_sum.items():\n",
    "    genre_weighted_roi.update({genre: roi / genre_and_count[genre]})\n",
    "genre_weighted_roi"
   ]
  },
  {
   "cell_type": "code",
   "execution_count": 178,
   "metadata": {},
   "outputs": [
    {
     "data": {
      "image/png": "[encoded data removed]",
      "text/plain": [
       "<Figure size 864x576 with 1 Axes>"
      ]
     },
     "metadata": {
      "needs_background": "light"
     },
     "output_type": "display_data"
    }
   ],
   "source": [
    "plt.figure(figsize=(12,8));\n",
    "plt.bar(genre_weighted_roi.keys(),genre_weighted_roi.values());\n",
    "plt.title('Genres and their weighted average ROI');\n",
    "plt.xlabel('Genres');\n",
    "plt.ylabel('Average ROI');\n",
    "plt.xticks(rotation=45)\n",
    "plt.show()"
   ]
  }
 ],
 "metadata": {
  "kernelspec": {
   "display_name": "Python 3",
   "language": "python",
   "name": "python3"
  },
  "language_info": {
   "codemirror_mode": {
    "name": "ipython",
    "version": 3
   },
   "file_extension": ".py",
   "mimetype": "text/x-python",
   "name": "python",
   "nbconvert_exporter": "python",
   "pygments_lexer": "ipython3",
   "version": "3.6.7"
  }
 },
 "nbformat": 4,
 "nbformat_minor": 2
}
