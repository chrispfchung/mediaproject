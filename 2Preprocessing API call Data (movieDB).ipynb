{
 "cells": [
  {
   "cell_type": "markdown",
   "metadata": {},
   "source": [
    "## Cleaning Data (API Called) 6950 data points"
   ]
  },
  {
   "cell_type": "code",
   "execution_count": 1,
   "metadata": {},
   "outputs": [],
   "source": [
    "#import libraries\n",
    "import numpy as np\n",
    "import matplotlib.pyplot as plt\n",
    "%matplotlib inline\n",
    "import seaborn as sns\n",
    "\n",
    "#read in CSV\n",
    "df = pd.read_csv('movieDB_API_movies.csv') \n",
    "\n",
    "# drop useless column index-like column\n",
    "df = df.drop(columns='Unnamed: 0') \n",
    "\n",
    "## Create Metric Columns\n",
    "# Create Total Profit Column WITH values containing budget/revenue\n",
    "df['gross_profit'] = round(df[(df['revenue'] != 0) & (df['budget'] != 0)]['revenue'] -df[(df['revenue'] != 0) & (df['budget'] != 0)]['budget'],2)\n",
    "# Create ROI column\n",
    "df['ROI (%)'] = round((df['gross_profit'] / df['budget']) * 100,2)\n",
    "\n",
    "# there are 2677 with null gross_profit, we want to\n",
    "df_profits = df[df['gross_profit'].notna()]\n",
    "\n",
    "# pd.DataFrame(df_profits).to_csv('movieDB_API_movies_w_gross_profits_&_ROI.csv') #Turn into csv file for easy access"
   ]
  },
  {
   "cell_type": "code",
   "execution_count": 2,
   "metadata": {},
   "outputs": [
    {
     "data": {
      "text/html": [
       "<div>\n",
       "<style scoped>\n",
       "    .dataframe tbody tr th:only-of-type {\n",
       "        vertical-align: middle;\n",
       "    }\n",
       "\n",
       "    .dataframe tbody tr th {\n",
       "        vertical-align: top;\n",
       "    }\n",
       "\n",
       "    .dataframe thead th {\n",
       "        text-align: right;\n",
       "    }\n",
       "</style>\n",
       "<table border=\"1\" class=\"dataframe\">\n",
       "  <thead>\n",
       "    <tr style=\"text-align: right;\">\n",
       "      <th></th>\n",
       "      <th>budget</th>\n",
       "      <th>genres</th>\n",
       "      <th>id</th>\n",
       "      <th>imdb_id</th>\n",
       "      <th>popularity</th>\n",
       "      <th>release_date</th>\n",
       "      <th>revenue</th>\n",
       "      <th>runtime</th>\n",
       "      <th>title</th>\n",
       "      <th>vote_average</th>\n",
       "      <th>vote_count</th>\n",
       "      <th>gross_profit</th>\n",
       "      <th>ROI (%)</th>\n",
       "    </tr>\n",
       "  </thead>\n",
       "  <tbody>\n",
       "    <tr>\n",
       "      <th>0</th>\n",
       "      <td>13200000</td>\n",
       "      <td>['Comedy', 'Drama', 'Romance']</td>\n",
       "      <td>19404</td>\n",
       "      <td>tt0112870</td>\n",
       "      <td>17.437</td>\n",
       "      <td>1995-10-20</td>\n",
       "      <td>100000000</td>\n",
       "      <td>190.0</td>\n",
       "      <td>Dilwale Dulhania Le Jayenge</td>\n",
       "      <td>8.8</td>\n",
       "      <td>2214</td>\n",
       "      <td>86800000.0</td>\n",
       "      <td>657.58</td>\n",
       "    </tr>\n",
       "    <tr>\n",
       "      <th>1</th>\n",
       "      <td>25000000</td>\n",
       "      <td>['Drama', 'Crime']</td>\n",
       "      <td>278</td>\n",
       "      <td>tt0111161</td>\n",
       "      <td>35.028</td>\n",
       "      <td>1994-09-23</td>\n",
       "      <td>28341469</td>\n",
       "      <td>142.0</td>\n",
       "      <td>The Shawshank Redemption</td>\n",
       "      <td>8.7</td>\n",
       "      <td>15045</td>\n",
       "      <td>3341469.0</td>\n",
       "      <td>13.37</td>\n",
       "    </tr>\n",
       "    <tr>\n",
       "      <th>2</th>\n",
       "      <td>6000000</td>\n",
       "      <td>['Drama', 'Crime']</td>\n",
       "      <td>238</td>\n",
       "      <td>tt0068646</td>\n",
       "      <td>29.433</td>\n",
       "      <td>1972-03-14</td>\n",
       "      <td>245066411</td>\n",
       "      <td>175.0</td>\n",
       "      <td>The Godfather</td>\n",
       "      <td>8.7</td>\n",
       "      <td>11486</td>\n",
       "      <td>239066411.0</td>\n",
       "      <td>3984.44</td>\n",
       "    </tr>\n",
       "    <tr>\n",
       "      <th>3</th>\n",
       "      <td>11363000</td>\n",
       "      <td>['Comedy', 'Thriller', 'Drama']</td>\n",
       "      <td>496243</td>\n",
       "      <td>tt6751668</td>\n",
       "      <td>176.819</td>\n",
       "      <td>2019-05-30</td>\n",
       "      <td>201055038</td>\n",
       "      <td>132.0</td>\n",
       "      <td>Parasite</td>\n",
       "      <td>8.6</td>\n",
       "      <td>4751</td>\n",
       "      <td>189692038.0</td>\n",
       "      <td>1669.38</td>\n",
       "    </tr>\n",
       "    <tr>\n",
       "      <th>4</th>\n",
       "      <td>22000000</td>\n",
       "      <td>['Drama', 'History', 'War']</td>\n",
       "      <td>424</td>\n",
       "      <td>tt0108052</td>\n",
       "      <td>19.641</td>\n",
       "      <td>1993-11-30</td>\n",
       "      <td>321365567</td>\n",
       "      <td>195.0</td>\n",
       "      <td>Schindler's List</td>\n",
       "      <td>8.6</td>\n",
       "      <td>9163</td>\n",
       "      <td>299365567.0</td>\n",
       "      <td>1360.75</td>\n",
       "    </tr>\n",
       "  </tbody>\n",
       "</table>\n",
       "</div>"
      ],
      "text/plain": [
       "     budget                           genres      id    imdb_id  popularity  \\\n",
       "0  13200000   ['Comedy', 'Drama', 'Romance']   19404  tt0112870      17.437   \n",
       "1  25000000               ['Drama', 'Crime']     278  tt0111161      35.028   \n",
       "2   6000000               ['Drama', 'Crime']     238  tt0068646      29.433   \n",
       "3  11363000  ['Comedy', 'Thriller', 'Drama']  496243  tt6751668     176.819   \n",
       "4  22000000      ['Drama', 'History', 'War']     424  tt0108052      19.641   \n",
       "\n",
       "  release_date    revenue  runtime                        title  vote_average  \\\n",
       "0   1995-10-20  100000000    190.0  Dilwale Dulhania Le Jayenge           8.8   \n",
       "1   1994-09-23   28341469    142.0     The Shawshank Redemption           8.7   \n",
       "2   1972-03-14  245066411    175.0                The Godfather           8.7   \n",
       "3   2019-05-30  201055038    132.0                     Parasite           8.6   \n",
       "4   1993-11-30  321365567    195.0             Schindler's List           8.6   \n",
       "\n",
       "   vote_count  gross_profit  ROI (%)  \n",
       "0        2214    86800000.0   657.58  \n",
       "1       15045     3341469.0    13.37  \n",
       "2       11486   239066411.0  3984.44  \n",
       "3        4751   189692038.0  1669.38  \n",
       "4        9163   299365567.0  1360.75  "
      ]
     },
     "execution_count": 2,
     "metadata": {},
     "output_type": "execute_result"
    }
   ],
   "source": [
    "df_profits.head() # this is what our data looks like"
   ]
  },
  {
   "cell_type": "code",
   "execution_count": 3,
   "metadata": {},
   "outputs": [
    {
     "name": "stdout",
     "output_type": "stream",
     "text": [
      "<class 'pandas.core.frame.DataFrame'>\n",
      "Int64Index: 4273 entries, 0 to 6949\n",
      "Data columns (total 13 columns):\n",
      " #   Column        Non-Null Count  Dtype  \n",
      "---  ------        --------------  -----  \n",
      " 0   budget        4273 non-null   int64  \n",
      " 1   genres        4273 non-null   object \n",
      " 2   id            4273 non-null   int64  \n",
      " 3   imdb_id       4273 non-null   object \n",
      " 4   popularity    4273 non-null   float64\n",
      " 5   release_date  4273 non-null   object \n",
      " 6   revenue       4273 non-null   int64  \n",
      " 7   runtime       4271 non-null   float64\n",
      " 8   title         4273 non-null   object \n",
      " 9   vote_average  4273 non-null   float64\n",
      " 10  vote_count    4273 non-null   int64  \n",
      " 11  gross_profit  4273 non-null   float64\n",
      " 12  ROI (%)       4273 non-null   float64\n",
      "dtypes: float64(5), int64(4), object(4)\n",
      "memory usage: 467.4+ KB\n"
     ]
    }
   ],
   "source": [
    "df_profits.info() # 6950 no missing data apparently, 4273/6950 have gross_profit (61% of data can use profit metric)"
   ]
  },
  {
   "cell_type": "markdown",
   "metadata": {},
   "source": [
    "## What are the genres?"
   ]
  },
  {
   "cell_type": "code",
   "execution_count": 4,
   "metadata": {},
   "outputs": [
    {
     "data": {
      "text/plain": [
       "['Comedy']                        237\n",
       "['Drama']                         234\n",
       "['Drama', 'Romance']              114\n",
       "['Comedy', 'Romance']             106\n",
       "['Horror', 'Thriller']             91\n",
       "['Comedy', 'Drama']                85\n",
       "['Comedy', 'Drama', 'Romance']     79\n",
       "['Horror']                         69\n",
       "['Drama', 'Thriller']              52\n",
       "['Action', 'Thriller']             45\n",
       "Name: genres, dtype: int64"
      ]
     },
     "execution_count": 4,
     "metadata": {},
     "output_type": "execute_result"
    }
   ],
   "source": [
    "#showing first ten genres\n",
    "df_profits['genres'].value_counts()[0:10] #we should keep the combinations... They're important\n",
    "\n",
    "### MY ANALYSIS\n",
    "# What genres do we have?\n",
    "## 1625 unique combinations of genres\n",
    "\n",
    "# Top 3 Genres?\n",
    "## Comedy 552/1625 or 34%\n",
    "## Drama 419/1625 or 26%\n",
    "## (Drama + Romance) 195/1625 or 12%"
   ]
  },
  {
   "cell_type": "code",
   "execution_count": 5,
   "metadata": {},
   "outputs": [
    {
     "data": {
      "text/plain": [
       "['Comedy']                                                     552\n",
       "['Drama']                                                      419\n",
       "['Drama', 'Romance']                                           195\n",
       "['Comedy', 'Romance']                                          176\n",
       "['Comedy', 'Drama']                                            173\n",
       "                                                              ... \n",
       "['Action', 'Comedy', 'Drama', 'Fantasy', 'Thriller']             1\n",
       "['Horror', 'Fantasy', 'Drama', 'Action', 'Science Fiction']      1\n",
       "['Western', 'Comedy']                                            1\n",
       "['Comedy', 'Family', 'Science Fiction', 'Fantasy']               1\n",
       "['Fantasy', 'Action', 'Adventure', 'Family', 'Comedy']           1\n",
       "Name: genres, Length: 1625, dtype: int64"
      ]
     },
     "execution_count": 5,
     "metadata": {},
     "output_type": "execute_result"
    }
   ],
   "source": [
    "genre_count_list = []\n",
    "pd.DataFrame(df['genres']).iloc[0]\n",
    "# so far each entry is made up of strings\n",
    "\n",
    "df['genres'].value_counts() # maybe we can see for each genres "
   ]
  },
  {
   "cell_type": "code",
   "execution_count": 6,
   "metadata": {},
   "outputs": [
    {
     "data": {
      "text/html": [
       "<div>\n",
       "<style scoped>\n",
       "    .dataframe tbody tr th:only-of-type {\n",
       "        vertical-align: middle;\n",
       "    }\n",
       "\n",
       "    .dataframe tbody tr th {\n",
       "        vertical-align: top;\n",
       "    }\n",
       "\n",
       "    .dataframe thead th {\n",
       "        text-align: right;\n",
       "    }\n",
       "</style>\n",
       "<table border=\"1\" class=\"dataframe\">\n",
       "  <thead>\n",
       "    <tr style=\"text-align: right;\">\n",
       "      <th></th>\n",
       "      <th>budget</th>\n",
       "      <th>genres</th>\n",
       "      <th>id</th>\n",
       "      <th>imdb_id</th>\n",
       "      <th>popularity</th>\n",
       "      <th>release_date</th>\n",
       "      <th>revenue</th>\n",
       "      <th>runtime</th>\n",
       "      <th>title</th>\n",
       "      <th>vote_average</th>\n",
       "      <th>vote_count</th>\n",
       "      <th>gross_profit</th>\n",
       "      <th>ROI (%)</th>\n",
       "    </tr>\n",
       "  </thead>\n",
       "  <tbody>\n",
       "    <tr>\n",
       "      <th>0</th>\n",
       "      <td>13200000</td>\n",
       "      <td>['Comedy', 'Drama', 'Romance']</td>\n",
       "      <td>19404</td>\n",
       "      <td>tt0112870</td>\n",
       "      <td>17.437</td>\n",
       "      <td>1995-10-20</td>\n",
       "      <td>100000000</td>\n",
       "      <td>190.0</td>\n",
       "      <td>Dilwale Dulhania Le Jayenge</td>\n",
       "      <td>8.8</td>\n",
       "      <td>2214</td>\n",
       "      <td>86800000.0</td>\n",
       "      <td>657.58</td>\n",
       "    </tr>\n",
       "    <tr>\n",
       "      <th>1</th>\n",
       "      <td>25000000</td>\n",
       "      <td>['Drama', 'Crime']</td>\n",
       "      <td>278</td>\n",
       "      <td>tt0111161</td>\n",
       "      <td>35.028</td>\n",
       "      <td>1994-09-23</td>\n",
       "      <td>28341469</td>\n",
       "      <td>142.0</td>\n",
       "      <td>The Shawshank Redemption</td>\n",
       "      <td>8.7</td>\n",
       "      <td>15045</td>\n",
       "      <td>3341469.0</td>\n",
       "      <td>13.37</td>\n",
       "    </tr>\n",
       "    <tr>\n",
       "      <th>2</th>\n",
       "      <td>6000000</td>\n",
       "      <td>['Drama', 'Crime']</td>\n",
       "      <td>238</td>\n",
       "      <td>tt0068646</td>\n",
       "      <td>29.433</td>\n",
       "      <td>1972-03-14</td>\n",
       "      <td>245066411</td>\n",
       "      <td>175.0</td>\n",
       "      <td>The Godfather</td>\n",
       "      <td>8.7</td>\n",
       "      <td>11486</td>\n",
       "      <td>239066411.0</td>\n",
       "      <td>3984.44</td>\n",
       "    </tr>\n",
       "    <tr>\n",
       "      <th>3</th>\n",
       "      <td>11363000</td>\n",
       "      <td>['Comedy', 'Thriller', 'Drama']</td>\n",
       "      <td>496243</td>\n",
       "      <td>tt6751668</td>\n",
       "      <td>176.819</td>\n",
       "      <td>2019-05-30</td>\n",
       "      <td>201055038</td>\n",
       "      <td>132.0</td>\n",
       "      <td>Parasite</td>\n",
       "      <td>8.6</td>\n",
       "      <td>4751</td>\n",
       "      <td>189692038.0</td>\n",
       "      <td>1669.38</td>\n",
       "    </tr>\n",
       "    <tr>\n",
       "      <th>4</th>\n",
       "      <td>22000000</td>\n",
       "      <td>['Drama', 'History', 'War']</td>\n",
       "      <td>424</td>\n",
       "      <td>tt0108052</td>\n",
       "      <td>19.641</td>\n",
       "      <td>1993-11-30</td>\n",
       "      <td>321365567</td>\n",
       "      <td>195.0</td>\n",
       "      <td>Schindler's List</td>\n",
       "      <td>8.6</td>\n",
       "      <td>9163</td>\n",
       "      <td>299365567.0</td>\n",
       "      <td>1360.75</td>\n",
       "    </tr>\n",
       "  </tbody>\n",
       "</table>\n",
       "</div>"
      ],
      "text/plain": [
       "     budget                           genres      id    imdb_id  popularity  \\\n",
       "0  13200000   ['Comedy', 'Drama', 'Romance']   19404  tt0112870      17.437   \n",
       "1  25000000               ['Drama', 'Crime']     278  tt0111161      35.028   \n",
       "2   6000000               ['Drama', 'Crime']     238  tt0068646      29.433   \n",
       "3  11363000  ['Comedy', 'Thriller', 'Drama']  496243  tt6751668     176.819   \n",
       "4  22000000      ['Drama', 'History', 'War']     424  tt0108052      19.641   \n",
       "\n",
       "  release_date    revenue  runtime                        title  vote_average  \\\n",
       "0   1995-10-20  100000000    190.0  Dilwale Dulhania Le Jayenge           8.8   \n",
       "1   1994-09-23   28341469    142.0     The Shawshank Redemption           8.7   \n",
       "2   1972-03-14  245066411    175.0                The Godfather           8.7   \n",
       "3   2019-05-30  201055038    132.0                     Parasite           8.6   \n",
       "4   1993-11-30  321365567    195.0             Schindler's List           8.6   \n",
       "\n",
       "   vote_count  gross_profit  ROI (%)  \n",
       "0        2214    86800000.0   657.58  \n",
       "1       15045     3341469.0    13.37  \n",
       "2       11486   239066411.0  3984.44  \n",
       "3        4751   189692038.0  1669.38  \n",
       "4        9163   299365567.0  1360.75  "
      ]
     },
     "execution_count": 6,
     "metadata": {},
     "output_type": "execute_result"
    }
   ],
   "source": [
    "# each movie you have has a profit_margin (ROI)\n",
    "# you have 1 movie with a list of genres ['Action, Adventure','Fantasy'a]\n",
    "# 657\n",
    "df_profits.head()"
   ]
  },
  {
   "cell_type": "markdown",
   "metadata": {},
   "source": [
    "## Preprocess Data to Calculate Average Weighted Budget for Each Genre"
   ]
  },
  {
   "cell_type": "code",
   "execution_count": 7,
   "metadata": {},
   "outputs": [
    {
     "data": {
      "text/plain": [
       "0                                [Comedy, Drama, Romance]\n",
       "1                                          [Drama, Crime]\n",
       "2                                          [Drama, Crime]\n",
       "3                               [Comedy, Thriller, Drama]\n",
       "4                                   [Drama, History, War]\n",
       "                              ...                        \n",
       "4268                  [Action, Fantasy, Horror, Thriller]\n",
       "4269                                     [Action, Comedy]\n",
       "4270                       [Action, Science Fiction, War]\n",
       "4271                           [Horror, Action, Thriller]\n",
       "4272    [Action, Adventure, Fantasy, Science Fiction, ...\n",
       "Name: genres, Length: 4273, dtype: object"
      ]
     },
     "execution_count": 7,
     "metadata": {},
     "output_type": "execute_result"
    }
   ],
   "source": [
    "import ast #one example\n",
    "from tqdm import tqdm # progress bar\n",
    "\n",
    "#Fix data type of Genre Column\n",
    "df['genres'][0]\n",
    "res = ast.literal_eval(df['genres'][0]) \n",
    "\n",
    "df_profits = df_profits.reset_index(drop=True)\n",
    "\n",
    "res_list = [] #loop through\n",
    "for i in df_profits['genres']:\n",
    "    res = ast.literal_eval(i)\n",
    "    res_list.append(res)\n",
    "\n",
    "df_profits['genres'] = res_list\n",
    "df_profits['genres']"
   ]
  },
  {
   "cell_type": "code",
   "execution_count": 8,
   "metadata": {},
   "outputs": [],
   "source": [
    "# count of all genres\n",
    "genre_and_count ={}\n",
    "for genres in df_profits.genres:\n",
    "    for genre in genres:\n",
    "        genre_and_count[genre] = genre_and_count.get(genre, 1) + 1 "
   ]
  },
  {
   "cell_type": "code",
   "execution_count": 9,
   "metadata": {},
   "outputs": [
    {
     "name": "stdout",
     "output_type": "stream",
     "text": [
      "11493\n"
     ]
    },
    {
     "data": {
      "text/plain": [
       "{'Comedy': 1480,\n",
       " 'Drama': 1877,\n",
       " 'Romance': 698,\n",
       " 'Crime': 701,\n",
       " 'Thriller': 1282,\n",
       " 'History': 193,\n",
       " 'War': 147,\n",
       " 'Animation': 286,\n",
       " 'Family': 503,\n",
       " 'Fantasy': 517,\n",
       " 'Action': 1196,\n",
       " 'Adventure': 900,\n",
       " 'Horror': 547,\n",
       " 'Western': 63,\n",
       " 'Science Fiction': 595,\n",
       " 'Music': 106,\n",
       " 'Mystery': 400,\n",
       " 'TV Movie': 2}"
      ]
     },
     "execution_count": 9,
     "metadata": {},
     "output_type": "execute_result"
    }
   ],
   "source": [
    "print(sum(genre_and_count.values()))\n",
    "genre_and_count"
   ]
  },
  {
   "cell_type": "code",
   "execution_count": 10,
   "metadata": {},
   "outputs": [
    {
     "data": {
      "text/plain": [
       "dict_keys(['Comedy', 'Drama', 'Romance', 'Crime', 'Thriller', 'History', 'War', 'Animation', 'Family', 'Fantasy', 'Action', 'Adventure', 'Horror', 'Western', 'Science Fiction', 'Music', 'Mystery', 'TV Movie'])"
      ]
     },
     "execution_count": 10,
     "metadata": {},
     "output_type": "execute_result"
    }
   ],
   "source": [
    "genre_and_count.keys()"
   ]
  },
  {
   "cell_type": "code",
   "execution_count": 11,
   "metadata": {},
   "outputs": [
    {
     "data": {
      "image/png": "[encoded data removed]",
      "text/plain": [
       "<Figure size 720x360 with 1 Axes>"
      ]
     },
     "metadata": {
      "needs_background": "light"
     },
     "output_type": "display_data"
    }
   ],
   "source": [
    "# graph of the number of genres\n",
    "fig, ax = plt.subplots(figsize=(10,5))\n",
    "plt.xticks(rotation=45)\n",
    "plt.bar(genre_and_count.keys(), genre_and_count.values());"
   ]
  },
  {
   "cell_type": "markdown",
   "metadata": {},
   "source": [
    "## Calculate Average Weighted Budget for Each Genre"
   ]
  },
  {
   "cell_type": "code",
   "execution_count": 12,
   "metadata": {},
   "outputs": [],
   "source": [
    "# get number of genres per row and divide it by the budget\n",
    "df_profits['qty_of_genres'] = df_profits['genres'].map(lambda x: len(x)) # get len of each genre and create column\n",
    "df_profits['weighted_budget']  = round(df_profits['budget'] / df_profits['qty_of_genres'],2) #divide budget/genre qty for weights"
   ]
  },
  {
   "cell_type": "code",
   "execution_count": 13,
   "metadata": {},
   "outputs": [
    {
     "data": {
      "text/plain": [
       "{'Comedy': 22110244977.059982,\n",
       " 'Drama': 21582787850.83,\n",
       " 'Romance': 7335526459.839999,\n",
       " 'Crime': 7571728193.84,\n",
       " 'Thriller': 15334472643.820002,\n",
       " 'History': 2506955968.609999,\n",
       " 'War': 1780655075.23,\n",
       " 'Animation': 5656756198.65,\n",
       " 'Family': 9817419606.749998,\n",
       " 'Fantasy': 10801039632.24,\n",
       " 'Action': 24153247089.410004,\n",
       " 'Adventure': 20642300959.53,\n",
       " 'Horror': 4046237816.4299994,\n",
       " 'Western': 768518730.49,\n",
       " 'Science Fiction': 12089632379.579998,\n",
       " 'Music': 893114061.4799999,\n",
       " 'Mystery': 3848972922.3900003,\n",
       " 'TV Movie': 2333333.33}"
      ]
     },
     "execution_count": 13,
     "metadata": {},
     "output_type": "execute_result"
    }
   ],
   "source": [
    "#sum the weighted budget for each genre to average it by the number of individual genres in next cell\n",
    "genre_wbudget ={} \n",
    "for index in df_profits.index:\n",
    "    for genre in df_profits['genres'][index]:\n",
    "        budget = df_profits['weighted_budget'][index] \n",
    "        genre_wbudget[genre] = genre_wbudget.get(genre,0) + budget\n",
    "genre_wbudget"
   ]
  },
  {
   "cell_type": "code",
   "execution_count": 14,
   "metadata": {},
   "outputs": [
    {
     "data": {
      "text/plain": [
       "{'Comedy': 14939354.714229718,\n",
       " 'Drama': 11498555.061710177,\n",
       " 'Romance': 10509350.228997134,\n",
       " 'Crime': 10801324.099629102,\n",
       " 'Thriller': 11961367.116864275,\n",
       " 'History': 12989409.163782379,\n",
       " 'War': 12113299.831496598,\n",
       " 'Animation': 19778867.827447552,\n",
       " 'Family': 19517732.816600394,\n",
       " 'Fantasy': 20891759.443404254,\n",
       " 'Action': 20195022.650008366,\n",
       " 'Adventure': 22935889.955033332,\n",
       " 'Horror': 7397144.088537476,\n",
       " 'Western': 12198710.007777778,\n",
       " 'Science Fiction': 20318709.881647054,\n",
       " 'Music': 8425604.353584904,\n",
       " 'Mystery': 9622432.305975001,\n",
       " 'TV Movie': 1166666.665}"
      ]
     },
     "execution_count": 14,
     "metadata": {},
     "output_type": "execute_result"
    }
   ],
   "source": [
    "# get average of the weighted budget by genre count\n",
    "genre_and_weight_budget = {}\n",
    "for genre, budget in genre_wbudget.items():\n",
    "    genre_and_weight_budget.update({genre:budget / genre_and_count[genre]})\n",
    "genre_and_weight_budget "
   ]
  },
  {
   "cell_type": "code",
   "execution_count": 15,
   "metadata": {},
   "outputs": [
    {
     "data": {
      "image/png": "[encoded data removed]",
      "text/plain": [
       "<Figure size 864x576 with 1 Axes>"
      ]
     },
     "metadata": {
      "needs_background": "light"
     },
     "output_type": "display_data"
    }
   ],
   "source": [
    "plt.figure(figsize=(12,8));\n",
    "plt.bar(genre_and_weight_budget.keys(),genre_and_weight_budget.values());\n",
    "plt.title('Genres and their weighted average budget');\n",
    "plt.xlabel('Genres');\n",
    "plt.ylabel('Average Budget');\n",
    "plt.xticks(rotation=45)\n",
    "plt.show()"
   ]
  },
  {
   "cell_type": "markdown",
   "metadata": {},
   "source": [
    "## Calculate Average Weighted ROI for Each Genre"
   ]
  },
  {
   "cell_type": "code",
   "execution_count": 16,
   "metadata": {},
   "outputs": [
    {
     "data": {
      "text/html": [
       "<div>\n",
       "<style scoped>\n",
       "    .dataframe tbody tr th:only-of-type {\n",
       "        vertical-align: middle;\n",
       "    }\n",
       "\n",
       "    .dataframe tbody tr th {\n",
       "        vertical-align: top;\n",
       "    }\n",
       "\n",
       "    .dataframe thead th {\n",
       "        text-align: right;\n",
       "    }\n",
       "</style>\n",
       "<table border=\"1\" class=\"dataframe\">\n",
       "  <thead>\n",
       "    <tr style=\"text-align: right;\">\n",
       "      <th></th>\n",
       "      <th>budget</th>\n",
       "      <th>genres</th>\n",
       "      <th>id</th>\n",
       "      <th>imdb_id</th>\n",
       "      <th>popularity</th>\n",
       "      <th>release_date</th>\n",
       "      <th>revenue</th>\n",
       "      <th>runtime</th>\n",
       "      <th>title</th>\n",
       "      <th>vote_average</th>\n",
       "      <th>vote_count</th>\n",
       "      <th>gross_profit</th>\n",
       "      <th>ROI (%)</th>\n",
       "      <th>qty_of_genres</th>\n",
       "      <th>weighted_budget</th>\n",
       "    </tr>\n",
       "  </thead>\n",
       "  <tbody>\n",
       "  </tbody>\n",
       "</table>\n",
       "</div>"
      ],
      "text/plain": [
       "Empty DataFrame\n",
       "Columns: [budget, genres, id, imdb_id, popularity, release_date, revenue, runtime, title, vote_average, vote_count, gross_profit, ROI (%), qty_of_genres, weighted_budget]\n",
       "Index: []"
      ]
     },
     "execution_count": 16,
     "metadata": {},
     "output_type": "execute_result"
    }
   ],
   "source": [
    "def reject_outliers(data, m=2):\n",
    "    return data[abs(data['ROI (%)'] - np.mean(data['ROI (%)'])) < m * np.std(data['ROI (%)'])]\n",
    "\n",
    "df_profits = reject_outliers(df_profits, m=2)\n",
    "df_profits[df_profits['title'] == 'Paranormal Activity']"
   ]
  },
  {
   "cell_type": "code",
   "execution_count": 17,
   "metadata": {},
   "outputs": [],
   "source": [
    "df_profits['weighted_ROI']  = round(df_profits['ROI (%)'] / df_profits['qty_of_genres'],2) #divide budget/genre qty for weights\n",
    "# sum the weight\n",
    "# sum the weight / qty"
   ]
  },
  {
   "cell_type": "code",
   "execution_count": 18,
   "metadata": {
    "scrolled": true
   },
   "outputs": [
    {
     "data": {
      "text/plain": [
       "{'Comedy': 291352.6400000003,\n",
       " 'Drama': 338942.69999999925,\n",
       " 'Romance': 109076.81000000007,\n",
       " 'Crime': 71423.08000000007,\n",
       " 'Thriller': 170096.76,\n",
       " 'History': 18970.109999999997,\n",
       " 'War': 18500.899999999987,\n",
       " 'Animation': 56267.310000000056,\n",
       " 'Family': 73310.18000000008,\n",
       " 'Fantasy': 53669.08000000004,\n",
       " 'Action': 118984.74000000018,\n",
       " 'Adventure': 98867.52000000014,\n",
       " 'Horror': 273084.0800000001,\n",
       " 'Western': 21461.239999999998,\n",
       " 'Science Fiction': 65997.28000000006,\n",
       " 'Music': 19758.770000000008,\n",
       " 'Mystery': 44336.78999999998,\n",
       " 'TV Movie': 9.05}"
      ]
     },
     "execution_count": 18,
     "metadata": {},
     "output_type": "execute_result"
    }
   ],
   "source": [
    "# trying to link genre to the ROI\n",
    "genre_roi_sum = {}\n",
    "for index in df_profits.index:\n",
    "    for genre in df_profits['genres'][index]:\n",
    "        roi = df_profits['weighted_ROI'][index] \n",
    "        genre_roi_sum[genre] = genre_roi_sum.get(genre,0) + roi    \n",
    "genre_roi_sum"
   ]
  },
  {
   "cell_type": "code",
   "execution_count": 19,
   "metadata": {},
   "outputs": [
    {
     "data": {
      "text/plain": [
       "['Comedy',\n",
       " 'Drama',\n",
       " 'Romance',\n",
       " 'Crime',\n",
       " 'Thriller',\n",
       " 'History',\n",
       " 'War',\n",
       " 'Animation',\n",
       " 'Family',\n",
       " 'Fantasy',\n",
       " 'Action',\n",
       " 'Adventure',\n",
       " 'Horror',\n",
       " 'Western',\n",
       " 'Science Fiction',\n",
       " 'Music',\n",
       " 'Mystery',\n",
       " 'TV Movie']"
      ]
     },
     "execution_count": 19,
     "metadata": {},
     "output_type": "execute_result"
    }
   ],
   "source": [
    "unique_genres = list(genre_roi_sum.keys())\n",
    "unique_genres"
   ]
  },
  {
   "cell_type": "code",
   "execution_count": 20,
   "metadata": {},
   "outputs": [
    {
     "data": {
      "text/plain": [
       "{'Comedy': 196.8598918918921,\n",
       " 'Drama': 180.57682472029796,\n",
       " 'Romance': 156.27050143266484,\n",
       " 'Crime': 101.8874179743225,\n",
       " 'Thriller': 132.68078003120127,\n",
       " 'History': 98.29072538860102,\n",
       " 'War': 125.85646258503392,\n",
       " 'Animation': 196.73884615384634,\n",
       " 'Family': 145.74588469184906,\n",
       " 'Fantasy': 103.80866537717608,\n",
       " 'Action': 99.48556856187307,\n",
       " 'Adventure': 109.85280000000014,\n",
       " 'Horror': 499.23963436928716,\n",
       " 'Western': 340.65460317460315,\n",
       " 'Science Fiction': 110.91979831932782,\n",
       " 'Music': 186.40349056603782,\n",
       " 'Mystery': 110.84197499999995,\n",
       " 'TV Movie': 4.525}"
      ]
     },
     "execution_count": 20,
     "metadata": {},
     "output_type": "execute_result"
    }
   ],
   "source": [
    "genre_weighted_roi = {}\n",
    "for genre, roi in genre_roi_sum.items():\n",
    "    genre_weighted_roi.update({genre: roi / genre_and_count[genre]})\n",
    "genre_weighted_roi"
   ]
  },
  {
   "cell_type": "code",
   "execution_count": 21,
   "metadata": {},
   "outputs": [
    {
     "data": {
      "image/png": "[encoded data removed]",
      "text/plain": [
       "<Figure size 864x576 with 1 Axes>"
      ]
     },
     "metadata": {
      "needs_background": "light"
     },
     "output_type": "display_data"
    }
   ],
   "source": [
    "plt.figure(figsize=(12,8));\n",
    "plt.bar(genre_weighted_roi.keys(),genre_weighted_roi.values());\n",
    "plt.title('Genres and their weighted average ROI');\n",
    "plt.xlabel('Genres');\n",
    "plt.ylabel('Average ROI');\n",
    "plt.xticks(rotation=45)\n",
    "plt.show()"
   ]
  },
  {
   "cell_type": "code",
   "execution_count": 22,
   "metadata": {},
   "outputs": [
    {
     "data": {
      "image/png": "[encoded data removed]",
      "text/plain": [
       "<Figure size 864x576 with 1 Axes>"
      ]
     },
     "metadata": {
      "needs_background": "light"
     },
     "output_type": "display_data"
    }
   ],
   "source": [
    "plt.figure(figsize=(12,8));\n",
    "plt.bar(genre_weighted_roi.keys(),genre_weighted_roi.values());\n",
    "plt.title('Genres and their weighted average ROI');\n",
    "plt.xlabel('Genres');\n",
    "plt.ylabel('Average ROI');\n",
    "plt.xticks(rotation=45)\n",
    "plt.show()"
   ]
  },
  {
   "cell_type": "code",
   "execution_count": 23,
   "metadata": {},
   "outputs": [
    {
     "data": {
      "text/plain": [
       "16      1960-06-22\n",
       "41      1991-02-01\n",
       "69      1980-05-22\n",
       "110     1979-05-25\n",
       "147     1982-06-25\n",
       "           ...    \n",
       "4256    2018-08-10\n",
       "4258    2005-10-22\n",
       "4261    1994-01-01\n",
       "4268    2005-01-28\n",
       "4271    2003-04-11\n",
       "Name: release_date, Length: 543, dtype: object"
      ]
     },
     "execution_count": 23,
     "metadata": {},
     "output_type": "execute_result"
    }
   ],
   "source": [
    "#we should turn the years into most recent so that we can give examples of excellent ROI\n",
    "df_profits[df_profits['genres'].map(lambda x: 'Horror' in x)]['release_date']"
   ]
  },
  {
   "cell_type": "code",
   "execution_count": 25,
   "metadata": {},
   "outputs": [],
   "source": [
    "import datetime"
   ]
  },
  {
   "cell_type": "code",
   "execution_count": 26,
   "metadata": {},
   "outputs": [],
   "source": [
    "df_profits['release_date'] = pd.to_datetime(df_profits['release_date'])"
   ]
  },
  {
   "cell_type": "code",
   "execution_count": 27,
   "metadata": {},
   "outputs": [],
   "source": [
    "df_profits['release_year'] = df_profits['release_date'].map(lambda x: x.year)"
   ]
  },
  {
   "cell_type": "code",
   "execution_count": 28,
   "metadata": {},
   "outputs": [
    {
     "data": {
      "text/plain": [
       "<matplotlib.axes._subplots.AxesSubplot at 0x1a1e5ca278>"
      ]
     },
     "execution_count": 28,
     "metadata": {},
     "output_type": "execute_result"
    },
    {
     "data": {
      "image/png": "[encoded data removed]",
      "text/plain": [
       "<Figure size 432x288 with 1 Axes>"
      ]
     },
     "metadata": {
      "needs_background": "light"
     },
     "output_type": "display_data"
    }
   ],
   "source": [
    "sns.boxplot(df_profits['release_year'])"
   ]
  },
  {
   "cell_type": "code",
   "execution_count": 36,
   "metadata": {},
   "outputs": [],
   "source": [
    "# add all of our new columns to a final csv\n",
    "# pd.DataFrame(df_profits).to_csv('final_data.csv')"
   ]
  },
  {
   "cell_type": "code",
   "execution_count": 30,
   "metadata": {},
   "outputs": [
    {
     "data": {
      "text/html": [
       "<div>\n",
       "<style scoped>\n",
       "    .dataframe tbody tr th:only-of-type {\n",
       "        vertical-align: middle;\n",
       "    }\n",
       "\n",
       "    .dataframe tbody tr th {\n",
       "        vertical-align: top;\n",
       "    }\n",
       "\n",
       "    .dataframe thead th {\n",
       "        text-align: right;\n",
       "    }\n",
       "</style>\n",
       "<table border=\"1\" class=\"dataframe\">\n",
       "  <thead>\n",
       "    <tr style=\"text-align: right;\">\n",
       "      <th></th>\n",
       "      <th>release_year</th>\n",
       "      <th>weighted_budget</th>\n",
       "      <th>weighted_ROI</th>\n",
       "    </tr>\n",
       "  </thead>\n",
       "  <tbody>\n",
       "    <tr>\n",
       "      <th>0</th>\n",
       "      <td>2010</td>\n",
       "      <td>5.436508e+06</td>\n",
       "      <td>416.572381</td>\n",
       "    </tr>\n",
       "    <tr>\n",
       "      <th>1</th>\n",
       "      <td>2011</td>\n",
       "      <td>7.565490e+06</td>\n",
       "      <td>206.916818</td>\n",
       "    </tr>\n",
       "    <tr>\n",
       "      <th>2</th>\n",
       "      <td>2012</td>\n",
       "      <td>7.594444e+06</td>\n",
       "      <td>521.085556</td>\n",
       "    </tr>\n",
       "    <tr>\n",
       "      <th>3</th>\n",
       "      <td>2013</td>\n",
       "      <td>9.357778e+06</td>\n",
       "      <td>339.509333</td>\n",
       "    </tr>\n",
       "    <tr>\n",
       "      <th>4</th>\n",
       "      <td>2014</td>\n",
       "      <td>4.249667e+06</td>\n",
       "      <td>873.605217</td>\n",
       "    </tr>\n",
       "    <tr>\n",
       "      <th>5</th>\n",
       "      <td>2015</td>\n",
       "      <td>5.504412e+06</td>\n",
       "      <td>368.082353</td>\n",
       "    </tr>\n",
       "    <tr>\n",
       "      <th>6</th>\n",
       "      <td>2016</td>\n",
       "      <td>4.236988e+06</td>\n",
       "      <td>158.285185</td>\n",
       "    </tr>\n",
       "    <tr>\n",
       "      <th>7</th>\n",
       "      <td>2017</td>\n",
       "      <td>1.003826e+07</td>\n",
       "      <td>346.065000</td>\n",
       "    </tr>\n",
       "    <tr>\n",
       "      <th>8</th>\n",
       "      <td>2018</td>\n",
       "      <td>7.259058e+06</td>\n",
       "      <td>281.626522</td>\n",
       "    </tr>\n",
       "    <tr>\n",
       "      <th>9</th>\n",
       "      <td>2019</td>\n",
       "      <td>9.388021e+06</td>\n",
       "      <td>221.756875</td>\n",
       "    </tr>\n",
       "    <tr>\n",
       "      <th>10</th>\n",
       "      <td>2020</td>\n",
       "      <td>1.666667e+07</td>\n",
       "      <td>-10.920000</td>\n",
       "    </tr>\n",
       "  </tbody>\n",
       "</table>\n",
       "</div>"
      ],
      "text/plain": [
       "    release_year  weighted_budget  weighted_ROI\n",
       "0           2010     5.436508e+06    416.572381\n",
       "1           2011     7.565490e+06    206.916818\n",
       "2           2012     7.594444e+06    521.085556\n",
       "3           2013     9.357778e+06    339.509333\n",
       "4           2014     4.249667e+06    873.605217\n",
       "5           2015     5.504412e+06    368.082353\n",
       "6           2016     4.236988e+06    158.285185\n",
       "7           2017     1.003826e+07    346.065000\n",
       "8           2018     7.259058e+06    281.626522\n",
       "9           2019     9.388021e+06    221.756875\n",
       "10          2020     1.666667e+07    -10.920000"
      ]
     },
     "execution_count": 30,
     "metadata": {},
     "output_type": "execute_result"
    }
   ],
   "source": [
    "horror_df = df_profits[df_profits['genres'].map(lambda x: 'Horror' in x)].groupby('release_year').mean().reset_index()\n",
    "horror_df[(horror_df['release_year'] >= 2010) & (horror_df['release_year'] <= 2020)].reset_index()[['release_year','weighted_budget','weighted_ROI']]"
   ]
  },
  {
   "cell_type": "code",
   "execution_count": 31,
   "metadata": {},
   "outputs": [],
   "source": [
    "def genre_year(df, genre):\n",
    "    genre_df = df[df['genres'].map(lambda x: genre in x)].groupby('release_year').mean().reset_index()\n",
    "    a = genre_df[(genre_df['release_year'] >= 2010) & (genre_df['release_year'] <= 2019)].reset_index()[['release_year','weighted_budget','weighted_ROI']]\n",
    "    list_of_genres =[]\n",
    "    for i in range(len(a)):\n",
    "        list_of_genres.append(genre)\n",
    "        \n",
    "    a['genre'] = list_of_genres\n",
    "    return a"
   ]
  },
  {
   "cell_type": "code",
   "execution_count": 32,
   "metadata": {},
   "outputs": [
    {
     "data": {
      "text/html": [
       "<div>\n",
       "<style scoped>\n",
       "    .dataframe tbody tr th:only-of-type {\n",
       "        vertical-align: middle;\n",
       "    }\n",
       "\n",
       "    .dataframe tbody tr th {\n",
       "        vertical-align: top;\n",
       "    }\n",
       "\n",
       "    .dataframe thead th {\n",
       "        text-align: right;\n",
       "    }\n",
       "</style>\n",
       "<table border=\"1\" class=\"dataframe\">\n",
       "  <thead>\n",
       "    <tr style=\"text-align: right;\">\n",
       "      <th></th>\n",
       "      <th>release_year</th>\n",
       "      <th>weighted_budget</th>\n",
       "      <th>weighted_ROI</th>\n",
       "      <th>genre</th>\n",
       "    </tr>\n",
       "  </thead>\n",
       "  <tbody>\n",
       "    <tr>\n",
       "      <th>0</th>\n",
       "      <td>2010</td>\n",
       "      <td>5.436508e+06</td>\n",
       "      <td>416.572381</td>\n",
       "      <td>Horror</td>\n",
       "    </tr>\n",
       "    <tr>\n",
       "      <th>1</th>\n",
       "      <td>2011</td>\n",
       "      <td>7.565490e+06</td>\n",
       "      <td>206.916818</td>\n",
       "      <td>Horror</td>\n",
       "    </tr>\n",
       "    <tr>\n",
       "      <th>2</th>\n",
       "      <td>2012</td>\n",
       "      <td>7.594444e+06</td>\n",
       "      <td>521.085556</td>\n",
       "      <td>Horror</td>\n",
       "    </tr>\n",
       "    <tr>\n",
       "      <th>3</th>\n",
       "      <td>2013</td>\n",
       "      <td>9.357778e+06</td>\n",
       "      <td>339.509333</td>\n",
       "      <td>Horror</td>\n",
       "    </tr>\n",
       "    <tr>\n",
       "      <th>4</th>\n",
       "      <td>2014</td>\n",
       "      <td>4.249667e+06</td>\n",
       "      <td>873.605217</td>\n",
       "      <td>Horror</td>\n",
       "    </tr>\n",
       "    <tr>\n",
       "      <th>5</th>\n",
       "      <td>2015</td>\n",
       "      <td>5.504412e+06</td>\n",
       "      <td>368.082353</td>\n",
       "      <td>Horror</td>\n",
       "    </tr>\n",
       "    <tr>\n",
       "      <th>6</th>\n",
       "      <td>2016</td>\n",
       "      <td>4.236988e+06</td>\n",
       "      <td>158.285185</td>\n",
       "      <td>Horror</td>\n",
       "    </tr>\n",
       "    <tr>\n",
       "      <th>7</th>\n",
       "      <td>2017</td>\n",
       "      <td>1.003826e+07</td>\n",
       "      <td>346.065000</td>\n",
       "      <td>Horror</td>\n",
       "    </tr>\n",
       "    <tr>\n",
       "      <th>8</th>\n",
       "      <td>2018</td>\n",
       "      <td>7.259058e+06</td>\n",
       "      <td>281.626522</td>\n",
       "      <td>Horror</td>\n",
       "    </tr>\n",
       "    <tr>\n",
       "      <th>9</th>\n",
       "      <td>2019</td>\n",
       "      <td>9.388021e+06</td>\n",
       "      <td>221.756875</td>\n",
       "      <td>Horror</td>\n",
       "    </tr>\n",
       "  </tbody>\n",
       "</table>\n",
       "</div>"
      ],
      "text/plain": [
       "   release_year  weighted_budget  weighted_ROI   genre\n",
       "0          2010     5.436508e+06    416.572381  Horror\n",
       "1          2011     7.565490e+06    206.916818  Horror\n",
       "2          2012     7.594444e+06    521.085556  Horror\n",
       "3          2013     9.357778e+06    339.509333  Horror\n",
       "4          2014     4.249667e+06    873.605217  Horror\n",
       "5          2015     5.504412e+06    368.082353  Horror\n",
       "6          2016     4.236988e+06    158.285185  Horror\n",
       "7          2017     1.003826e+07    346.065000  Horror\n",
       "8          2018     7.259058e+06    281.626522  Horror\n",
       "9          2019     9.388021e+06    221.756875  Horror"
      ]
     },
     "execution_count": 32,
     "metadata": {},
     "output_type": "execute_result"
    }
   ],
   "source": [
    "genre_year(df_profits,'Horror')"
   ]
  },
  {
   "cell_type": "code",
   "execution_count": 33,
   "metadata": {},
   "outputs": [],
   "source": [
    "profit_genre_by_year =  [genre_year(df_profits, genre) for genre in unique_genres]\n",
    "profit_genres_by_year = pd.concat(profit_genre_by_year)"
   ]
  },
  {
   "cell_type": "code",
   "execution_count": 34,
   "metadata": {},
   "outputs": [],
   "source": [
    "a = profit_genres_by_year.reset_index(drop=True)"
   ]
  },
  {
   "cell_type": "code",
   "execution_count": 35,
   "metadata": {},
   "outputs": [
    {
     "data": {
      "text/html": [
       "<div>\n",
       "<style scoped>\n",
       "    .dataframe tbody tr th:only-of-type {\n",
       "        vertical-align: middle;\n",
       "    }\n",
       "\n",
       "    .dataframe tbody tr th {\n",
       "        vertical-align: top;\n",
       "    }\n",
       "\n",
       "    .dataframe thead th {\n",
       "        text-align: right;\n",
       "    }\n",
       "</style>\n",
       "<table border=\"1\" class=\"dataframe\">\n",
       "  <thead>\n",
       "    <tr style=\"text-align: right;\">\n",
       "      <th></th>\n",
       "      <th>release_year</th>\n",
       "      <th>weighted_budget</th>\n",
       "      <th>weighted_ROI</th>\n",
       "      <th>genre</th>\n",
       "    </tr>\n",
       "  </thead>\n",
       "  <tbody>\n",
       "    <tr>\n",
       "      <th>0</th>\n",
       "      <td>2010</td>\n",
       "      <td>1.937623e+07</td>\n",
       "      <td>94.586719</td>\n",
       "      <td>Comedy</td>\n",
       "    </tr>\n",
       "    <tr>\n",
       "      <th>1</th>\n",
       "      <td>2011</td>\n",
       "      <td>1.740754e+07</td>\n",
       "      <td>123.458714</td>\n",
       "      <td>Comedy</td>\n",
       "    </tr>\n",
       "    <tr>\n",
       "      <th>2</th>\n",
       "      <td>2012</td>\n",
       "      <td>1.984924e+07</td>\n",
       "      <td>127.370877</td>\n",
       "      <td>Comedy</td>\n",
       "    </tr>\n",
       "    <tr>\n",
       "      <th>3</th>\n",
       "      <td>2013</td>\n",
       "      <td>1.804717e+07</td>\n",
       "      <td>173.004717</td>\n",
       "      <td>Comedy</td>\n",
       "    </tr>\n",
       "    <tr>\n",
       "      <th>4</th>\n",
       "      <td>2014</td>\n",
       "      <td>1.462440e+07</td>\n",
       "      <td>142.465000</td>\n",
       "      <td>Comedy</td>\n",
       "    </tr>\n",
       "    <tr>\n",
       "      <th>...</th>\n",
       "      <td>...</td>\n",
       "      <td>...</td>\n",
       "      <td>...</td>\n",
       "      <td>...</td>\n",
       "    </tr>\n",
       "    <tr>\n",
       "      <th>162</th>\n",
       "      <td>2015</td>\n",
       "      <td>7.283333e+06</td>\n",
       "      <td>142.523125</td>\n",
       "      <td>Mystery</td>\n",
       "    </tr>\n",
       "    <tr>\n",
       "      <th>163</th>\n",
       "      <td>2016</td>\n",
       "      <td>7.523235e+06</td>\n",
       "      <td>96.393636</td>\n",
       "      <td>Mystery</td>\n",
       "    </tr>\n",
       "    <tr>\n",
       "      <th>164</th>\n",
       "      <td>2017</td>\n",
       "      <td>6.131613e+06</td>\n",
       "      <td>205.122105</td>\n",
       "      <td>Mystery</td>\n",
       "    </tr>\n",
       "    <tr>\n",
       "      <th>165</th>\n",
       "      <td>2018</td>\n",
       "      <td>6.628335e+06</td>\n",
       "      <td>285.859231</td>\n",
       "      <td>Mystery</td>\n",
       "    </tr>\n",
       "    <tr>\n",
       "      <th>166</th>\n",
       "      <td>2019</td>\n",
       "      <td>5.818182e+06</td>\n",
       "      <td>171.573636</td>\n",
       "      <td>Mystery</td>\n",
       "    </tr>\n",
       "  </tbody>\n",
       "</table>\n",
       "<p>167 rows × 4 columns</p>\n",
       "</div>"
      ],
      "text/plain": [
       "     release_year  weighted_budget  weighted_ROI    genre\n",
       "0            2010     1.937623e+07     94.586719   Comedy\n",
       "1            2011     1.740754e+07    123.458714   Comedy\n",
       "2            2012     1.984924e+07    127.370877   Comedy\n",
       "3            2013     1.804717e+07    173.004717   Comedy\n",
       "4            2014     1.462440e+07    142.465000   Comedy\n",
       "..            ...              ...           ...      ...\n",
       "162          2015     7.283333e+06    142.523125  Mystery\n",
       "163          2016     7.523235e+06     96.393636  Mystery\n",
       "164          2017     6.131613e+06    205.122105  Mystery\n",
       "165          2018     6.628335e+06    285.859231  Mystery\n",
       "166          2019     5.818182e+06    171.573636  Mystery\n",
       "\n",
       "[167 rows x 4 columns]"
      ]
     },
     "execution_count": 35,
     "metadata": {},
     "output_type": "execute_result"
    }
   ],
   "source": [
    "a"
   ]
  }
 ],
 "metadata": {
  "kernelspec": {
   "display_name": "Python 3",
   "language": "python",
   "name": "python3"
  },
  "language_info": {
   "codemirror_mode": {
    "name": "ipython",
    "version": 3
   },
   "file_extension": ".py",
   "mimetype": "text/x-python",
   "name": "python",
   "nbconvert_exporter": "python",
   "pygments_lexer": "ipython3",
   "version": "3.6.10"
  }
 },
 "nbformat": 4,
 "nbformat_minor": 2
}
