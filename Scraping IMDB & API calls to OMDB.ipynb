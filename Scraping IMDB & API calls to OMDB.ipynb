{
 "cells": [
  {
   "cell_type": "code",
   "execution_count": 196,
   "metadata": {},
   "outputs": [],
   "source": [
    "from bs4 import BeautifulSoup\n",
    "import requests\n",
    "import pandas as pd"
   ]
  },
  {
   "cell_type": "code",
   "execution_count": 197,
   "metadata": {},
   "outputs": [],
   "source": [
    "# TOP 100 POPULAR MOVIES ON IMDB HTML\n",
    "imdb_pop_html = requests.get('https://www.imdb.com/chart/moviemeter/?sort=us,asc&mode=simple&page=1')\n",
    "soup = BeautifulSoup(imdb_pop_html.content, 'html.parser')"
   ]
  },
  {
   "cell_type": "code",
   "execution_count": 198,
   "metadata": {
    "scrolled": false
   },
   "outputs": [],
   "source": [
    "# Scraped through the html code to find the table with the movies\n",
    "table_body_tag = soup.find('tbody',{'class':'lister-list'})"
   ]
  },
  {
   "cell_type": "code",
   "execution_count": 199,
   "metadata": {},
   "outputs": [],
   "source": [
    "# for loop through each row in the table to retrieve the movie index number for imdb\n",
    "imdb_popular_movies_indices = [row.a['href'].split('/')[2] for row in table_body_tag.find_all('tr')]"
   ]
  },
  {
   "cell_type": "code",
   "execution_count": 200,
   "metadata": {},
   "outputs": [],
   "source": [
    "# API CALLS RETRIEVES list of 100 json files each representing one movie\n",
    "pop_100_jsons = [requests.get(f\"http://www.omdbapi.com/?i={i}&apikey=5a111996\").json() for i in imdb_popular_movies_indices]"
   ]
  },
  {
   "cell_type": "code",
   "execution_count": 202,
   "metadata": {},
   "outputs": [],
   "source": [
    "# Creating a pandas DataFrame and converting into CSV file\n",
    "pd.DataFrame(pop_100_jsons).to_csv('imdb_100_popular_movies.csv')"
   ]
  },
  {
   "cell_type": "code",
   "execution_count": null,
   "metadata": {},
   "outputs": [],
   "source": []
  }
 ],
 "metadata": {
  "kernelspec": {
   "display_name": "Python 3",
   "language": "python",
   "name": "python3"
  },
  "language_info": {
   "codemirror_mode": {
    "name": "ipython",
    "version": 3
   },
   "file_extension": ".py",
   "mimetype": "text/x-python",
   "name": "python",
   "nbconvert_exporter": "python",
   "pygments_lexer": "ipython3",
   "version": "3.7.4"
  }
 },
 "nbformat": 4,
 "nbformat_minor": 2
}
