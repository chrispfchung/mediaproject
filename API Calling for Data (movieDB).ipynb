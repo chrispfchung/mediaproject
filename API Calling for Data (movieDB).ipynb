{
 "cells": [
  {
   "cell_type": "code",
   "execution_count": null,
   "metadata": {},
   "outputs": [],
   "source": [
    "import requests\n",
    "import json\n",
    "import config\n",
    "response = requests.get(f'https://api.themoviedb.org/3/search/movie/?api_key={config.api_key}&query=Jack+Reacher')\n",
    "response.text"
   ]
  },
  {
   "cell_type": "code",
   "execution_count": null,
   "metadata": {},
   "outputs": [],
   "source": [
    "# get top rated (get all of the movie ids)\n",
    "# get details  (use the ids to plug into this api)\n",
    "# plug all necessary data into a csv\n",
    "\n",
    "# get all genre codes (https://developers.themoviedb.org/3/genres/get-movie-list)"
   ]
  },
  {
   "cell_type": "code",
   "execution_count": null,
   "metadata": {},
   "outputs": [],
   "source": [
    "response = requests.get(f'https://api.themoviedb.org/3/movie/top_rated?api_key={config.api_key}&language=en-US&page=1')\n",
    "results_test = []\n",
    "result_pages = response.json()['results']\n",
    "ids = [page['id'] for page in result_pages]"
   ]
  },
  {
   "cell_type": "code",
   "execution_count": null,
   "metadata": {},
   "outputs": [],
   "source": [
    "# create a loop to go through all pages of api call to extract the movie ids\n",
    "response = requests.get(f'https://api.themoviedb.org/3/movie/top_rated?api_key={config.api_key}&language=en-US&page=1')\n",
    "pages = [i for i in range(1, response.json()['total_pages']+1)] #range 1 to last page of data to input in our url\n",
    "all_ids =[]\n",
    "for i in pages:\n",
    "    get = requests.get(f'https://api.themoviedb.org/3/movie/top_rated?api_key={config.api_key}&language=en-US&page={i}')\n",
    "    result_movies = get.json()['results']\n",
    "    for movie in result_movies:\n",
    "        all_ids.append(movie['id']) #adds movie id to a list of ids"
   ]
  },
  {
   "cell_type": "code",
   "execution_count": null,
   "metadata": {},
   "outputs": [],
   "source": [
    "len(all_ids) # now that we have all 6950, let's continue"
   ]
  },
  {
   "cell_type": "code",
   "execution_count": null,
   "metadata": {},
   "outputs": [],
   "source": [
    "requests.get(f'https://api.themoviedb.org/3/movie/278?api_key={config.api_key}&language=en-US')"
   ]
  },
  {
   "cell_type": "code",
   "execution_count": null,
   "metadata": {},
   "outputs": [],
   "source": [
    "requests.get(f'https://api.themoviedb.org/3/movie/278?api_key={config.api_key}&language=en-US').json()"
   ]
  },
  {
   "cell_type": "markdown",
   "metadata": {},
   "source": [
    "You need:\n",
    "imdb_id\n",
    "id\n",
    "title\n",
    "budget\n",
    "revenue\n",
    "runtime\n",
    "genres (list of genres)\n",
    "production_companies\n",
    "release_date\n",
    "popularity\n",
    "vote_average\n",
    "vote_count"
   ]
  },
  {
   "cell_type": "code",
   "execution_count": null,
   "metadata": {},
   "outputs": [],
   "source": [
    "# now we will take our all_ids list and input each id into our \"Get Details\" API Call\n",
    "from tqdm import tqdm # show progress bar\n",
    "all_movie_details = []\n",
    "for i in tqdm(all_ids):\n",
    "    response = requests.get(f'https://api.themoviedb.org/3/movie/{i}?api_key={config.api_key}&language=en-US')\n",
    "    get = response.json()\n",
    "    all_genres = [list(i.values())[1] for i in get['genres']] #create list comprehension to get only genre names\n",
    "    all_movie_details.append({'imdb_id':get['imdb_id'], 'id':get['id'], 'title':get['title'],\n",
    "                    'budget':get['budget'], 'revenue':get['revenue'], 'runtime':get['runtime'], \n",
    "                     'genres': all_genres, 'release_date': get['release_date'],\n",
    "                    'popularity': get['popularity'], 'vote_average': get['vote_average'],\n",
    "                    'vote_count': get['vote_count']}) # create dictionary of every movie detail\n",
    "pd.DataFrame(all_movie_details).to_csv('movieDB_API_movies.csv') # create csv file to prevent re running\n",
    "pd.DataFrame(all_movie_details) # view data as dataframe"
   ]
  }
 ],
 "metadata": {
  "kernelspec": {
   "display_name": "Python 3",
   "language": "python",
   "name": "python3"
  },
  "language_info": {
   "codemirror_mode": {
    "name": "ipython",
    "version": 3
   },
   "file_extension": ".py",
   "mimetype": "text/x-python",
   "name": "python",
   "nbconvert_exporter": "python",
   "pygments_lexer": "ipython3",
   "version": "3.6.10"
  }
 },
 "nbformat": 4,
 "nbformat_minor": 2
}
