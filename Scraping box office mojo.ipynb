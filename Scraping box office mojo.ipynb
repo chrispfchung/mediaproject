{
 "cells": [
  {
   "cell_type": "code",
   "execution_count": 36,
   "metadata": {},
   "outputs": [],
   "source": [
    "# importing proper libraries\n",
    "from bs4 import BeautifulSoup\n",
    "import requests\n",
    "import lxml.html as lh\n",
    "import pandas as pd"
   ]
  },
  {
   "cell_type": "code",
   "execution_count": 39,
   "metadata": {},
   "outputs": [],
   "source": [
    "# the HTML page tp scrape\n",
    "html_page = requests.get('https://www.boxofficemojo.com/year/2019/?ref_=bo_yl_table_2/')\n",
    "# using beautiful soup to read the html doc\n",
    "soup = BeautifulSoup(html_page.content, 'html.parser')"
   ]
  },
  {
   "cell_type": "code",
   "execution_count": 65,
   "metadata": {},
   "outputs": [],
   "source": [
    "containing_tables = soup.find('div',{'class':'a-section imdb-scroll-table-inner'})"
   ]
  },
  {
   "cell_type": "code",
   "execution_count": 72,
   "metadata": {},
   "outputs": [
    {
     "data": {
      "text/plain": [
       "[<th class=\"a-text-right mojo-field-type-rank mojo-sort-column mojo-sortable-column a-nowrap\"><a class=\"a-link-normal a-nowrap\" href=\"?sort=rank&amp;ref_=bo_yld__resort#table\" title=\"Rank\"><span class=\"a-color-state\">Rank</span><span class=\"a-letter-space\"></span><span class=\"icon aok-relative\"><i class=\"a-icon a-icon-collapse\" role=\"img\"></i></span></a></th>,\n",
       " <th class=\"a-text-left mojo-field-type-release mojo-cell-wide mojo-sortable-column a-nowrap\"><span title=\"Release\">Release</span>\n",
       " </th>,\n",
       " <th class=\"a-text-left mojo-field-type-genre hidden mojo-sortable-column hidden a-nowrap\"><span title=\"Genre\">Genre</span>\n",
       " </th>,\n",
       " <th class=\"a-text-right mojo-field-type-money hidden mojo-sortable-column hidden a-nowrap\"><span title=\"Budget\">Budget</span>\n",
       " </th>,\n",
       " <th class=\"a-text-right mojo-field-type-duration hidden mojo-sortable-column hidden a-nowrap\"><span title=\"Running Time\">Running Time</span>\n",
       " </th>,\n",
       " <th class=\"a-text-right mojo-field-type-money mojo-sortable-column mojo-estimatable a-nowrap\"><a class=\"a-link-normal a-nowrap\" href=\"?sort=gross&amp;ref_=bo_yld__resort#table\" title=\"Gross\">Gross<span class=\"a-letter-space\"></span><span class=\"icon aok-relative\"><i class=\"a-icon a-icon-expand table-sort-desc-placeholder\" role=\"img\"></i><i class=\"a-icon a-icon-collapse table-sort-asc-placeholder\" role=\"img\"></i></span></a></th>,\n",
       " <th class=\"a-text-right mojo-field-type-positive_integer mojo-sortable-column a-nowrap\"><a class=\"a-link-normal a-nowrap\" href=\"?sort=maxNumTheaters&amp;ref_=bo_yld__resort#table\" title=\"Maximum Number of Theaters\">Theaters<span class=\"a-letter-space\"></span><span class=\"icon aok-relative\"><i class=\"a-icon a-icon-expand table-sort-desc-placeholder\" role=\"img\"></i><i class=\"a-icon a-icon-collapse table-sort-asc-placeholder\" role=\"img\"></i></span></a></th>,\n",
       " <th class=\"a-text-right mojo-field-type-money mojo-sortable-column mojo-estimatable a-nowrap\"><a class=\"a-link-normal a-nowrap\" href=\"?sort=grossToDate&amp;ref_=bo_yld__resort#table\" title=\"Total Gross\">Total Gross<span class=\"a-letter-space\"></span><span class=\"icon aok-relative\"><i class=\"a-icon a-icon-expand table-sort-desc-placeholder\" role=\"img\"></i><i class=\"a-icon a-icon-collapse table-sort-asc-placeholder\" role=\"img\"></i></span></a></th>,\n",
       " <th class=\"a-text-left mojo-field-type-date mojo-sortable-column a-nowrap\"><a class=\"a-link-normal a-nowrap\" href=\"?sort=releaseDate&amp;ref_=bo_yld__resort#table\" title=\"Release Date\">Release Date<span class=\"a-letter-space\"></span><span class=\"icon aok-relative\"><i class=\"a-icon a-icon-expand table-sort-desc-placeholder\" role=\"img\"></i><i class=\"a-icon a-icon-collapse table-sort-asc-placeholder\" role=\"img\"></i></span></a></th>,\n",
       " <th class=\"a-text-left mojo-field-type-studio mojo-sortable-column a-nowrap\"><span title=\"Distributor\">Distributor</span>\n",
       " </th>,\n",
       " <th class=\"a-text-right mojo-field-type-boolean hidden mojo-sortable-column hidden a-nowrap\"><span title=\"Estimated\">Estimated</span>\n",
       " </th>]"
      ]
     },
     "execution_count": 72,
     "metadata": {},
     "output_type": "execute_result"
    }
   ],
   "source": [
    "containing_tables.find_all('th')"
   ]
  },
  {
   "cell_type": "code",
   "execution_count": null,
   "metadata": {},
   "outputs": [],
   "source": []
  }
 ],
 "metadata": {
  "kernelspec": {
   "display_name": "Python 3",
   "language": "python",
   "name": "python3"
  },
  "language_info": {
   "codemirror_mode": {
    "name": "ipython",
    "version": 3
   },
   "file_extension": ".py",
   "mimetype": "text/x-python",
   "name": "python",
   "nbconvert_exporter": "python",
   "pygments_lexer": "ipython3",
   "version": "3.7.4"
  }
 },
 "nbformat": 4,
 "nbformat_minor": 2
}
