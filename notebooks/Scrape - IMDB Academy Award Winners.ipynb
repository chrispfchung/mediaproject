{
 "cells": [
  {
   "cell_type": "code",
   "execution_count": 5,
   "metadata": {},
   "outputs": [],
   "source": [
    "links = ['https://www.imdb.com/search/title/?release_date=2010-01-01,&sort=boxoffice_gross_us,desc&count=250&start={}'.format(i) for i in range(1,5000,250)]\n",
    "\n",
    " "
   ]
  },
  {
   "cell_type": "code",
   "execution_count": 12,
   "metadata": {},
   "outputs": [],
   "source": [
    "from bs4 import BeautifulSoup\n",
    "import requests\n",
    "import pandas as pd\n",
    "import matplotlib.pyplot as plt\n",
    "%matplotlib inline"
   ]
  },
  {
   "cell_type": "markdown",
   "metadata": {},
   "source": [
    "Sorry for the long function, I worked a little backwards. I created all these variables on a different notebook for page 1. Bunched them together here for the sake of grabbing multiple pages\n"
   ]
  },
  {
   "cell_type": "code",
   "execution_count": 62,
   "metadata": {},
   "outputs": [],
   "source": [
    "def page_contents(link):\n",
    "    imdb_html = requests.get(link)\n",
    "    soup = BeautifulSoup(imdb_html.content, 'html.parser')\n",
    "    main_div_tag = soup.find('div', {'class':'lister-list'})\n",
    "    movies_per_page = main_div_tag.find_all('div', {'class':'lister-item mode-advanced'})\n",
    "    contents = []\n",
    "    for item in movies_per_page:\n",
    "        contents.append(item.find('div',{'class':'lister-item-content'}))\n",
    "    movie_ids =[]\n",
    "    for i in contents:\n",
    "        movie_ids.append(i.find('h3').find('a')['href'].split('/')[2])\n",
    "    movie_titles =[]\n",
    "    for i in contents:\n",
    "        movie_titles.append(str(i.find('h3').find('a')).split('>')[1].split('<')[0])\n",
    "    years =[]\n",
    "    for i in contents:\n",
    "        year = str(i.find('h3').find('span', {'class':'lister-item-year text-muted unbold'})).split('(')[-1].split(')')[0]\n",
    "        years.append(int(year))\n",
    "    ratings =[]\n",
    "    for i in contents:\n",
    "        ratings.append(str(i.find('p').find('span',{'class':'certificate'})).split('>')[1].split('<')[0])\n",
    "    runtimes =[]\n",
    "    for i in contents:\n",
    "        runtimes.append(str(i.find('p').find('span',{'class':'runtime'})).split('>')[1].split('<')[0].split()[0])\n",
    "    genres = []\n",
    "    for i in contents:\n",
    "        clean_genre = []\n",
    "        genres_unclean = str(i.find('p').find('span',{'class':'genre'})).split('>')[1].split('<')[0].split('\\n')[1].split(',')\n",
    "        for genr in genres_unclean:\n",
    "            clean_genre.append(genr.strip())\n",
    "        genres.append(clean_genre)\n",
    "    imdb_rating = []\n",
    "    for i in contents:\n",
    "        imdb_rating.append(float(i.find('div',{'class':'inline-block ratings-imdb-rating'})['data-value']))\n",
    "    meta_score_rating = []\n",
    "    for i in contents:\n",
    "        score = str(i.find('div',{'class':'inline-block ratings-metascore'}).find('span')).split('>')[1].split('<')[0].strip()\n",
    "        meta_score_rating.append(int(score))\n",
    "    votes =[]\n",
    "    for i in contents:\n",
    "        votes.append(int(str(i.find('p', {'class':'sort-num_votes-visible'}).find_all('span')[1]).split('>')[1].split('<')[0].replace(',','')))\n",
    "    gross_rev =[]\n",
    "    for i in contents:\n",
    "        gross_rev.append(int(str(i.find('p',{'class':'sort-num_votes-visible'}).find_all('span')[4]).split('\"')[1].replace(',','')))\n",
    "    def get_text_from_a(a_tag):\n",
    "        '''\n",
    "        takes a 'a' tag argument from html and returns the text displayed\n",
    "        '''\n",
    "        return str(a_tag).split('>')[1].split('<')[0]\n",
    "    directors =[]\n",
    "    for i in contents:\n",
    "        dirct =[]\n",
    "        for i2 in i.find('p',{'class':''}):\n",
    "            if i2 == i.find('p',{'class':''}).find('span'):\n",
    "                break\n",
    "            else:\n",
    "                if i2 in i.find('p',{'class':''}).find_all('a'):\n",
    "                    dirct.append(get_text_from_a(i2))\n",
    "        directors.append(dirct)\n",
    "    def get_stars(content):\n",
    "        strz =[]\n",
    "        for i2 in content.find('p',{'class':''}):\n",
    "            if i2 in content.find('p',{'class':''}).find_all('a'):\n",
    "                strz.append(get_text_from_a(i2))\n",
    "            else:\n",
    "                if i2 == content.find('p',{'class':''}).find('span'):\n",
    "                    strz = []\n",
    "                    continue\n",
    "        return strz\n",
    "    \n",
    "    stars = [get_stars(i) for i in contents] \n",
    "    \n",
    "    return pd.DataFrame({'id':movie_ids,'title':movie_titles,     \n",
    "    'year':years,'ratings':ratings,'runtime':runtimes,\n",
    "    'genre':genres,'imdb_rating':imdb_rating,\n",
    "    'meta_score':meta_score_rating,\n",
    "    'votes':votes,'revenue':gross_rev,\n",
    "    'directors':directors,'stars':stars})"
   ]
  },
  {
   "cell_type": "markdown",
   "metadata": {},
   "source": [
    "My function only worked for the first two pages.."
   ]
  },
  {
   "cell_type": "code",
   "execution_count": 63,
   "metadata": {},
   "outputs": [],
   "source": [
    "# list of 2 dataframes\n",
    "multiple_df = [page_contents(link) for link in links[:2]]"
   ]
  },
  {
   "cell_type": "code",
   "execution_count": 69,
   "metadata": {},
   "outputs": [],
   "source": [
    "# combining dataframes into one\n",
    "df = pd.concat(multiple_df,ignore_index=True)"
   ]
  },
  {
   "cell_type": "code",
   "execution_count": 71,
   "metadata": {},
   "outputs": [],
   "source": [
    "# creating csv\n",
    "df.to_csv('top_500_academy_winning_movies_by_box_office_2010-2020.csv')"
   ]
  },
  {
   "cell_type": "code",
   "execution_count": 119,
   "metadata": {},
   "outputs": [
    {
     "data": {
      "text/html": [
       "<div>\n",
       "<style scoped>\n",
       "    .dataframe tbody tr th:only-of-type {\n",
       "        vertical-align: middle;\n",
       "    }\n",
       "\n",
       "    .dataframe tbody tr th {\n",
       "        vertical-align: top;\n",
       "    }\n",
       "\n",
       "    .dataframe thead th {\n",
       "        text-align: right;\n",
       "    }\n",
       "</style>\n",
       "<table border=\"1\" class=\"dataframe\">\n",
       "  <thead>\n",
       "    <tr style=\"text-align: right;\">\n",
       "      <th></th>\n",
       "      <th>id</th>\n",
       "      <th>title</th>\n",
       "      <th>year</th>\n",
       "      <th>ratings</th>\n",
       "      <th>runtime</th>\n",
       "      <th>genre</th>\n",
       "      <th>imdb_rating</th>\n",
       "      <th>meta_score</th>\n",
       "      <th>votes</th>\n",
       "      <th>revenue</th>\n",
       "      <th>directors</th>\n",
       "      <th>stars</th>\n",
       "      <th>num_of_stars</th>\n",
       "      <th>num_of_directors</th>\n",
       "    </tr>\n",
       "  </thead>\n",
       "  <tbody>\n",
       "    <tr>\n",
       "      <td>0</td>\n",
       "      <td>tt2488496</td>\n",
       "      <td>Star Wars: Episode VII - The Force Awakens</td>\n",
       "      <td>2015</td>\n",
       "      <td>PG-13</td>\n",
       "      <td>138</td>\n",
       "      <td>[Action, Adventure, Sci-Fi]</td>\n",
       "      <td>7.9</td>\n",
       "      <td>81</td>\n",
       "      <td>827705</td>\n",
       "      <td>936662225</td>\n",
       "      <td>[J.J. Abrams]</td>\n",
       "      <td>[Daisy Ridley, John Boyega, Oscar Isaac, Domhn...</td>\n",
       "      <td>4</td>\n",
       "      <td>1</td>\n",
       "    </tr>\n",
       "    <tr>\n",
       "      <td>1</td>\n",
       "      <td>tt4154796</td>\n",
       "      <td>Avengers: Endgame</td>\n",
       "      <td>2019</td>\n",
       "      <td>PG-13</td>\n",
       "      <td>181</td>\n",
       "      <td>[Action, Adventure, Drama]</td>\n",
       "      <td>8.5</td>\n",
       "      <td>78</td>\n",
       "      <td>675448</td>\n",
       "      <td>858373000</td>\n",
       "      <td>[Anthony Russo, Joe Russo]</td>\n",
       "      <td>[Robert Downey Jr., Chris Evans, Mark Ruffalo,...</td>\n",
       "      <td>4</td>\n",
       "      <td>2</td>\n",
       "    </tr>\n",
       "    <tr>\n",
       "      <td>2</td>\n",
       "      <td>tt1825683</td>\n",
       "      <td>Black Panther</td>\n",
       "      <td>2018</td>\n",
       "      <td>PG-13</td>\n",
       "      <td>134</td>\n",
       "      <td>[Action, Adventure, Sci-Fi]</td>\n",
       "      <td>7.3</td>\n",
       "      <td>88</td>\n",
       "      <td>566449</td>\n",
       "      <td>700059566</td>\n",
       "      <td>[Ryan Coogler]</td>\n",
       "      <td>[Chadwick Boseman, Michael B. Jordan, Lupita N...</td>\n",
       "      <td>4</td>\n",
       "      <td>1</td>\n",
       "    </tr>\n",
       "    <tr>\n",
       "      <td>3</td>\n",
       "      <td>tt4154756</td>\n",
       "      <td>Avengers: Infinity War</td>\n",
       "      <td>2018</td>\n",
       "      <td>PG-13</td>\n",
       "      <td>149</td>\n",
       "      <td>[Action, Adventure, Sci-Fi]</td>\n",
       "      <td>8.5</td>\n",
       "      <td>68</td>\n",
       "      <td>750737</td>\n",
       "      <td>678815482</td>\n",
       "      <td>[Anthony Russo, Joe Russo]</td>\n",
       "      <td>[Robert Downey Jr., Chris Hemsworth, Mark Ruff...</td>\n",
       "      <td>4</td>\n",
       "      <td>2</td>\n",
       "    </tr>\n",
       "    <tr>\n",
       "      <td>4</td>\n",
       "      <td>tt0369610</td>\n",
       "      <td>Jurassic World</td>\n",
       "      <td>2015</td>\n",
       "      <td>PG-13</td>\n",
       "      <td>124</td>\n",
       "      <td>[Action, Adventure, Sci-Fi]</td>\n",
       "      <td>7.0</td>\n",
       "      <td>59</td>\n",
       "      <td>557059</td>\n",
       "      <td>652270625</td>\n",
       "      <td>[Colin Trevorrow]</td>\n",
       "      <td>[Chris Pratt, Bryce Dallas Howard, Ty Simpkins...</td>\n",
       "      <td>4</td>\n",
       "      <td>1</td>\n",
       "    </tr>\n",
       "  </tbody>\n",
       "</table>\n",
       "</div>"
      ],
      "text/plain": [
       "          id                                       title  year ratings  \\\n",
       "0  tt2488496  Star Wars: Episode VII - The Force Awakens  2015   PG-13   \n",
       "1  tt4154796                           Avengers: Endgame  2019   PG-13   \n",
       "2  tt1825683                               Black Panther  2018   PG-13   \n",
       "3  tt4154756                      Avengers: Infinity War  2018   PG-13   \n",
       "4  tt0369610                              Jurassic World  2015   PG-13   \n",
       "\n",
       "  runtime                        genre  imdb_rating  meta_score   votes  \\\n",
       "0     138  [Action, Adventure, Sci-Fi]          7.9          81  827705   \n",
       "1     181   [Action, Adventure, Drama]          8.5          78  675448   \n",
       "2     134  [Action, Adventure, Sci-Fi]          7.3          88  566449   \n",
       "3     149  [Action, Adventure, Sci-Fi]          8.5          68  750737   \n",
       "4     124  [Action, Adventure, Sci-Fi]          7.0          59  557059   \n",
       "\n",
       "     revenue                   directors  \\\n",
       "0  936662225               [J.J. Abrams]   \n",
       "1  858373000  [Anthony Russo, Joe Russo]   \n",
       "2  700059566              [Ryan Coogler]   \n",
       "3  678815482  [Anthony Russo, Joe Russo]   \n",
       "4  652270625           [Colin Trevorrow]   \n",
       "\n",
       "                                               stars  num_of_stars  \\\n",
       "0  [Daisy Ridley, John Boyega, Oscar Isaac, Domhn...             4   \n",
       "1  [Robert Downey Jr., Chris Evans, Mark Ruffalo,...             4   \n",
       "2  [Chadwick Boseman, Michael B. Jordan, Lupita N...             4   \n",
       "3  [Robert Downey Jr., Chris Hemsworth, Mark Ruff...             4   \n",
       "4  [Chris Pratt, Bryce Dallas Howard, Ty Simpkins...             4   \n",
       "\n",
       "   num_of_directors  \n",
       "0                 1  \n",
       "1                 2  \n",
       "2                 1  \n",
       "3                 2  \n",
       "4                 1  "
      ]
     },
     "execution_count": 119,
     "metadata": {},
     "output_type": "execute_result"
    }
   ],
   "source": [
    "df.head()"
   ]
  },
  {
   "cell_type": "code",
   "execution_count": 94,
   "metadata": {},
   "outputs": [],
   "source": [
    "df['num_of_stars'] = df['stars'].map(lambda x: len(x))"
   ]
  },
  {
   "cell_type": "code",
   "execution_count": 96,
   "metadata": {},
   "outputs": [],
   "source": [
    "df['num_of_directors'] = df['directors'].map(lambda x: len(x))"
   ]
  },
  {
   "cell_type": "code",
   "execution_count": 106,
   "metadata": {},
   "outputs": [],
   "source": [
    "# list of directors and the count of how many movies they directed (in the dataset)\n",
    "director_count ={}\n",
    "for directors in df.directors:\n",
    "    for director in directors:\n",
    "        director_count[director] = director_count.get(director, 1) + 1"
   ]
  },
  {
   "cell_type": "code",
   "execution_count": 148,
   "metadata": {},
   "outputs": [],
   "source": [
    "genres_count ={}\n",
    "for genres in df.genre:\n",
    "    for genre in genres:\n",
    "        genres_count[genre] = genres_count.get(genre, 1) + 1"
   ]
  },
  {
   "cell_type": "markdown",
   "metadata": {},
   "source": [
    "Getting the genres and count for the df from the movie db"
   ]
  },
  {
   "cell_type": "code",
   "execution_count": 211,
   "metadata": {},
   "outputs": [],
   "source": [
    "genres_and_count ={}\n",
    "for genres in df2.genres:\n",
    "    for genre in genres:\n",
    "        genres_and_count[genre] = genres_and_count.get(genre, 1) + 1"
   ]
  },
  {
   "cell_type": "code",
   "execution_count": 121,
   "metadata": {},
   "outputs": [],
   "source": [
    "df2 = pd.read_csv(\"../all_csv/movieDB_API_movies_w_gross_profits_&_ROI.csv\")"
   ]
  },
  {
   "cell_type": "code",
   "execution_count": 123,
   "metadata": {},
   "outputs": [],
   "source": [
    "big_df = df2.merge(df,how='left',left_on='imdb_id',right_on='id')"
   ]
  },
  {
   "cell_type": "code",
   "execution_count": 129,
   "metadata": {},
   "outputs": [],
   "source": [
    "a = big_df[big_df['genre'].notna()]"
   ]
  },
  {
   "cell_type": "code",
   "execution_count": 138,
   "metadata": {
    "scrolled": false
   },
   "outputs": [
    {
     "data": {
      "text/html": [
       "<div>\n",
       "<style scoped>\n",
       "    .dataframe tbody tr th:only-of-type {\n",
       "        vertical-align: middle;\n",
       "    }\n",
       "\n",
       "    .dataframe tbody tr th {\n",
       "        vertical-align: top;\n",
       "    }\n",
       "\n",
       "    .dataframe thead th {\n",
       "        text-align: right;\n",
       "    }\n",
       "</style>\n",
       "<table border=\"1\" class=\"dataframe\">\n",
       "  <thead>\n",
       "    <tr style=\"text-align: right;\">\n",
       "      <th></th>\n",
       "      <th>genres</th>\n",
       "      <th>genre</th>\n",
       "    </tr>\n",
       "  </thead>\n",
       "  <tbody>\n",
       "    <tr>\n",
       "      <td>21</td>\n",
       "      <td>['Action', 'Adventure', 'Animation', 'Science ...</td>\n",
       "      <td>[Animation, Action, Adventure]</td>\n",
       "    </tr>\n",
       "    <tr>\n",
       "      <td>39</td>\n",
       "      <td>['Action', 'Science Fiction', 'Adventure']</td>\n",
       "      <td>[Action, Adventure, Sci-Fi]</td>\n",
       "    </tr>\n",
       "    <tr>\n",
       "      <td>45</td>\n",
       "      <td>['Adventure', 'Science Fiction', 'Action']</td>\n",
       "      <td>[Action, Adventure, Drama]</td>\n",
       "    </tr>\n",
       "    <tr>\n",
       "      <td>46</td>\n",
       "      <td>['Drama', 'Comedy']</td>\n",
       "      <td>[Biography, Comedy, Drama]</td>\n",
       "    </tr>\n",
       "    <tr>\n",
       "      <td>49</td>\n",
       "      <td>['Adventure', 'Drama', 'Science Fiction']</td>\n",
       "      <td>[Adventure, Drama, Sci-Fi]</td>\n",
       "    </tr>\n",
       "    <tr>\n",
       "      <td>...</td>\n",
       "      <td>...</td>\n",
       "      <td>...</td>\n",
       "    </tr>\n",
       "    <tr>\n",
       "      <td>4111</td>\n",
       "      <td>['Action', 'Adventure', 'Science Fiction']</td>\n",
       "      <td>[Action, Adventure, Sci-Fi]</td>\n",
       "    </tr>\n",
       "    <tr>\n",
       "      <td>4131</td>\n",
       "      <td>['Action', 'Comedy', 'Family']</td>\n",
       "      <td>[Action, Comedy, Crime]</td>\n",
       "    </tr>\n",
       "    <tr>\n",
       "      <td>4141</td>\n",
       "      <td>['Adventure', 'Science Fiction', 'Family', 'Fa...</td>\n",
       "      <td>[Adventure, Family, Fantasy]</td>\n",
       "    </tr>\n",
       "    <tr>\n",
       "      <td>4204</td>\n",
       "      <td>['Action', 'Adventure', 'Family', 'Fantasy']</td>\n",
       "      <td>[Action, Adventure, Family]</td>\n",
       "    </tr>\n",
       "    <tr>\n",
       "      <td>4246</td>\n",
       "      <td>['Comedy']</td>\n",
       "      <td>[Comedy]</td>\n",
       "    </tr>\n",
       "  </tbody>\n",
       "</table>\n",
       "<p>485 rows × 2 columns</p>\n",
       "</div>"
      ],
      "text/plain": [
       "                                                 genres  \\\n",
       "21    ['Action', 'Adventure', 'Animation', 'Science ...   \n",
       "39           ['Action', 'Science Fiction', 'Adventure']   \n",
       "45           ['Adventure', 'Science Fiction', 'Action']   \n",
       "46                                  ['Drama', 'Comedy']   \n",
       "49            ['Adventure', 'Drama', 'Science Fiction']   \n",
       "...                                                 ...   \n",
       "4111         ['Action', 'Adventure', 'Science Fiction']   \n",
       "4131                     ['Action', 'Comedy', 'Family']   \n",
       "4141  ['Adventure', 'Science Fiction', 'Family', 'Fa...   \n",
       "4204       ['Action', 'Adventure', 'Family', 'Fantasy']   \n",
       "4246                                         ['Comedy']   \n",
       "\n",
       "                               genre  \n",
       "21    [Animation, Action, Adventure]  \n",
       "39       [Action, Adventure, Sci-Fi]  \n",
       "45        [Action, Adventure, Drama]  \n",
       "46        [Biography, Comedy, Drama]  \n",
       "49        [Adventure, Drama, Sci-Fi]  \n",
       "...                              ...  \n",
       "4111     [Action, Adventure, Sci-Fi]  \n",
       "4131         [Action, Comedy, Crime]  \n",
       "4141    [Adventure, Family, Fantasy]  \n",
       "4204     [Action, Adventure, Family]  \n",
       "4246                        [Comedy]  \n",
       "\n",
       "[485 rows x 2 columns]"
      ]
     },
     "execution_count": 138,
     "metadata": {},
     "output_type": "execute_result"
    }
   ],
   "source": [
    "a[['genres','genre']]"
   ]
  },
  {
   "cell_type": "code",
   "execution_count": 217,
   "metadata": {},
   "outputs": [],
   "source": [
    "df2['qty_of_genres'] = df2['genres'].map(lambda x: len(x))"
   ]
  },
  {
   "cell_type": "code",
   "execution_count": 221,
   "metadata": {},
   "outputs": [],
   "source": [
    "df2['weighted_budget']  = round(df2['budget'] / df2['qty_of_genres'],2)"
   ]
  },
  {
   "cell_type": "code",
   "execution_count": 236,
   "metadata": {},
   "outputs": [],
   "source": [
    "genre_wbudget ={}\n",
    "for index in df2.index:\n",
    "    for genre in df2['genres'][index]:\n",
    "        budget = df2['weighted_budget'][index]\n",
    "        genre_wbudget[genre] = genre_wbudget.get(genre,0) + budget"
   ]
  },
  {
   "cell_type": "code",
   "execution_count": 241,
   "metadata": {
    "scrolled": true
   },
   "outputs": [
    {
     "data": {
      "text/plain": [
       "{'Comedy': 14939354.714229718,\n",
       " 'Drama': 11498555.061710177,\n",
       " 'Romance': 10509350.228997134,\n",
       " 'Crime': 10801324.099629102,\n",
       " 'Thriller': 11961367.116864275,\n",
       " 'History': 12989409.163782379,\n",
       " 'War': 12113299.831496598,\n",
       " 'Animation': 19778867.827447552,\n",
       " 'Family': 19517732.816600394,\n",
       " 'Fantasy': 20891759.443404254,\n",
       " 'Action': 20195022.650008366,\n",
       " 'Adventure': 22935889.955033332,\n",
       " 'Horror': 7397144.088537476,\n",
       " 'Western': 12198710.007777778,\n",
       " 'Science Fiction': 20318709.881647054,\n",
       " 'Music': 8425604.353584904,\n",
       " 'Mystery': 9622432.305975001,\n",
       " 'TV Movie': 1166666.665}"
      ]
     },
     "execution_count": 241,
     "metadata": {},
     "output_type": "execute_result"
    }
   ],
   "source": [
    "genre_and_weight_budget = {}\n",
    "for genre, budget in genre_wbudget.items():\n",
    "    genre_and_weight_budget.update({genre:budget / genres_and_count[genre]})\n",
    "genre_and_weight_budget   "
   ]
  },
  {
   "cell_type": "code",
   "execution_count": 261,
   "metadata": {
    "scrolled": true
   },
   "outputs": [
    {
     "data": {
      "image/png": "[encoded data removed]",
      "text/plain": [
       "<Figure size 864x576 with 1 Axes>"
      ]
     },
     "metadata": {
      "needs_background": "light"
     },
     "output_type": "display_data"
    }
   ],
   "source": [
    "plt.figure(figsize=(12,8));\n",
    "plt.bar(genre_and_weight_budget.keys(),genre_and_weight_budget.values());\n",
    "plt.title('Genres and their average budget weighted');\n",
    "plt.xlabel('Genres');\n",
    "plt.ylabel('Average Budget');\n",
    "plt.xticks(rotation=45)\n",
    "plt.show()"
   ]
  },
  {
   "cell_type": "code",
   "execution_count": 301,
   "metadata": {
    "scrolled": false
   },
   "outputs": [],
   "source": [
    "horror_and_western = df[(df['genre'].map(lambda x: 'Horror' in x)) | (df['genre'].map(lambda x: 'Western' in x))]"
   ]
  },
  {
   "cell_type": "code",
   "execution_count": 293,
   "metadata": {
    "scrolled": true
   },
   "outputs": [
    {
     "data": {
      "text/html": [
       "<div>\n",
       "<style scoped>\n",
       "    .dataframe tbody tr th:only-of-type {\n",
       "        vertical-align: middle;\n",
       "    }\n",
       "\n",
       "    .dataframe tbody tr th {\n",
       "        vertical-align: top;\n",
       "    }\n",
       "\n",
       "    .dataframe thead th {\n",
       "        text-align: right;\n",
       "    }\n",
       "</style>\n",
       "<table border=\"1\" class=\"dataframe\">\n",
       "  <thead>\n",
       "    <tr style=\"text-align: right;\">\n",
       "      <th></th>\n",
       "      <th>id</th>\n",
       "      <th>title</th>\n",
       "      <th>year</th>\n",
       "      <th>ratings</th>\n",
       "      <th>runtime</th>\n",
       "      <th>genre</th>\n",
       "      <th>imdb_rating</th>\n",
       "      <th>meta_score</th>\n",
       "      <th>votes</th>\n",
       "      <th>revenue</th>\n",
       "      <th>directors</th>\n",
       "      <th>stars</th>\n",
       "      <th>num_of_stars</th>\n",
       "      <th>num_of_directors</th>\n",
       "    </tr>\n",
       "  </thead>\n",
       "  <tbody>\n",
       "    <tr>\n",
       "      <td>45</td>\n",
       "      <td>tt1396484</td>\n",
       "      <td>It</td>\n",
       "      <td>2017</td>\n",
       "      <td>R</td>\n",
       "      <td>135</td>\n",
       "      <td>[Horror]</td>\n",
       "      <td>7.3</td>\n",
       "      <td>69</td>\n",
       "      <td>422761</td>\n",
       "      <td>327481748</td>\n",
       "      <td>[Andy Muschietti]</td>\n",
       "      <td>[Bill Skarsgård, Jaeden Martell, Finn Wolfhard...</td>\n",
       "      <td>4</td>\n",
       "      <td>1</td>\n",
       "    </tr>\n",
       "    <tr>\n",
       "      <td>104</td>\n",
       "      <td>tt0816711</td>\n",
       "      <td>World War Z</td>\n",
       "      <td>2013</td>\n",
       "      <td>PG-13</td>\n",
       "      <td>116</td>\n",
       "      <td>[Action, Adventure, Horror]</td>\n",
       "      <td>7.0</td>\n",
       "      <td>63</td>\n",
       "      <td>573069</td>\n",
       "      <td>202359711</td>\n",
       "      <td>[Marc Forster]</td>\n",
       "      <td>[Brad Pitt, Mireille Enos, Daniella Kertesz, J...</td>\n",
       "      <td>4</td>\n",
       "      <td>1</td>\n",
       "    </tr>\n",
       "  </tbody>\n",
       "</table>\n",
       "</div>"
      ],
      "text/plain": [
       "            id        title  year ratings runtime  \\\n",
       "45   tt1396484           It  2017       R     135   \n",
       "104  tt0816711  World War Z  2013   PG-13     116   \n",
       "\n",
       "                           genre  imdb_rating  meta_score   votes    revenue  \\\n",
       "45                      [Horror]          7.3          69  422761  327481748   \n",
       "104  [Action, Adventure, Horror]          7.0          63  573069  202359711   \n",
       "\n",
       "             directors                                              stars  \\\n",
       "45   [Andy Muschietti]  [Bill Skarsgård, Jaeden Martell, Finn Wolfhard...   \n",
       "104     [Marc Forster]  [Brad Pitt, Mireille Enos, Daniella Kertesz, J...   \n",
       "\n",
       "     num_of_stars  num_of_directors  \n",
       "45              4                 1  \n",
       "104             4                 1  "
      ]
     },
     "execution_count": 293,
     "metadata": {},
     "output_type": "execute_result"
    }
   ],
   "source": [
    "horror_and_western.head(2)"
   ]
  },
  {
   "cell_type": "markdown",
   "metadata": {},
   "source": [
    "## We narrowed down our movie choice to two genres"
   ]
  },
  {
   "cell_type": "code",
   "execution_count": 273,
   "metadata": {},
   "outputs": [],
   "source": [
    "horror_and_western_director_count ={}\n",
    "for directors in horror_and_western.directors:\n",
    "    for director in directors:\n",
    "        horror_and_western_director_count[director] = horror_and_western_director_count.get(director, 1) + 1"
   ]
  },
  {
   "cell_type": "markdown",
   "metadata": {},
   "source": [
    "Here are the top five directors for the genres Horror and Western"
   ]
  },
  {
   "cell_type": "code",
   "execution_count": 285,
   "metadata": {},
   "outputs": [
    {
     "data": {
      "text/plain": [
       "[('Andy Muschietti', 4),\n",
       " ('James Wan', 4),\n",
       " ('James DeMonaco', 4),\n",
       " ('Jordan Peele', 3),\n",
       " ('M. Night Shyamalan', 3)]"
      ]
     },
     "execution_count": 285,
     "metadata": {},
     "output_type": "execute_result"
    }
   ],
   "source": [
    "sorted(horror_and_western_director_count.items(),key=lambda x: x[1],reverse=True)[:5]"
   ]
  },
  {
   "cell_type": "code",
   "execution_count": 295,
   "metadata": {},
   "outputs": [],
   "source": [
    "horror_and_western_actors_count ={}\n",
    "for actors in horror_and_western.stars:\n",
    "    for actor in actors:\n",
    "        horror_and_western_actors_count[actor] = horror_and_western_actors_count.get(actor, 1) + 1"
   ]
  },
  {
   "cell_type": "markdown",
   "metadata": {},
   "source": [
    "Here are the top five actors for the genres Horror and Western"
   ]
  },
  {
   "cell_type": "code",
   "execution_count": 294,
   "metadata": {
    "scrolled": true
   },
   "outputs": [
    {
     "data": {
      "text/plain": [
       "[('Patrick Wilson', 5),\n",
       " ('Vera Farmiga', 4),\n",
       " ('Jessica Chastain', 3),\n",
       " ('James McAvoy', 3),\n",
       " ('Emily Blunt', 3)]"
      ]
     },
     "execution_count": 294,
     "metadata": {},
     "output_type": "execute_result"
    }
   ],
   "source": [
    "sorted(horror_and_western_actors_count.items(),key=lambda x: x[1],reverse=True)[:5]"
   ]
  },
  {
   "cell_type": "code",
   "execution_count": 299,
   "metadata": {
    "scrolled": true
   },
   "outputs": [
    {
     "data": {
      "text/plain": [
       "Index(['id', 'title', 'year', 'ratings', 'runtime', 'genre', 'imdb_rating',\n",
       "       'meta_score', 'votes', 'revenue', 'directors', 'stars', 'num_of_stars',\n",
       "       'num_of_directors'],\n",
       "      dtype='object')"
      ]
     },
     "execution_count": 299,
     "metadata": {},
     "output_type": "execute_result"
    }
   ],
   "source": [
    "horror_and_western.columns"
   ]
  }
 ],
 "metadata": {
  "kernelspec": {
   "display_name": "Python 3",
   "language": "python",
   "name": "python3"
  },
  "language_info": {
   "codemirror_mode": {
    "name": "ipython",
    "version": 3
   },
   "file_extension": ".py",
   "mimetype": "text/x-python",
   "name": "python",
   "nbconvert_exporter": "python",
   "pygments_lexer": "ipython3",
   "version": "3.6.10"
  }
 },
 "nbformat": 4,
 "nbformat_minor": 2
}
