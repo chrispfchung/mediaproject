{
 "cells": [
  {
   "cell_type": "code",
   "execution_count": 138,
   "metadata": {
    "scrolled": false
   },
   "outputs": [],
   "source": [
    "import requests\n",
    "from bs4 import BeautifulSoup\n",
    "r = requests.get('https://www.imdb.com/title/tt1098327/')\n",
    "soup = BeautifulSoup(r.content, 'html.parser')"
   ]
  },
  {
   "cell_type": "code",
   "execution_count": 139,
   "metadata": {},
   "outputs": [
    {
     "data": {
      "text/plain": [
       "30000000"
      ]
     },
     "execution_count": 139,
     "metadata": {},
     "output_type": "execute_result"
    }
   ],
   "source": [
    "#code to get one budget for dragonball z movie\n",
    "divs = soup.find_all('div',class_='txt-block')[8] # first level to narrow\n",
    "#clean returned string value and turn into an integer to fill in missing budget in our dataset\n",
    "int(divs.text.replace('\\nBudget:$', '').replace(' ', '').replace('\\n(estimated)\\n', '').replace(',','')) "
   ]
  },
  {
   "cell_type": "code",
   "execution_count": 154,
   "metadata": {},
   "outputs": [
    {
     "data": {
      "text/plain": [
       "55720772"
      ]
     },
     "execution_count": 154,
     "metadata": {},
     "output_type": "execute_result"
    }
   ],
   "source": [
    "# cumulative worldwide gross / revenue \n",
    "divs = soup.find_all('div',class_='txt-block')[11] # first level to narrow\n",
    "int(divs.text.replace('\\nCumulative Worldwide Gross: $',\"\").replace(' ', '').replace(',', ''))\n",
    "#clean returned string value and turn into an integer to fill in missing budget in our dataset\n",
    "# int(divs.text.replace('\\nBudget:$', '').replace(' ', '').replace('\\n(estimated)\\n', '').replace(',','')) "
   ]
  },
  {
   "cell_type": "code",
   "execution_count": 157,
   "metadata": {},
   "outputs": [],
   "source": [
    "df = pd.read_csv('movieDB_API_movies.csv')\n",
    "missing_df = df[df['budget']==0] # we are running into some budgets and revenues returning 0 values"
   ]
  },
  {
   "cell_type": "code",
   "execution_count": 161,
   "metadata": {},
   "outputs": [
    {
     "name": "stderr",
     "output_type": "stream",
     "text": [
      "\r",
      "  0%|          | 0/2073 [00:00<?, ?it/s]"
     ]
    },
    {
     "name": "stdout",
     "output_type": "stream",
     "text": [
      "tt5311514\n"
     ]
    },
    {
     "name": "stderr",
     "output_type": "stream",
     "text": [
      "\n"
     ]
    },
    {
     "ename": "ValueError",
     "evalue": "invalid literal for int() with base 10: '\\nBudget:JPY370000000'",
     "output_type": "error",
     "traceback": [
      "\u001b[0;31m---------------------------------------------------------------------------\u001b[0m",
      "\u001b[0;31mValueError\u001b[0m                                Traceback (most recent call last)",
      "\u001b[0;32m<ipython-input-161-694cf646e853>\u001b[0m in \u001b[0;36m<module>\u001b[0;34m\u001b[0m\n\u001b[1;32m      9\u001b[0m     \u001b[0mprint\u001b[0m\u001b[0;34m(\u001b[0m\u001b[0mi\u001b[0m\u001b[0;34m)\u001b[0m\u001b[0;34m\u001b[0m\u001b[0;34m\u001b[0m\u001b[0m\n\u001b[1;32m     10\u001b[0m     budgets.append(int(divs.text.replace('\\nBudget:$', '').replace(' ', '').\n\u001b[0;32m---> 11\u001b[0;31m                        replace('\\n(estimated)\\n', '').replace(',','')))\n\u001b[0m\u001b[1;32m     12\u001b[0m     \u001b[0mdivs\u001b[0m \u001b[0;34m=\u001b[0m \u001b[0msoup\u001b[0m\u001b[0;34m.\u001b[0m\u001b[0mfind_all\u001b[0m\u001b[0;34m(\u001b[0m\u001b[0;34m'div'\u001b[0m\u001b[0;34m,\u001b[0m\u001b[0mclass_\u001b[0m\u001b[0;34m=\u001b[0m\u001b[0;34m'txt-block'\u001b[0m\u001b[0;34m)\u001b[0m\u001b[0;34m[\u001b[0m\u001b[0;36m11\u001b[0m\u001b[0;34m]\u001b[0m \u001b[0;31m# first level to narrow\u001b[0m\u001b[0;34m\u001b[0m\u001b[0;34m\u001b[0m\u001b[0m\n\u001b[1;32m     13\u001b[0m     revenue.append(int(divs.text.replace('\\nCumulative Worldwide Gross: $',\"\").replace(' ', '').\n",
      "\u001b[0;31mValueError\u001b[0m: invalid literal for int() with base 10: '\\nBudget:JPY370000000'"
     ]
    }
   ],
   "source": [
    "from tqdm import tqdm\n",
    "# start to loop through imdb and scrape the 0 budgets and revenues\n",
    "budgets = []\n",
    "revenue = []\n",
    "for i in tqdm(missing_df['imdb_id']): # all imdb_ids to go through\n",
    "    r = requests.get(f\"https://www.imdb.com/title/{i}/\")\n",
    "    soup = BeautifulSoup(r.content, 'html.parser')\n",
    "    divs = soup.find_all('div',class_='txt-block')[8] # first level to narrow\n",
    "    print(i)\n",
    "    budgets.append(int(divs.text.replace('\\nBudget:$', '').replace(' ', '').\n",
    "                       replace('\\n(estimated)\\n', '').replace(',','')))\n",
    "    divs = soup.find_all('div',class_='txt-block')[11] # first level to narrow\n",
    "    revenue.append(int(divs.text.replace('\\nCumulative Worldwide Gross: $',\"\").replace(' ', '').\n",
    "                       replace(',', '')))\n",
    "    print(i)"
   ]
  },
  {
   "cell_type": "code",
   "execution_count": null,
   "metadata": {},
   "outputs": [],
   "source": []
  }
 ],
 "metadata": {
  "kernelspec": {
   "display_name": "Python 3",
   "language": "python",
   "name": "python3"
  },
  "language_info": {
   "codemirror_mode": {
    "name": "ipython",
    "version": 3
   },
   "file_extension": ".py",
   "mimetype": "text/x-python",
   "name": "python",
   "nbconvert_exporter": "python",
   "pygments_lexer": "ipython3",
   "version": "3.6.7"
  }
 },
 "nbformat": 4,
 "nbformat_minor": 2
}
