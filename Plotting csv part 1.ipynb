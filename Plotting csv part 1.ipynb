{
 "cells": [
  {
   "cell_type": "code",
   "execution_count": 184,
   "metadata": {},
   "outputs": [],
   "source": [
    "import pandas as pd\n",
    "import matplotlib.pyplot as plt\n",
    "import seaborn as sns\n",
    "import numpy as np\n",
    "%matplotlib inline"
   ]
  },
  {
   "cell_type": "code",
   "execution_count": 151,
   "metadata": {},
   "outputs": [],
   "source": [
    "df =pd.read_csv('movieDB_API_movies_w_gross_profits_&_ROI.csv')"
   ]
  },
  {
   "cell_type": "code",
   "execution_count": 162,
   "metadata": {
    "scrolled": false
   },
   "outputs": [
    {
     "data": {
      "text/html": [
       "<div>\n",
       "<style scoped>\n",
       "    .dataframe tbody tr th:only-of-type {\n",
       "        vertical-align: middle;\n",
       "    }\n",
       "\n",
       "    .dataframe tbody tr th {\n",
       "        vertical-align: top;\n",
       "    }\n",
       "\n",
       "    .dataframe thead th {\n",
       "        text-align: right;\n",
       "    }\n",
       "</style>\n",
       "<table border=\"1\" class=\"dataframe\">\n",
       "  <thead>\n",
       "    <tr style=\"text-align: right;\">\n",
       "      <th></th>\n",
       "      <th>Unnamed: 0</th>\n",
       "      <th>budget</th>\n",
       "      <th>genres</th>\n",
       "      <th>id</th>\n",
       "      <th>imdb_id</th>\n",
       "      <th>popularity</th>\n",
       "      <th>release_date</th>\n",
       "      <th>revenue</th>\n",
       "      <th>runtime</th>\n",
       "      <th>title</th>\n",
       "      <th>vote_average</th>\n",
       "      <th>vote_count</th>\n",
       "      <th>gross_profit</th>\n",
       "      <th>ROI (%)</th>\n",
       "    </tr>\n",
       "  </thead>\n",
       "  <tbody>\n",
       "    <tr>\n",
       "      <td>3309</td>\n",
       "      <td>5332</td>\n",
       "      <td>15000</td>\n",
       "      <td>['Horror', 'Mystery']</td>\n",
       "      <td>23827</td>\n",
       "      <td>tt1179904</td>\n",
       "      <td>14.949</td>\n",
       "      <td>2009-09-25</td>\n",
       "      <td>193355800</td>\n",
       "      <td>86.0</td>\n",
       "      <td>Paranormal Activity</td>\n",
       "      <td>5.9</td>\n",
       "      <td>3125</td>\n",
       "      <td>193340800.0</td>\n",
       "      <td>1.288939e+06</td>\n",
       "    </tr>\n",
       "    <tr>\n",
       "      <td>2693</td>\n",
       "      <td>4348</td>\n",
       "      <td>60000</td>\n",
       "      <td>['Horror', 'Mystery']</td>\n",
       "      <td>2667</td>\n",
       "      <td>tt0185937</td>\n",
       "      <td>11.060</td>\n",
       "      <td>1999-07-14</td>\n",
       "      <td>248000000</td>\n",
       "      <td>81.0</td>\n",
       "      <td>The Blair Witch Project</td>\n",
       "      <td>6.3</td>\n",
       "      <td>2603</td>\n",
       "      <td>247940000.0</td>\n",
       "      <td>4.132333e+05</td>\n",
       "    </tr>\n",
       "    <tr>\n",
       "      <td>2292</td>\n",
       "      <td>3733</td>\n",
       "      <td>12000</td>\n",
       "      <td>['Comedy', 'Crime']</td>\n",
       "      <td>692</td>\n",
       "      <td>tt0069089</td>\n",
       "      <td>6.530</td>\n",
       "      <td>1972-03-12</td>\n",
       "      <td>6000000</td>\n",
       "      <td>92.0</td>\n",
       "      <td>Pink Flamingos</td>\n",
       "      <td>6.5</td>\n",
       "      <td>232</td>\n",
       "      <td>5988000.0</td>\n",
       "      <td>4.990000e+04</td>\n",
       "    </tr>\n",
       "    <tr>\n",
       "      <td>4173</td>\n",
       "      <td>6757</td>\n",
       "      <td>100000</td>\n",
       "      <td>['Horror', 'Thriller']</td>\n",
       "      <td>299245</td>\n",
       "      <td>tt2309260</td>\n",
       "      <td>6.964</td>\n",
       "      <td>2015-07-10</td>\n",
       "      <td>42664410</td>\n",
       "      <td>87.0</td>\n",
       "      <td>The Gallows</td>\n",
       "      <td>4.8</td>\n",
       "      <td>657</td>\n",
       "      <td>42564410.0</td>\n",
       "      <td>4.256441e+04</td>\n",
       "    </tr>\n",
       "    <tr>\n",
       "      <td>3914</td>\n",
       "      <td>6302</td>\n",
       "      <td>130000</td>\n",
       "      <td>['Drama', 'Thriller', 'Horror']</td>\n",
       "      <td>83</td>\n",
       "      <td>tt0374102</td>\n",
       "      <td>7.539</td>\n",
       "      <td>2003-12-29</td>\n",
       "      <td>54667954</td>\n",
       "      <td>79.0</td>\n",
       "      <td>Open Water</td>\n",
       "      <td>5.4</td>\n",
       "      <td>646</td>\n",
       "      <td>54537954.0</td>\n",
       "      <td>4.195227e+04</td>\n",
       "    </tr>\n",
       "  </tbody>\n",
       "</table>\n",
       "</div>"
      ],
      "text/plain": [
       "      Unnamed: 0  budget                           genres      id    imdb_id  \\\n",
       "3309        5332   15000            ['Horror', 'Mystery']   23827  tt1179904   \n",
       "2693        4348   60000            ['Horror', 'Mystery']    2667  tt0185937   \n",
       "2292        3733   12000              ['Comedy', 'Crime']     692  tt0069089   \n",
       "4173        6757  100000           ['Horror', 'Thriller']  299245  tt2309260   \n",
       "3914        6302  130000  ['Drama', 'Thriller', 'Horror']      83  tt0374102   \n",
       "\n",
       "      popularity release_date    revenue  runtime                    title  \\\n",
       "3309      14.949   2009-09-25  193355800     86.0      Paranormal Activity   \n",
       "2693      11.060   1999-07-14  248000000     81.0  The Blair Witch Project   \n",
       "2292       6.530   1972-03-12    6000000     92.0           Pink Flamingos   \n",
       "4173       6.964   2015-07-10   42664410     87.0              The Gallows   \n",
       "3914       7.539   2003-12-29   54667954     79.0               Open Water   \n",
       "\n",
       "      vote_average  vote_count  gross_profit       ROI (%)  \n",
       "3309           5.9        3125   193340800.0  1.288939e+06  \n",
       "2693           6.3        2603   247940000.0  4.132333e+05  \n",
       "2292           6.5         232     5988000.0  4.990000e+04  \n",
       "4173           4.8         657    42564410.0  4.256441e+04  \n",
       "3914           5.4         646    54537954.0  4.195227e+04  "
      ]
     },
     "execution_count": 162,
     "metadata": {},
     "output_type": "execute_result"
    }
   ],
   "source": [
    "df.sort_values(by='ROI (%)',ascending=False).head()"
   ]
  },
  {
   "cell_type": "markdown",
   "metadata": {},
   "source": [
    "##  Create subset to filter out movies with no known gross profit"
   ]
  },
  {
   "cell_type": "code",
   "execution_count": 164,
   "metadata": {},
   "outputs": [],
   "source": [
    "movies_with_gross_profit = df[df['gross_profit'].notna()]"
   ]
  },
  {
   "cell_type": "code",
   "execution_count": 165,
   "metadata": {
    "scrolled": true
   },
   "outputs": [
    {
     "data": {
      "text/plain": [
       "(4273, 14)"
      ]
     },
     "execution_count": 165,
     "metadata": {},
     "output_type": "execute_result"
    }
   ],
   "source": [
    "movies_with_gross_profit.shape"
   ]
  },
  {
   "cell_type": "code",
   "execution_count": 192,
   "metadata": {},
   "outputs": [],
   "source": [
    "movies_with_gross_profit['ROI (%)'] = movies_with_gross_profit['ROI (%)'].map(lambda x: round(x,2))"
   ]
  },
  {
   "cell_type": "code",
   "execution_count": 183,
   "metadata": {},
   "outputs": [],
   "source": [
    "# plot distribution of ROIs in our subset"
   ]
  },
  {
   "cell_type": "code",
   "execution_count": 199,
   "metadata": {
    "scrolled": true
   },
   "outputs": [
    {
     "data": {
      "text/plain": [
       "851.5671074186781"
      ]
     },
     "execution_count": 199,
     "metadata": {},
     "output_type": "execute_result"
    }
   ],
   "source": [
    "movies_with_gross_profit['ROI (%)'].mean()"
   ]
  },
  {
   "cell_type": "code",
   "execution_count": 250,
   "metadata": {},
   "outputs": [],
   "source": [
    "# filter out data for outliers (anything past 2 std away)\n",
    "def reject_outliers(data, m=2):\n",
    "    return data[abs(data['ROI (%)'] - np.mean(data['ROI (%)'])) < m * np.std(data['ROI (%)'])]\n"
   ]
  },
  {
   "cell_type": "code",
   "execution_count": 251,
   "metadata": {},
   "outputs": [],
   "source": [
    "# movies where gross profit is not null filtered out for outliers based on the ROI column\n",
    "subset_movies = reject_outliers(movies_with_gross_profit)"
   ]
  },
  {
   "cell_type": "code",
   "execution_count": 252,
   "metadata": {},
   "outputs": [
    {
     "data": {
      "text/plain": [
       "(4269, 15)"
      ]
     },
     "execution_count": 252,
     "metadata": {},
     "output_type": "execute_result"
    }
   ],
   "source": [
    "subset_movies.shape"
   ]
  },
  {
   "cell_type": "code",
   "execution_count": 253,
   "metadata": {},
   "outputs": [],
   "source": [
    "subset_roi = reject_outliers(movies_with_gross_profit)['ROI (%)']"
   ]
  },
  {
   "cell_type": "code",
   "execution_count": 254,
   "metadata": {},
   "outputs": [
    {
     "data": {
      "text/plain": [
       "count     4269.000000\n",
       "mean       431.977006\n",
       "std       1551.852649\n",
       "min       -100.000000\n",
       "25%         14.790000\n",
       "50%        145.390000\n",
       "75%        372.750000\n",
       "max      41952.270000\n",
       "Name: ROI (%), dtype: float64"
      ]
     },
     "execution_count": 254,
     "metadata": {},
     "output_type": "execute_result"
    }
   ],
   "source": [
    "subset_roi.describe()"
   ]
  },
  {
   "cell_type": "code",
   "execution_count": 255,
   "metadata": {},
   "outputs": [],
   "source": [
    "filtered_roi = movies_with_gross_profit[(movies_with_gross_profit['ROI (%)'] > 5000) & (movies_with_gross_profit['ROI (%)'] < 20000) ]['ROI (%)']"
   ]
  },
  {
   "cell_type": "code",
   "execution_count": 256,
   "metadata": {},
   "outputs": [
    {
     "data": {
      "text/plain": [
       "<matplotlib.axes._subplots.AxesSubplot at 0x1a2e8a8f50>"
      ]
     },
     "execution_count": 256,
     "metadata": {},
     "output_type": "execute_result"
    },
    {
     "data": {
      "image/png": "[encoded data removed]",
      "text/plain": [
       "<Figure size 864x576 with 1 Axes>"
      ]
     },
     "metadata": {
      "needs_background": "light"
     },
     "output_type": "display_data"
    }
   ],
   "source": [
    "plt.figure(figsize=(12,8))\n",
    "sns.distplot(subset_roi,bins=20)"
   ]
  },
  {
   "cell_type": "markdown",
   "metadata": {},
   "source": [
    "## Analyzing length of movie and movie profit"
   ]
  },
  {
   "cell_type": "code",
   "execution_count": 257,
   "metadata": {
    "scrolled": false
   },
   "outputs": [
    {
     "data": {
      "image/png": "[encoded data removed]",
      "text/plain": [
       "<Figure size 720x432 with 1 Axes>"
      ]
     },
     "metadata": {
      "needs_background": "light"
     },
     "output_type": "display_data"
    }
   ],
   "source": [
    "plt.figure(figsize=(10,6))\n",
    "plt.scatter(subset_movies['runtime'],subset_movies['gross_profit']);\n",
    "plt.title('Movie run time and Gross Profit')\n",
    "plt.xlabel('Run Time')\n",
    "plt.ylabel('Gross Profit (in hundred millions)')\n",
    "plt.show()\n"
   ]
  },
  {
   "cell_type": "code",
   "execution_count": 233,
   "metadata": {},
   "outputs": [],
   "source": [
    "# looks like we can find a good movie length.... look further..."
   ]
  },
  {
   "cell_type": "markdown",
   "metadata": {},
   "source": [
    "Plotting the run time and mean of gross profit"
   ]
  },
  {
   "cell_type": "code",
   "execution_count": 279,
   "metadata": {},
   "outputs": [],
   "source": [
    "group_rt_gp = subset_movies[['runtime','revenue']]"
   ]
  },
  {
   "cell_type": "code",
   "execution_count": 280,
   "metadata": {},
   "outputs": [
    {
     "data": {
      "text/html": [
       "<div>\n",
       "<style scoped>\n",
       "    .dataframe tbody tr th:only-of-type {\n",
       "        vertical-align: middle;\n",
       "    }\n",
       "\n",
       "    .dataframe tbody tr th {\n",
       "        vertical-align: top;\n",
       "    }\n",
       "\n",
       "    .dataframe thead th {\n",
       "        text-align: right;\n",
       "    }\n",
       "</style>\n",
       "<table border=\"1\" class=\"dataframe\">\n",
       "  <thead>\n",
       "    <tr style=\"text-align: right;\">\n",
       "      <th></th>\n",
       "      <th>runtime</th>\n",
       "      <th>revenue</th>\n",
       "    </tr>\n",
       "  </thead>\n",
       "  <tbody>\n",
       "    <tr>\n",
       "      <td>0</td>\n",
       "      <td>190.0</td>\n",
       "      <td>100000000</td>\n",
       "    </tr>\n",
       "    <tr>\n",
       "      <td>1</td>\n",
       "      <td>142.0</td>\n",
       "      <td>28341469</td>\n",
       "    </tr>\n",
       "    <tr>\n",
       "      <td>2</td>\n",
       "      <td>175.0</td>\n",
       "      <td>245066411</td>\n",
       "    </tr>\n",
       "    <tr>\n",
       "      <td>3</td>\n",
       "      <td>132.0</td>\n",
       "      <td>201055038</td>\n",
       "    </tr>\n",
       "    <tr>\n",
       "      <td>4</td>\n",
       "      <td>195.0</td>\n",
       "      <td>321365567</td>\n",
       "    </tr>\n",
       "    <tr>\n",
       "      <td>...</td>\n",
       "      <td>...</td>\n",
       "      <td>...</td>\n",
       "    </tr>\n",
       "    <tr>\n",
       "      <td>4268</td>\n",
       "      <td>96.0</td>\n",
       "      <td>10442808</td>\n",
       "    </tr>\n",
       "    <tr>\n",
       "      <td>4269</td>\n",
       "      <td>87.0</td>\n",
       "      <td>14109284</td>\n",
       "    </tr>\n",
       "    <tr>\n",
       "      <td>4270</td>\n",
       "      <td>118.0</td>\n",
       "      <td>21400000</td>\n",
       "    </tr>\n",
       "    <tr>\n",
       "      <td>4271</td>\n",
       "      <td>90.0</td>\n",
       "      <td>13818181</td>\n",
       "    </tr>\n",
       "    <tr>\n",
       "      <td>4272</td>\n",
       "      <td>85.0</td>\n",
       "      <td>57497699</td>\n",
       "    </tr>\n",
       "  </tbody>\n",
       "</table>\n",
       "<p>4269 rows × 2 columns</p>\n",
       "</div>"
      ],
      "text/plain": [
       "      runtime    revenue\n",
       "0       190.0  100000000\n",
       "1       142.0   28341469\n",
       "2       175.0  245066411\n",
       "3       132.0  201055038\n",
       "4       195.0  321365567\n",
       "...       ...        ...\n",
       "4268     96.0   10442808\n",
       "4269     87.0   14109284\n",
       "4270    118.0   21400000\n",
       "4271     90.0   13818181\n",
       "4272     85.0   57497699\n",
       "\n",
       "[4269 rows x 2 columns]"
      ]
     },
     "execution_count": 280,
     "metadata": {},
     "output_type": "execute_result"
    }
   ],
   "source": [
    "group_rt_gp"
   ]
  },
  {
   "cell_type": "code",
   "execution_count": 284,
   "metadata": {},
   "outputs": [
    {
     "data": {
      "image/png": "[encoded data removed]",
      "text/plain": [
       "<Figure size 792x432 with 1 Axes>"
      ]
     },
     "metadata": {
      "needs_background": "light"
     },
     "output_type": "display_data"
    }
   ],
   "source": [
    "plt.figure(figsize=(11,6));\n",
    "plt.bar(group_rt_gp['runtime'],group_rt_gp['revenue'],width=1.5);\n",
    "plt.title('Movie runtime and Revenue');\n",
    "plt.xlabel('Runtime');\n",
    "plt.ylabel('Revenue'),\n",
    "plt.show()\n"
   ]
  },
  {
   "cell_type": "code",
   "execution_count": 182,
   "metadata": {},
   "outputs": [],
   "source": [
    "# whats the average runtime for movies with their ROI over a certain amount"
   ]
  },
  {
   "cell_type": "markdown",
   "metadata": {},
   "source": [
    "## Analyzing release month and gross profit"
   ]
  },
  {
   "cell_type": "markdown",
   "metadata": {},
   "source": [
    "1. Is there a month where people will spend more to watch a movie? \n",
    "2. Maybe we should release our film during a specific time of the year?"
   ]
  },
  {
   "cell_type": "code",
   "execution_count": 258,
   "metadata": {},
   "outputs": [],
   "source": [
    "# Creating pandas datetime from the release date string\n",
    "movies_with_gross_profit['release_date'] = pd.to_datetime(movies_with_gross_profit['release_date'])"
   ]
  },
  {
   "cell_type": "code",
   "execution_count": 259,
   "metadata": {},
   "outputs": [],
   "source": [
    "# Adding column for the month of year it was released\n",
    "movies_with_gross_profit['release_month'] = pd.DatetimeIndex(movies_with_gross_profit['release_date']).month"
   ]
  },
  {
   "cell_type": "code",
   "execution_count": 260,
   "metadata": {
    "scrolled": false
   },
   "outputs": [
    {
     "data": {
      "text/html": [
       "<div>\n",
       "<style scoped>\n",
       "    .dataframe tbody tr th:only-of-type {\n",
       "        vertical-align: middle;\n",
       "    }\n",
       "\n",
       "    .dataframe tbody tr th {\n",
       "        vertical-align: top;\n",
       "    }\n",
       "\n",
       "    .dataframe thead th {\n",
       "        text-align: right;\n",
       "    }\n",
       "</style>\n",
       "<table border=\"1\" class=\"dataframe\">\n",
       "  <thead>\n",
       "    <tr style=\"text-align: right;\">\n",
       "      <th></th>\n",
       "      <th>release_month</th>\n",
       "      <th>gross_profit</th>\n",
       "    </tr>\n",
       "  </thead>\n",
       "  <tbody>\n",
       "    <tr>\n",
       "      <td>0</td>\n",
       "      <td>1</td>\n",
       "      <td>4.318331e+07</td>\n",
       "    </tr>\n",
       "    <tr>\n",
       "      <td>1</td>\n",
       "      <td>2</td>\n",
       "      <td>6.030782e+07</td>\n",
       "    </tr>\n",
       "    <tr>\n",
       "      <td>2</td>\n",
       "      <td>3</td>\n",
       "      <td>7.743303e+07</td>\n",
       "    </tr>\n",
       "    <tr>\n",
       "      <td>3</td>\n",
       "      <td>4</td>\n",
       "      <td>8.725812e+07</td>\n",
       "    </tr>\n",
       "    <tr>\n",
       "      <td>4</td>\n",
       "      <td>5</td>\n",
       "      <td>1.334785e+08</td>\n",
       "    </tr>\n",
       "    <tr>\n",
       "      <td>5</td>\n",
       "      <td>6</td>\n",
       "      <td>1.410546e+08</td>\n",
       "    </tr>\n",
       "    <tr>\n",
       "      <td>6</td>\n",
       "      <td>7</td>\n",
       "      <td>1.078288e+08</td>\n",
       "    </tr>\n",
       "    <tr>\n",
       "      <td>7</td>\n",
       "      <td>8</td>\n",
       "      <td>4.811661e+07</td>\n",
       "    </tr>\n",
       "    <tr>\n",
       "      <td>8</td>\n",
       "      <td>9</td>\n",
       "      <td>3.912906e+07</td>\n",
       "    </tr>\n",
       "    <tr>\n",
       "      <td>9</td>\n",
       "      <td>10</td>\n",
       "      <td>6.203410e+07</td>\n",
       "    </tr>\n",
       "    <tr>\n",
       "      <td>10</td>\n",
       "      <td>11</td>\n",
       "      <td>1.163250e+08</td>\n",
       "    </tr>\n",
       "    <tr>\n",
       "      <td>11</td>\n",
       "      <td>12</td>\n",
       "      <td>1.062264e+08</td>\n",
       "    </tr>\n",
       "  </tbody>\n",
       "</table>\n",
       "</div>"
      ],
      "text/plain": [
       "    release_month  gross_profit\n",
       "0               1  4.318331e+07\n",
       "1               2  6.030782e+07\n",
       "2               3  7.743303e+07\n",
       "3               4  8.725812e+07\n",
       "4               5  1.334785e+08\n",
       "5               6  1.410546e+08\n",
       "6               7  1.078288e+08\n",
       "7               8  4.811661e+07\n",
       "8               9  3.912906e+07\n",
       "9              10  6.203410e+07\n",
       "10             11  1.163250e+08\n",
       "11             12  1.062264e+08"
      ]
     },
     "execution_count": 260,
     "metadata": {},
     "output_type": "execute_result"
    }
   ],
   "source": [
    "# creating table for the plot\n",
    "grouped_by_month = movies_with_gross_profit.groupby(['release_month']).mean().reset_index()\n",
    "month_and_gp =grouped_by_month[['release_month','gross_profit']]\n",
    "month_and_gp"
   ]
  },
  {
   "cell_type": "code",
   "execution_count": 261,
   "metadata": {
    "scrolled": false
   },
   "outputs": [
    {
     "data": {
      "image/png": "[encoded data removed]",
      "text/plain": [
       "<Figure size 936x720 with 1 Axes>"
      ]
     },
     "metadata": {
      "needs_background": "light"
     },
     "output_type": "display_data"
    }
   ],
   "source": [
    "plt.figure(figsize=(13,10));\n",
    "months = ['Jan','Feb','Mar','Apr','May','Jun','Jul','Aug','Sep','Oct','Nov','Dec']\n",
    "plt.bar(x=months,height=month_and_gp['gross_profit']);\n",
    "plt.xlabel('Months')\n",
    "plt.ylabel('Mean Gross Profit (in hundred millions)')\n",
    "plt.title('Average Gross Profit by Months')\n",
    "plt.show()"
   ]
  },
  {
   "cell_type": "markdown",
   "metadata": {},
   "source": [
    "Looks like movies which are released in early summer (June) have a better gross profit"
   ]
  },
  {
   "cell_type": "markdown",
   "metadata": {},
   "source": [
    "Lets see if this theory holds true for revenue (sales)"
   ]
  },
  {
   "cell_type": "code",
   "execution_count": 262,
   "metadata": {},
   "outputs": [
    {
     "data": {
      "text/html": [
       "<div>\n",
       "<style scoped>\n",
       "    .dataframe tbody tr th:only-of-type {\n",
       "        vertical-align: middle;\n",
       "    }\n",
       "\n",
       "    .dataframe tbody tr th {\n",
       "        vertical-align: top;\n",
       "    }\n",
       "\n",
       "    .dataframe thead th {\n",
       "        text-align: right;\n",
       "    }\n",
       "</style>\n",
       "<table border=\"1\" class=\"dataframe\">\n",
       "  <thead>\n",
       "    <tr style=\"text-align: right;\">\n",
       "      <th></th>\n",
       "      <th>release_month</th>\n",
       "      <th>revenue</th>\n",
       "    </tr>\n",
       "  </thead>\n",
       "  <tbody>\n",
       "    <tr>\n",
       "      <td>0</td>\n",
       "      <td>1</td>\n",
       "      <td>7.202181e+07</td>\n",
       "    </tr>\n",
       "    <tr>\n",
       "      <td>1</td>\n",
       "      <td>2</td>\n",
       "      <td>9.328612e+07</td>\n",
       "    </tr>\n",
       "    <tr>\n",
       "      <td>2</td>\n",
       "      <td>3</td>\n",
       "      <td>1.179174e+08</td>\n",
       "    </tr>\n",
       "    <tr>\n",
       "      <td>3</td>\n",
       "      <td>4</td>\n",
       "      <td>1.257822e+08</td>\n",
       "    </tr>\n",
       "    <tr>\n",
       "      <td>4</td>\n",
       "      <td>5</td>\n",
       "      <td>1.859021e+08</td>\n",
       "    </tr>\n",
       "    <tr>\n",
       "      <td>5</td>\n",
       "      <td>6</td>\n",
       "      <td>1.942450e+08</td>\n",
       "    </tr>\n",
       "    <tr>\n",
       "      <td>6</td>\n",
       "      <td>7</td>\n",
       "      <td>1.552442e+08</td>\n",
       "    </tr>\n",
       "    <tr>\n",
       "      <td>7</td>\n",
       "      <td>8</td>\n",
       "      <td>8.015194e+07</td>\n",
       "    </tr>\n",
       "    <tr>\n",
       "      <td>8</td>\n",
       "      <td>9</td>\n",
       "      <td>6.455511e+07</td>\n",
       "    </tr>\n",
       "    <tr>\n",
       "      <td>9</td>\n",
       "      <td>10</td>\n",
       "      <td>9.522860e+07</td>\n",
       "    </tr>\n",
       "    <tr>\n",
       "      <td>10</td>\n",
       "      <td>11</td>\n",
       "      <td>1.657964e+08</td>\n",
       "    </tr>\n",
       "    <tr>\n",
       "      <td>11</td>\n",
       "      <td>12</td>\n",
       "      <td>1.508195e+08</td>\n",
       "    </tr>\n",
       "  </tbody>\n",
       "</table>\n",
       "</div>"
      ],
      "text/plain": [
       "    release_month       revenue\n",
       "0               1  7.202181e+07\n",
       "1               2  9.328612e+07\n",
       "2               3  1.179174e+08\n",
       "3               4  1.257822e+08\n",
       "4               5  1.859021e+08\n",
       "5               6  1.942450e+08\n",
       "6               7  1.552442e+08\n",
       "7               8  8.015194e+07\n",
       "8               9  6.455511e+07\n",
       "9              10  9.522860e+07\n",
       "10             11  1.657964e+08\n",
       "11             12  1.508195e+08"
      ]
     },
     "execution_count": 262,
     "metadata": {},
     "output_type": "execute_result"
    }
   ],
   "source": [
    "# repeating process for revenue\n",
    "grouped_by_month = movies_with_gross_profit.groupby(['release_month']).mean().reset_index()\n",
    "month_and_r =grouped_by_month[['release_month','revenue']]\n",
    "month_and_r"
   ]
  },
  {
   "cell_type": "code",
   "execution_count": 263,
   "metadata": {
    "scrolled": false
   },
   "outputs": [
    {
     "data": {
      "image/png": "[encoded data removed]",
      "text/plain": [
       "<Figure size 936x720 with 1 Axes>"
      ]
     },
     "metadata": {
      "needs_background": "light"
     },
     "output_type": "display_data"
    }
   ],
   "source": [
    "plt.figure(figsize=(13,10));\n",
    "months = ['Jan','Feb','Mar','Apr','May','Jun','Jul','Aug','Sep','Oct','Nov','Dec']\n",
    "plt.bar(x=months,height=month_and_r['revenue']);\n",
    "plt.xlabel('Months')\n",
    "plt.ylabel('Mean Revenue (in hundred millions)')\n",
    "plt.title('Average Revenue by Months')\n",
    "plt.show()"
   ]
  },
  {
   "cell_type": "markdown",
   "metadata": {},
   "source": [
    "Indeed! Movies released in June have the highest revenue! cool"
   ]
  },
  {
   "cell_type": "code",
   "execution_count": null,
   "metadata": {},
   "outputs": [],
   "source": []
  }
 ],
 "metadata": {
  "kernelspec": {
   "display_name": "Python 3",
   "language": "python",
   "name": "python3"
  },
  "language_info": {
   "codemirror_mode": {
    "name": "ipython",
    "version": 3
   },
   "file_extension": ".py",
   "mimetype": "text/x-python",
   "name": "python",
   "nbconvert_exporter": "python",
   "pygments_lexer": "ipython3",
   "version": "3.7.4"
  }
 },
 "nbformat": 4,
 "nbformat_minor": 2
}
