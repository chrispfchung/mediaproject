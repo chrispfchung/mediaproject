{
 "cells": [
  {
   "cell_type": "code",
   "execution_count": 154,
   "metadata": {},
   "outputs": [],
   "source": [
    "from bs4 import BeautifulSoup\n",
    "import requests\n",
    "import pandas as pd"
   ]
  },
  {
   "cell_type": "code",
   "execution_count": 155,
   "metadata": {},
   "outputs": [],
   "source": [
    "# ACADEMY WINNING MOVIES ON IMDB SORTED DESC BOX OFFICE HTML\n",
    "imdb_html = requests.get('https://www.imdb.com/search/title/?release_date=2010-01-01,&sort=boxoffice_gross_us,desc&count=250')\n",
    "soup = BeautifulSoup(imdb_html.content, 'html.parser')"
   ]
  },
  {
   "cell_type": "code",
   "execution_count": 156,
   "metadata": {
    "scrolled": false
   },
   "outputs": [],
   "source": [
    "# Scraped through the html code to find the div with the movies\n",
    "main_div_tag = soup.find('div', {'class':'lister-list'})"
   ]
  },
  {
   "cell_type": "code",
   "execution_count": 157,
   "metadata": {},
   "outputs": [],
   "source": [
    "# returns all 250 movies per page\n",
    "movies_per_page = main_div_tag.find_all('div', {'class':'lister-item mode-advanced'})"
   ]
  },
  {
   "cell_type": "code",
   "execution_count": 158,
   "metadata": {},
   "outputs": [],
   "source": [
    "# returns list of contents from page (250)\n",
    "contents = []\n",
    "for item in movies_per_page:\n",
    "    contents.append(item.find('div',{'class':'lister-item-content'}))"
   ]
  },
  {
   "cell_type": "code",
   "execution_count": 159,
   "metadata": {},
   "outputs": [],
   "source": [
    "# looks through contents and retrieves movie id (imdb)\n",
    "movie_ids =[]\n",
    "for i in contents:\n",
    "    movie_ids.append(i.find('h3').find('a')['href'].split('/')[2])"
   ]
  },
  {
   "cell_type": "code",
   "execution_count": 160,
   "metadata": {},
   "outputs": [],
   "source": [
    "# retrieves movie titles\n",
    "movie_titles =[]\n",
    "for i in contents:\n",
    "    movie_titles.append(str(i.find('h3').find('a')).split('>')[1].split('<')[0])"
   ]
  },
  {
   "cell_type": "code",
   "execution_count": 161,
   "metadata": {},
   "outputs": [],
   "source": [
    "# to retrieve movie release year\n",
    "years =[]\n",
    "for i in contents:\n",
    "    year = str(i.find('h3').find('span', {'class':'lister-item-year text-muted unbold'})).split('(')[-1].split(')')[0]\n",
    "    years.append(int(year))"
   ]
  },
  {
   "cell_type": "code",
   "execution_count": 162,
   "metadata": {},
   "outputs": [],
   "source": [
    "# retrieves rating\n",
    "ratings =[]\n",
    "for i in contents:\n",
    "    ratings.append(str(i.find('p').find('span',{'class':'certificate'})).split('>')[1].split('<')[0])"
   ]
  },
  {
   "cell_type": "code",
   "execution_count": 163,
   "metadata": {},
   "outputs": [],
   "source": [
    "# retrieves runtime\n",
    "runtimes =[]\n",
    "for i in contents:\n",
    "    runtimes.append(str(i.find('p').find('span',{'class':'runtime'})).split('>')[1].split('<')[0].split()[0])"
   ]
  },
  {
   "cell_type": "code",
   "execution_count": 164,
   "metadata": {},
   "outputs": [],
   "source": [
    "# retrieves genres and cleans it, creates list of genres for each movie\n",
    "genres = []\n",
    "for i in contents:\n",
    "    clean_genre = []\n",
    "    genres_unclean = str(i.find('p').find('span',{'class':'genre'})).split('>')[1].split('<')[0].split('\\n')[1].split(',')\n",
    "    for genr in genres_unclean:\n",
    "        clean_genre.append(genr.strip())\n",
    "    genres.append(clean_genre)   "
   ]
  },
  {
   "cell_type": "code",
   "execution_count": 173,
   "metadata": {},
   "outputs": [],
   "source": [
    "# Finds imdb rating\n",
    "imdb_rating = []\n",
    "for i in contents:\n",
    "    imdb_rating.append(float(i.find('div',{'class':'inline-block ratings-imdb-rating'})['data-value']))"
   ]
  },
  {
   "cell_type": "code",
   "execution_count": 192,
   "metadata": {},
   "outputs": [],
   "source": [
    "# Finds metascore rating\n",
    "meta_score_rating = []\n",
    "for i in contents:\n",
    "    score = str(i.find('div',{'class':'inline-block ratings-metascore'}).find('span')).split('>')[1].split('<')[0].strip()\n",
    "    meta_score_rating.append(int(score))"
   ]
  },
  {
   "cell_type": "code",
   "execution_count": null,
   "metadata": {},
   "outputs": [],
   "source": []
  },
  {
   "cell_type": "code",
   "execution_count": null,
   "metadata": {},
   "outputs": [],
   "source": []
  },
  {
   "cell_type": "code",
   "execution_count": null,
   "metadata": {},
   "outputs": [],
   "source": []
  },
  {
   "cell_type": "code",
   "execution_count": null,
   "metadata": {},
   "outputs": [],
   "source": []
  },
  {
   "cell_type": "code",
   "execution_count": null,
   "metadata": {},
   "outputs": [],
   "source": []
  },
  {
   "cell_type": "code",
   "execution_count": 199,
   "metadata": {},
   "outputs": [],
   "source": [
    "# for loop through each row in the table to retrieve the movie index number for imdb\n",
    "imdb_popular_movies_indices = [row.a['href'].split('/')[2] for row in table_body_tag.find_all('tr')]"
   ]
  },
  {
   "cell_type": "code",
   "execution_count": 200,
   "metadata": {},
   "outputs": [],
   "source": [
    "# API CALLS RETRIEVES list of 100 json files each representing one movie\n",
    "pop_100_jsons = [requests.get(f\"http://www.omdbapi.com/?i={i}&apikey=5a111996\").json() for i in imdb_popular_movies_indices]"
   ]
  },
  {
   "cell_type": "code",
   "execution_count": 202,
   "metadata": {},
   "outputs": [],
   "source": [
    "# Creating a pandas DataFrame and converting into CSV file\n",
    "pd.DataFrame(pop_100_jsons).to_csv('imdb_100_popular_movies.csv')"
   ]
  },
  {
   "cell_type": "code",
   "execution_count": null,
   "metadata": {},
   "outputs": [],
   "source": []
  }
 ],
 "metadata": {
  "kernelspec": {
   "display_name": "Python 3",
   "language": "python",
   "name": "python3"
  },
  "language_info": {
   "codemirror_mode": {
    "name": "ipython",
    "version": 3
   },
   "file_extension": ".py",
   "mimetype": "text/x-python",
   "name": "python",
   "nbconvert_exporter": "python",
   "pygments_lexer": "ipython3",
   "version": "3.7.4"
  }
 },
 "nbformat": 4,
 "nbformat_minor": 2
}
