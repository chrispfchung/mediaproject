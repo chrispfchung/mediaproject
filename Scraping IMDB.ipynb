{
 "cells": [
  {
   "cell_type": "code",
   "execution_count": 94,
   "metadata": {},
   "outputs": [],
   "source": [
    "from bs4 import BeautifulSoup\n",
    "import requests\n",
    "import pandas as pd"
   ]
  },
  {
   "cell_type": "code",
   "execution_count": 95,
   "metadata": {},
   "outputs": [],
   "source": [
    "# TOP 100 POPULAR MOVIES ON IMDB HTML\n",
    "imdb_pop_html = requests.get('https://www.imdb.com/chart/moviemeter/?sort=us,asc&mode=simple&page=1')\n",
    "soup = BeautifulSoup(imdb_pop_html.content, 'html.parser')"
   ]
  },
  {
   "cell_type": "code",
   "execution_count": 96,
   "metadata": {
    "scrolled": false
   },
   "outputs": [],
   "source": [
    "# Scraped through the html code to find the table with the movies\n",
    "table_body_tag = soup.find('tbody',{'class':'lister-list'})"
   ]
  },
  {
   "cell_type": "code",
   "execution_count": 97,
   "metadata": {},
   "outputs": [],
   "source": [
    "# for loop through each row in the table to retrieve the movie index number for imdb\n",
    "imdb_popular_movies_indices = [row.a['href'].split('/')[2] for row in table_body_tag.find_all('tr')]"
   ]
  },
  {
   "cell_type": "code",
   "execution_count": 134,
   "metadata": {},
   "outputs": [],
   "source": [
    "# API CALLS RETRIEVES list of 100 json files each representing one movie\n",
    "pop_100_jsons = [requests.get(f\"http://www.omdbapi.com/?i={i}&apikey=5a111996\").json() for i in imdb_popular_movies_indices]"
   ]
  },
  {
   "cell_type": "code",
   "execution_count": 137,
   "metadata": {},
   "outputs": [],
   "source": [
    "json_keys = pop_100_jsons[0].keys()"
   ]
  },
  {
   "cell_type": "code",
   "execution_count": 150,
   "metadata": {},
   "outputs": [],
   "source": [
    "for json in pop_100_jsons:\n",
    "    for sources in json['Ratings']:\n",
    "        json[sources['Source']] = sources['Value']"
   ]
  },
  {
   "cell_type": "code",
   "execution_count": 156,
   "metadata": {},
   "outputs": [
    {
     "data": {
      "text/plain": [
       "{'Title': 'Candyman',\n",
       " 'Year': '1992',\n",
       " 'Rated': 'R',\n",
       " 'Released': '16 Oct 1992',\n",
       " 'Runtime': '99 min',\n",
       " 'Genre': 'Horror, Thriller',\n",
       " 'Director': 'Bernard Rose',\n",
       " 'Writer': 'Clive Barker (based on \"The Forbidden\" by), Bernard Rose',\n",
       " 'Actors': 'Virginia Madsen, Tony Todd, Xander Berkeley, Kasi Lemmons',\n",
       " 'Plot': \"The Candyman, a murderous soul with a hook for a hand, is accidentally summoned to reality by a skeptic grad student researching the monster's myth.\",\n",
       " 'Language': 'English',\n",
       " 'Country': 'USA, UK',\n",
       " 'Awards': '5 wins & 7 nominations.',\n",
       " 'Poster': 'https://m.media-amazon.com/images/M/MV5BYjVjYjhlNTQtN2UxOC00Njk5LWFjNDctODNjZTI1ZGM0ZDZkXkEyXkFqcGdeQXVyMTQxNzMzNDI@._V1_SX300.jpg',\n",
       " 'Ratings': [{'Source': 'Internet Movie Database', 'Value': '6.6/10'},\n",
       "  {'Source': 'Rotten Tomatoes', 'Value': '75%'},\n",
       "  {'Source': 'Metacritic', 'Value': '61/100'}],\n",
       " 'Metascore': '61',\n",
       " 'imdbRating': '6.6',\n",
       " 'imdbVotes': '62,821',\n",
       " 'imdbID': 'tt0103919',\n",
       " 'Type': 'movie',\n",
       " 'DVD': '07 Aug 2001',\n",
       " 'BoxOffice': 'N/A',\n",
       " 'Production': 'Sony Pictures Home Entertainment',\n",
       " 'Website': 'N/A',\n",
       " 'Response': 'True',\n",
       " 'Internet Movie Database': '6.6/10',\n",
       " 'Rotten Tomatoes': '75%',\n",
       " 'Metacritic': '61/100'}"
      ]
     },
     "execution_count": 156,
     "metadata": {},
     "output_type": "execute_result"
    }
   ],
   "source": [
    "pop_100_jsons[1]"
   ]
  },
  {
   "cell_type": "code",
   "execution_count": null,
   "metadata": {},
   "outputs": [],
   "source": []
  }
 ],
 "metadata": {
  "kernelspec": {
   "display_name": "Python 3",
   "language": "python",
   "name": "python3"
  },
  "language_info": {
   "codemirror_mode": {
    "name": "ipython",
    "version": 3
   },
   "file_extension": ".py",
   "mimetype": "text/x-python",
   "name": "python",
   "nbconvert_exporter": "python",
   "pygments_lexer": "ipython3",
   "version": "3.7.4"
  }
 },
 "nbformat": 4,
 "nbformat_minor": 2
}
